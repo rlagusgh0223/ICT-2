{
 "cells": [
  {
   "cell_type": "markdown",
   "id": "024601a3",
   "metadata": {},
   "source": [
    "# 자연어 생성 방법\n",
    "## 기계 학습을 이용한 자연어 생성\n",
    "- 단계로 나누는게 아니라 처음부터 끝까지 하나의 어떤 모형으로 만든다\n",
    "- 단점 : 데이터가 많이 필요하다, 세세하게 제어하기 어렵다\n",
    "  \n",
    "자연어 처리는 기계학습을 기준으로 연구가 이루어지지만, 현실적으로 기계학습 만으로 솔루션을 만들기는 어렵다. -> 실제 솔루션 개발은 혼합적으로 이루어지는 경우가 많음  \n",
    "  \n",
    "## 글자 수준 토큰화\n",
    "- 장점 : 미등록 어휘 문제가 없다(신조어같은)\n",
    "- 단점 : 글자를 잘게 쪼개버려서 문법/의미를 무시하고 글자단위로만 받다 보니(ex. 텍스트 -> 텍, 스, 트) 처리가 잘 안되고 데이터도 많아진다.\n",
    "  \n",
    "# 유니코드 정규화\n",
    "## 유니코드\n",
    "- 글자들 마다 번호를 붙여서 하나의 통일된 번호 체계를 만듦(국제표준)\n",
    "\n",
    "## 유니코드 정규화\n",
    "- 동등한 문자가 있을 때 어떻게 통일성 있게 다룰 것인지(저장을 어떻게 할 것인지)\n",
    "- NFD : 맥에서 사용(풀어쓰기 - ㄱ, ㅏ ,ㄴ)\n",
    "- NFC : 윈도우, 리눅스에서 사용(모아쓰기 - 간)\n",
    "- NFD / NFC -> 내부적인 과정이라 일반 사용자에게는 동일하게 보임. 단, NFD 파일을 윈도우는 잘 못 받는 식으로 문제가 생김(파일 내용은 문제 없으나 파일 제목이 이상해질 수 있음)\n",
    "\n",
    "# 파이썬으로 한글 풀어쓰기 실습"
   ]
  },
  {
   "cell_type": "code",
   "execution_count": 1,
   "id": "10863088",
   "metadata": {},
   "outputs": [
    {
     "data": {
      "text/plain": [
       "5"
      ]
     },
     "execution_count": 1,
     "metadata": {},
     "output_type": "execute_result"
    }
   ],
   "source": [
    "x = '안녕하세요'\n",
    "len(x)"
   ]
  },
  {
   "cell_type": "code",
   "execution_count": 2,
   "id": "8149862e",
   "metadata": {},
   "outputs": [
    {
     "data": {
      "text/plain": [
       "['안', '녕', '하', '세', '요']"
      ]
     },
     "execution_count": 2,
     "metadata": {},
     "output_type": "execute_result"
    }
   ],
   "source": [
    "list(x)    # 파이썬에서는 리스트로 변환하면 자동으로 글자별로 나눠준다"
   ]
  },
  {
   "cell_type": "code",
   "execution_count": 4,
   "id": "e3ad7dbc",
   "metadata": {},
   "outputs": [
    {
     "data": {
      "text/plain": [
       "'안녕하세요'"
      ]
     },
     "execution_count": 4,
     "metadata": {},
     "output_type": "execute_result"
    }
   ],
   "source": [
    "import unicodedata\n",
    "y = unicodedata.normalize('NFD', x)\n",
    "y"
   ]
  },
  {
   "cell_type": "code",
   "execution_count": 5,
   "id": "eea6a83f",
   "metadata": {},
   "outputs": [
    {
     "data": {
      "text/plain": [
       "False"
      ]
     },
     "execution_count": 5,
     "metadata": {},
     "output_type": "execute_result"
    }
   ],
   "source": [
    "x == y    #  출력할때는 동일하지만 x는 모아쓰기, y는 풀어쓰기라 서로 다르다."
   ]
  },
  {
   "cell_type": "code",
   "execution_count": 8,
   "id": "cea21ec2",
   "metadata": {},
   "outputs": [
    {
     "data": {
      "text/plain": [
       "'안'"
      ]
     },
     "execution_count": 8,
     "metadata": {},
     "output_type": "execute_result"
    }
   ],
   "source": [
    "x[0]"
   ]
  },
  {
   "cell_type": "code",
   "execution_count": 9,
   "id": "51f6dc18",
   "metadata": {},
   "outputs": [
    {
     "data": {
      "text/plain": [
       "'ᄋ'"
      ]
     },
     "execution_count": 9,
     "metadata": {},
     "output_type": "execute_result"
    }
   ],
   "source": [
    "y[0]"
   ]
  },
  {
   "cell_type": "code",
   "execution_count": 10,
   "id": "0b89625f",
   "metadata": {},
   "outputs": [
    {
     "data": {
      "text/plain": [
       "['ᄋ', 'ᅡ', 'ᆫ', 'ᄂ', 'ᅧ', 'ᆼ', 'ᄒ', 'ᅡ', 'ᄉ', 'ᅦ', 'ᄋ', 'ᅭ']"
      ]
     },
     "execution_count": 10,
     "metadata": {},
     "output_type": "execute_result"
    }
   ],
   "source": [
    "list(y)"
   ]
  },
  {
   "cell_type": "code",
   "execution_count": 11,
   "id": "7ec1973d",
   "metadata": {},
   "outputs": [
    {
     "data": {
      "text/plain": [
       "'ᆼ'"
      ]
     },
     "execution_count": 11,
     "metadata": {},
     "output_type": "execute_result"
    }
   ],
   "source": [
    "y[5]"
   ]
  },
  {
   "cell_type": "code",
   "execution_count": 12,
   "id": "6957c5ea",
   "metadata": {},
   "outputs": [
    {
     "data": {
      "text/plain": [
       "False"
      ]
     },
     "execution_count": 12,
     "metadata": {},
     "output_type": "execute_result"
    }
   ],
   "source": [
    "y[0] == y[5]    # 둘 다 'ㅇ'이지만 y[0]은 초성이고, y[5]는 종성이라 다른걸로 인식한다."
   ]
  },
  {
   "cell_type": "code",
   "execution_count": 16,
   "id": "30e9446a",
   "metadata": {},
   "outputs": [
    {
     "data": {
      "text/plain": [
       "4363"
      ]
     },
     "execution_count": 16,
     "metadata": {},
     "output_type": "execute_result"
    }
   ],
   "source": [
    "ord(y[0])"
   ]
  },
  {
   "cell_type": "code",
   "execution_count": 15,
   "id": "03449e16",
   "metadata": {},
   "outputs": [
    {
     "data": {
      "text/plain": [
       "4540"
      ]
     },
     "execution_count": 15,
     "metadata": {},
     "output_type": "execute_result"
    }
   ],
   "source": [
    "ord(y[5])"
   ]
  },
  {
   "cell_type": "code",
   "execution_count": 18,
   "id": "564331fa",
   "metadata": {},
   "outputs": [
    {
     "data": {
      "text/plain": [
       "12615"
      ]
     },
     "execution_count": 18,
     "metadata": {},
     "output_type": "execute_result"
    }
   ],
   "source": [
    "ord('ㅇ')"
   ]
  },
  {
   "cell_type": "markdown",
   "id": "84dc8aa4",
   "metadata": {},
   "source": [
    "# 준단어 토큰화(Byte Pair Encoding)\n",
    "- 인공신경망을 이용한 번역?\n",
    "- 준단어를 이용하여 자주 안나오는 단어 문제 해결하려는 의도\n",
    "\n",
    "## BPE 알고리즘\n",
    "- 일반 텍스트가 있으면 공백을 기준으로 단어를 구분\n",
    "- 나눈 후 단어의 빈도를 세고 자주 나오는 글자의 조합을 찾는다\n",
    "\n",
    "## SentencePiece\n",
    "- BPE나 WordPiece는 띄어쓰기를 이용한 단어 구분이 어려울때 쓰기 힘들다(ex. 중국어)\n",
    "- SentencePiece는 빈 칸을 별개의 토큰으로 취급\n",
    "- BPE나 WordPiece보다 빠르다\n",
    "\n",
    "# 준단어 토큰화 실습"
   ]
  },
  {
   "cell_type": "markdown",
   "id": "bc1e5ee5",
   "metadata": {},
   "source": [
    "## 1. 설치"
   ]
  },
  {
   "cell_type": "code",
   "execution_count": 24,
   "id": "b9472cb0",
   "metadata": {},
   "outputs": [
    {
     "name": "stdout",
     "output_type": "stream",
     "text": [
      "Requirement already satisfied: tokenizers in c:\\users\\owner\\anaconda3\\lib\\site-packages (0.11.6)\n"
     ]
    }
   ],
   "source": [
    "!pip install tokenizers"
   ]
  },
  {
   "cell_type": "code",
   "execution_count": 25,
   "id": "49767907",
   "metadata": {},
   "outputs": [
    {
     "name": "stdout",
     "output_type": "stream",
     "text": [
      "100% [............................................................................] 889842 / 889842"
     ]
    },
    {
     "data": {
      "text/plain": [
       "'ChatbotData.csv'"
      ]
     },
     "execution_count": 25,
     "metadata": {},
     "output_type": "execute_result"
    }
   ],
   "source": [
    "import wget\n",
    "wget.download(\"https://github.com/songys/Chatbot_data/raw/master/ChatbotData.csv\")"
   ]
  },
  {
   "cell_type": "code",
   "execution_count": 26,
   "id": "2fe48b99",
   "metadata": {},
   "outputs": [],
   "source": [
    "import os\n",
    "os.rename('ChatbotData.csv', 'chatbot.csv')"
   ]
  },
  {
   "cell_type": "code",
   "execution_count": 2,
   "id": "2fa50491",
   "metadata": {
    "scrolled": true
   },
   "outputs": [
    {
     "data": {
      "text/html": [
       "<div>\n",
       "<style scoped>\n",
       "    .dataframe tbody tr th:only-of-type {\n",
       "        vertical-align: middle;\n",
       "    }\n",
       "\n",
       "    .dataframe tbody tr th {\n",
       "        vertical-align: top;\n",
       "    }\n",
       "\n",
       "    .dataframe thead th {\n",
       "        text-align: right;\n",
       "    }\n",
       "</style>\n",
       "<table border=\"1\" class=\"dataframe\">\n",
       "  <thead>\n",
       "    <tr style=\"text-align: right;\">\n",
       "      <th></th>\n",
       "      <th>Q</th>\n",
       "      <th>A</th>\n",
       "      <th>label</th>\n",
       "    </tr>\n",
       "  </thead>\n",
       "  <tbody>\n",
       "    <tr>\n",
       "      <th>0</th>\n",
       "      <td>12시 땡!</td>\n",
       "      <td>하루가 또 가네요.</td>\n",
       "      <td>0</td>\n",
       "    </tr>\n",
       "    <tr>\n",
       "      <th>1</th>\n",
       "      <td>1지망 학교 떨어졌어</td>\n",
       "      <td>위로해 드립니다.</td>\n",
       "      <td>0</td>\n",
       "    </tr>\n",
       "    <tr>\n",
       "      <th>2</th>\n",
       "      <td>3박4일 놀러가고 싶다</td>\n",
       "      <td>여행은 언제나 좋죠.</td>\n",
       "      <td>0</td>\n",
       "    </tr>\n",
       "    <tr>\n",
       "      <th>3</th>\n",
       "      <td>3박4일 정도 놀러가고 싶다</td>\n",
       "      <td>여행은 언제나 좋죠.</td>\n",
       "      <td>0</td>\n",
       "    </tr>\n",
       "    <tr>\n",
       "      <th>4</th>\n",
       "      <td>PPL 심하네</td>\n",
       "      <td>눈살이 찌푸려지죠.</td>\n",
       "      <td>0</td>\n",
       "    </tr>\n",
       "  </tbody>\n",
       "</table>\n",
       "</div>"
      ],
      "text/plain": [
       "                 Q            A  label\n",
       "0           12시 땡!   하루가 또 가네요.      0\n",
       "1      1지망 학교 떨어졌어    위로해 드립니다.      0\n",
       "2     3박4일 놀러가고 싶다  여행은 언제나 좋죠.      0\n",
       "3  3박4일 정도 놀러가고 싶다  여행은 언제나 좋죠.      0\n",
       "4          PPL 심하네   눈살이 찌푸려지죠.      0"
      ]
     },
     "execution_count": 2,
     "metadata": {},
     "output_type": "execute_result"
    }
   ],
   "source": [
    "import pandas as pd\n",
    "df = pd.read_csv(r'C:\\Users\\Owner\\Desktop\\khh\\git\\ICT\\chatbot.csv')    # chatbot.csv 파일 용량때문에 ICT 폴더로 옮겼다\n",
    "df.head()"
   ]
  },
  {
   "cell_type": "code",
   "execution_count": 31,
   "id": "45ec4a5c",
   "metadata": {},
   "outputs": [],
   "source": [
    "with open(r'C:\\Users\\Owner\\Desktop\\khh\\git\\ICT\\sample.txt', 'w', encoding='utf8') as f:\n",
    "    for row in df.itertuples():\n",
    "        f.write(row.Q + '\\n')\n",
    "        f.write(row.A + '\\n')"
   ]
  },
  {
   "cell_type": "code",
   "execution_count": 1,
   "id": "1ff79c09",
   "metadata": {},
   "outputs": [],
   "source": [
    "from tokenizers import CharBPETokenizer    # 글자 단위의 BPE 토크나이저\n",
    "bpe = CharBPETokenizer(lowercase=True)"
   ]
  },
  {
   "cell_type": "code",
   "execution_count": 33,
   "id": "9cc77ec8",
   "metadata": {},
   "outputs": [],
   "source": [
    "# min_frequency : 최소 몇 번 나와야 어휘에 포함시킬거냐에 대한 기준(기본값:2)\n",
    "# vocab_size : 학습시킬 어휘 개수\n",
    "bpe.train(files=r'C:\\Users\\Owner\\Desktop\\khh\\git\\ICT\\sample.txt', min_frequency=1, vocab_size=5000)"
   ]
  },
  {
   "cell_type": "code",
   "execution_count": 34,
   "id": "c5843274",
   "metadata": {},
   "outputs": [],
   "source": [
    "enc = bpe.encode('자연어 처리는 재밌다!')"
   ]
  },
  {
   "cell_type": "code",
   "execution_count": 36,
   "id": "9a33b33a",
   "metadata": {
    "scrolled": true
   },
   "outputs": [
    {
     "data": {
      "text/plain": [
       "[2204, 1007, 798, 1873, 2249, 1020, 1610]"
      ]
     },
     "execution_count": 36,
     "metadata": {},
     "output_type": "execute_result"
    }
   ],
   "source": [
    "enc.ids    # 고유 번호 보기"
   ]
  },
  {
   "cell_type": "code",
   "execution_count": 37,
   "id": "fc2abb35",
   "metadata": {},
   "outputs": [
    {
     "data": {
      "text/plain": [
       "['자연', '어</w>', '처', '리는</w>', '재밌', '다</w>', '!</w>']"
      ]
     },
     "execution_count": 37,
     "metadata": {},
     "output_type": "execute_result"
    }
   ],
   "source": [
    "enc.tokens    # 고유 번호가 뭐로 이루어져 있는지 보기"
   ]
  },
  {
   "cell_type": "markdown",
   "id": "3b0ac38b",
   "metadata": {},
   "source": [
    "## 2. 풀어쓰기"
   ]
  },
  {
   "cell_type": "code",
   "execution_count": 6,
   "id": "e95704bf",
   "metadata": {},
   "outputs": [],
   "source": [
    "import unicodedata\n",
    "\n",
    "with open(r'C:\\Users\\Owner\\Desktop\\khh\\git\\ICT\\decomposed.txt', 'w', encoding='utf8') as f:\n",
    "    for row in df.itertuples():\n",
    "        q = unicodedata.normalize('NFD', row.Q)\n",
    "        f.write(q + '\\n')\n",
    "        a = unicodedata.normalize('NFD', row.A)\n",
    "        f.write(a + '\\n')"
   ]
  },
  {
   "cell_type": "markdown",
   "id": "85fe8dc8",
   "metadata": {},
   "source": [
    "## 3. 풀어쓰기 BPE"
   ]
  },
  {
   "cell_type": "code",
   "execution_count": 3,
   "id": "67044082",
   "metadata": {},
   "outputs": [],
   "source": [
    "bpe = CharBPETokenizer(lowercase=True)"
   ]
  },
  {
   "cell_type": "code",
   "execution_count": 4,
   "id": "5efe77ef",
   "metadata": {},
   "outputs": [],
   "source": [
    "bpe.train(files=r'C:\\Users\\Owner\\Desktop\\khh\\git\\ICT\\decomposed.txt', min_frequency=1, vocab_size=5000)"
   ]
  },
  {
   "cell_type": "code",
   "execution_count": 7,
   "id": "7b556857",
   "metadata": {},
   "outputs": [],
   "source": [
    "text = unicodedata.normalize('NFD', '자연어 처리는 재밌다!')\n",
    "enc = bpe.encode(text)"
   ]
  },
  {
   "cell_type": "code",
   "execution_count": 8,
   "id": "8f96580d",
   "metadata": {},
   "outputs": [
    {
     "data": {
      "text/plain": [
       "[1290, 204, 299, 1547, 819, 1365, 149]"
      ]
     },
     "execution_count": 8,
     "metadata": {},
     "output_type": "execute_result"
    }
   ],
   "source": [
    "enc.ids"
   ]
  },
  {
   "cell_type": "code",
   "execution_count": 9,
   "id": "ddd654af",
   "metadata": {},
   "outputs": [
    {
     "data": {
      "text/plain": [
       "['자연', '어</w>', '처', '리는</w>', '재미', 'ᆻ다</w>', '!</w>']"
      ]
     },
     "execution_count": 9,
     "metadata": {},
     "output_type": "execute_result"
    }
   ],
   "source": [
    "enc.tokens"
   ]
  },
  {
   "cell_type": "markdown",
   "id": "99b19f5b",
   "metadata": {},
   "source": [
    "## 4. Byte-level BPE"
   ]
  },
  {
   "cell_type": "code",
   "execution_count": 10,
   "id": "dc54adef",
   "metadata": {},
   "outputs": [],
   "source": [
    "from tokenizers import ByteLevelBPETokenizer"
   ]
  },
  {
   "cell_type": "code",
   "execution_count": 12,
   "id": "4d6546a8",
   "metadata": {},
   "outputs": [],
   "source": [
    "byte = ByteLevelBPETokenizer(lowercase=True)"
   ]
  },
  {
   "cell_type": "code",
   "execution_count": 13,
   "id": "754ecb39",
   "metadata": {},
   "outputs": [],
   "source": [
    "byte.train(files=r'C:\\Users\\Owner\\Desktop\\khh\\git\\ICT\\sample.txt', min_frequency=1, vocab_size=5000)"
   ]
  },
  {
   "cell_type": "code",
   "execution_count": 14,
   "id": "ad40b73b",
   "metadata": {},
   "outputs": [],
   "source": [
    "enc = byte.encode('자연어 처리는 재밌다!')"
   ]
  },
  {
   "cell_type": "code",
   "execution_count": 15,
   "id": "be50626f",
   "metadata": {},
   "outputs": [
    {
     "data": {
      "text/plain": [
       "[2500, 273, 3488, 99, 1056, 2276, 294, 0]"
      ]
     },
     "execution_count": 15,
     "metadata": {},
     "output_type": "execute_result"
    }
   ],
   "source": [
    "enc.ids"
   ]
  },
  {
   "cell_type": "code",
   "execution_count": 16,
   "id": "eab23396",
   "metadata": {},
   "outputs": [
    {
     "data": {
      "text/plain": [
       "['ìŀĲìĹ°', 'ìĸ´', 'Ġì²ĺë', '¦', '¬ëĬĶ', 'Ġìŀ¬ë°Į', 'ëĭ¤', '!']"
      ]
     },
     "execution_count": 16,
     "metadata": {},
     "output_type": "execute_result"
    }
   ],
   "source": [
    "enc.tokens    # 한글은 2-3byte인데 여기서 1byte로 쪼개다 보니 한글이 아닌것처럼 보인다"
   ]
  },
  {
   "cell_type": "markdown",
   "id": "6a7bbd21",
   "metadata": {},
   "source": [
    "## 5. WordPiece model"
   ]
  },
  {
   "cell_type": "code",
   "execution_count": 17,
   "id": "b58733d8",
   "metadata": {},
   "outputs": [],
   "source": [
    "from tokenizers import BertWordPieceTokenizer"
   ]
  },
  {
   "cell_type": "code",
   "execution_count": 18,
   "id": "58dd5641",
   "metadata": {},
   "outputs": [],
   "source": [
    "wp = BertWordPieceTokenizer(lowercase=True)"
   ]
  },
  {
   "cell_type": "code",
   "execution_count": 20,
   "id": "06f3e205",
   "metadata": {},
   "outputs": [],
   "source": [
    "wp.train(files=r'C:\\Users\\Owner\\Desktop\\khh\\git\\ICT\\sample.txt', min_frequency=1, vocab_size=5000)"
   ]
  },
  {
   "cell_type": "code",
   "execution_count": 21,
   "id": "04905cf3",
   "metadata": {},
   "outputs": [],
   "source": [
    "enc = wp.encode('자연어 처리는 재밌다!')"
   ]
  },
  {
   "cell_type": "code",
   "execution_count": 22,
   "id": "69667d5e",
   "metadata": {},
   "outputs": [
    {
     "data": {
      "text/plain": [
       "[1379, 201, 1014, 1028, 3349, 216, 5]"
      ]
     },
     "execution_count": 22,
     "metadata": {},
     "output_type": "execute_result"
    }
   ],
   "source": [
    "enc.ids"
   ]
  },
  {
   "cell_type": "code",
   "execution_count": 23,
   "id": "450e8719",
   "metadata": {},
   "outputs": [
    {
     "data": {
      "text/plain": [
       "['자연', '##어', '처', '##리는', '재밌', '##다', '!']"
      ]
     },
     "execution_count": 23,
     "metadata": {},
     "output_type": "execute_result"
    }
   ],
   "source": [
    "enc.tokens"
   ]
  },
  {
   "cell_type": "markdown",
   "id": "7919da75",
   "metadata": {},
   "source": [
    "## 6. SentencePiece model"
   ]
  },
  {
   "cell_type": "code",
   "execution_count": 24,
   "id": "a8921f5f",
   "metadata": {},
   "outputs": [],
   "source": [
    "from tokenizers import SentencePieceBPETokenizer"
   ]
  },
  {
   "cell_type": "code",
   "execution_count": 30,
   "id": "88136a58",
   "metadata": {},
   "outputs": [],
   "source": [
    "sp = SentencePieceBPETokenizer()"
   ]
  },
  {
   "cell_type": "code",
   "execution_count": 39,
   "id": "6680ba27",
   "metadata": {},
   "outputs": [],
   "source": [
    "sp.train(files=r'C:\\Users\\Owner\\Desktop\\khh\\git\\ICT\\sample.txt', min_frequency=1, vocab_size=5000)"
   ]
  },
  {
   "cell_type": "code",
   "execution_count": 40,
   "id": "1a0c7a83",
   "metadata": {},
   "outputs": [],
   "source": [
    "enc = sp.encode(\"자연어 처리는 재밌다!\")"
   ]
  },
  {
   "cell_type": "code",
   "execution_count": 41,
   "id": "b97bea50",
   "metadata": {},
   "outputs": [
    {
     "data": {
      "text/plain": [
       "Encoding(num_tokens=7, attributes=[ids, type_ids, tokens, offsets, attention_mask, special_tokens_mask, overflowing])"
      ]
     },
     "execution_count": 41,
     "metadata": {},
     "output_type": "execute_result"
    }
   ],
   "source": [
    "enc"
   ]
  },
  {
   "cell_type": "code",
   "execution_count": 42,
   "id": "2dcab9ef",
   "metadata": {},
   "outputs": [
    {
     "data": {
      "text/plain": [
       "[1888, 616, 1543, 1397, 1944, 225, 3]"
      ]
     },
     "execution_count": 42,
     "metadata": {},
     "output_type": "execute_result"
    }
   ],
   "source": [
    "enc.ids"
   ]
  },
  {
   "cell_type": "code",
   "execution_count": 43,
   "id": "60983b8e",
   "metadata": {},
   "outputs": [
    {
     "data": {
      "text/plain": [
       "['▁자연', '얇', '▁처', '리는', '▁얼굴', '다', '!']"
      ]
     },
     "execution_count": 43,
     "metadata": {},
     "output_type": "execute_result"
    }
   ],
   "source": [
    "enc.tokens"
   ]
  },
  {
   "cell_type": "markdown",
   "id": "deefde34",
   "metadata": {},
   "source": [
    "풀어쓰기 데이터로 학습해보기"
   ]
  },
  {
   "cell_type": "code",
   "execution_count": 50,
   "id": "0a986fae",
   "metadata": {},
   "outputs": [],
   "source": [
    "sp.train(files=r'C:\\Users\\Owner\\Desktop\\khh\\git\\ICT\\decomposed.txt', min_frequency=1, vocab_size=5000)"
   ]
  },
  {
   "cell_type": "code",
   "execution_count": 56,
   "id": "b642385c",
   "metadata": {},
   "outputs": [],
   "source": [
    "enc = sp.encode('자연어 처리는 재밌다!')"
   ]
  },
  {
   "cell_type": "code",
   "execution_count": 57,
   "id": "2f64b4ee",
   "metadata": {},
   "outputs": [
    {
     "data": {
      "text/plain": [
       "[1888, 616, 1543, 1397, 1944, 225, 3]"
      ]
     },
     "execution_count": 57,
     "metadata": {},
     "output_type": "execute_result"
    }
   ],
   "source": [
    "enc.ids"
   ]
  },
  {
   "cell_type": "code",
   "execution_count": 58,
   "id": "7c9f4bb2",
   "metadata": {},
   "outputs": [
    {
     "data": {
      "text/plain": [
       "['▁자연', '앱', '▁처', '리는', '▁재밌', '닝', '!']"
      ]
     },
     "execution_count": 58,
     "metadata": {},
     "output_type": "execute_result"
    }
   ],
   "source": [
    "enc.tokens"
   ]
  },
  {
   "cell_type": "code",
   "execution_count": null,
   "id": "296f7e81",
   "metadata": {},
   "outputs": [],
   "source": []
  }
 ],
 "metadata": {
  "kernelspec": {
   "display_name": "Python 3",
   "language": "python",
   "name": "python3"
  },
  "language_info": {
   "codemirror_mode": {
    "name": "ipython",
    "version": 3
   },
   "file_extension": ".py",
   "mimetype": "text/x-python",
   "name": "python",
   "nbconvert_exporter": "python",
   "pygments_lexer": "ipython3",
   "version": "3.8.8"
  }
 },
 "nbformat": 4,
 "nbformat_minor": 5
}
