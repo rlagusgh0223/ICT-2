{
 "cells": [
  {
   "cell_type": "markdown",
   "id": "5e1e61dc",
   "metadata": {},
   "source": [
    "100.00MB를 초과하면 github에 못 올린다는데 220326-1 파일 이후 올릴수가 없어서 폴더를 새로 만들었다"
   ]
  },
  {
   "cell_type": "code",
   "execution_count": null,
   "id": "b309c31b",
   "metadata": {},
   "outputs": [],
   "source": []
  }
 ],
 "metadata": {
  "kernelspec": {
   "display_name": "Python 3",
   "language": "python",
   "name": "python3"
  },
  "language_info": {
   "codemirror_mode": {
    "name": "ipython",
    "version": 3
   },
   "file_extension": ".py",
   "mimetype": "text/x-python",
   "name": "python",
   "nbconvert_exporter": "python",
   "pygments_lexer": "ipython3",
   "version": "3.8.8"
  }
 },
 "nbformat": 4,
 "nbformat_minor": 5
}
