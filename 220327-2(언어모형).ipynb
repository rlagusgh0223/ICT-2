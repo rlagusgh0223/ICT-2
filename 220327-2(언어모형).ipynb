{
 "cells": [
  {
   "cell_type": "markdown",
   "id": "65823116",
   "metadata": {},
   "source": [
    "# 언어 모형\n",
    "- 문장의 확률을 계산하기 위한 모형\n",
    "- 결합 확률 : x1과 x2에서 교집합이 차지하는 확률\n",
    "- 조건부 확률 : x1이 주어진 상태에서 x2가 나타나는 확률(x1 중에서 x2와 겹치는 확률이 얼마나 되는지)"
   ]
  },
  {
   "cell_type": "code",
   "execution_count": null,
   "id": "0344967c",
   "metadata": {},
   "outputs": [],
   "source": []
  }
 ],
 "metadata": {
  "kernelspec": {
   "display_name": "Python 3",
   "language": "python",
   "name": "python3"
  },
  "language_info": {
   "codemirror_mode": {
    "name": "ipython",
    "version": 3
   },
   "file_extension": ".py",
   "mimetype": "text/x-python",
   "name": "python",
   "nbconvert_exporter": "python",
   "pygments_lexer": "ipython3",
   "version": "3.8.8"
  }
 },
 "nbformat": 4,
 "nbformat_minor": 5
}
