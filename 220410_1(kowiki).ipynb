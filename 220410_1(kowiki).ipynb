{
  "nbformat": 4,
  "nbformat_minor": 0,
  "metadata": {
    "colab": {
      "name": "220410-1(kowiki).ipynb",
      "provenance": [],
      "collapsed_sections": [],
      "authorship_tag": "ABX9TyNHY2nU/yBTENxogdGvbJbj",
      "include_colab_link": true
    },
    "kernelspec": {
      "name": "python3",
      "display_name": "Python 3"
    },
    "language_info": {
      "name": "python"
    },
    "accelerator": "GPU",
    "widgets": {
      "application/vnd.jupyter.widget-state+json": {
        "f9d3525e4fc1436ca20c8ffca5b47bcd": {
          "model_module": "@jupyter-widgets/controls",
          "model_name": "HBoxModel",
          "model_module_version": "1.5.0",
          "state": {
            "_dom_classes": [],
            "_model_module": "@jupyter-widgets/controls",
            "_model_module_version": "1.5.0",
            "_model_name": "HBoxModel",
            "_view_count": null,
            "_view_module": "@jupyter-widgets/controls",
            "_view_module_version": "1.5.0",
            "_view_name": "HBoxView",
            "box_style": "",
            "children": [
              "IPY_MODEL_4244adf1363249e7bb6c85730933e903",
              "IPY_MODEL_39ab476a8ea24bea82e6441894684ae4",
              "IPY_MODEL_62bec2390d5c403daf1682d69e7a12d9"
            ],
            "layout": "IPY_MODEL_e41d53eb8b754af3980b6be0c819c39d"
          }
        },
        "4244adf1363249e7bb6c85730933e903": {
          "model_module": "@jupyter-widgets/controls",
          "model_name": "HTMLModel",
          "model_module_version": "1.5.0",
          "state": {
            "_dom_classes": [],
            "_model_module": "@jupyter-widgets/controls",
            "_model_module_version": "1.5.0",
            "_model_name": "HTMLModel",
            "_view_count": null,
            "_view_module": "@jupyter-widgets/controls",
            "_view_module_version": "1.5.0",
            "_view_name": "HTMLView",
            "description": "",
            "description_tooltip": null,
            "layout": "IPY_MODEL_3c8a607477b447df87a552697d12a56a",
            "placeholder": "​",
            "style": "IPY_MODEL_634b29abfbb4427592fd0c51e5d26541",
            "value": "100%"
          }
        },
        "39ab476a8ea24bea82e6441894684ae4": {
          "model_module": "@jupyter-widgets/controls",
          "model_name": "FloatProgressModel",
          "model_module_version": "1.5.0",
          "state": {
            "_dom_classes": [],
            "_model_module": "@jupyter-widgets/controls",
            "_model_module_version": "1.5.0",
            "_model_name": "FloatProgressModel",
            "_view_count": null,
            "_view_module": "@jupyter-widgets/controls",
            "_view_module_version": "1.5.0",
            "_view_name": "ProgressView",
            "bar_style": "success",
            "description": "",
            "description_tooltip": null,
            "layout": "IPY_MODEL_216258a3b4b9475185a64cc1985d21f0",
            "max": 810,
            "min": 0,
            "orientation": "horizontal",
            "style": "IPY_MODEL_54a55ba7604d479aae5a379a700b356a",
            "value": 810
          }
        },
        "62bec2390d5c403daf1682d69e7a12d9": {
          "model_module": "@jupyter-widgets/controls",
          "model_name": "HTMLModel",
          "model_module_version": "1.5.0",
          "state": {
            "_dom_classes": [],
            "_model_module": "@jupyter-widgets/controls",
            "_model_module_version": "1.5.0",
            "_model_name": "HTMLModel",
            "_view_count": null,
            "_view_module": "@jupyter-widgets/controls",
            "_view_module_version": "1.5.0",
            "_view_name": "HTMLView",
            "description": "",
            "description_tooltip": null,
            "layout": "IPY_MODEL_450cc21c196d4f24a498f95d177fe523",
            "placeholder": "​",
            "style": "IPY_MODEL_d1597501c3844f77a59152b39f808721",
            "value": " 810/810 [00:13&lt;00:00, 49.04it/s]"
          }
        },
        "e41d53eb8b754af3980b6be0c819c39d": {
          "model_module": "@jupyter-widgets/base",
          "model_name": "LayoutModel",
          "model_module_version": "1.2.0",
          "state": {
            "_model_module": "@jupyter-widgets/base",
            "_model_module_version": "1.2.0",
            "_model_name": "LayoutModel",
            "_view_count": null,
            "_view_module": "@jupyter-widgets/base",
            "_view_module_version": "1.2.0",
            "_view_name": "LayoutView",
            "align_content": null,
            "align_items": null,
            "align_self": null,
            "border": null,
            "bottom": null,
            "display": null,
            "flex": null,
            "flex_flow": null,
            "grid_area": null,
            "grid_auto_columns": null,
            "grid_auto_flow": null,
            "grid_auto_rows": null,
            "grid_column": null,
            "grid_gap": null,
            "grid_row": null,
            "grid_template_areas": null,
            "grid_template_columns": null,
            "grid_template_rows": null,
            "height": null,
            "justify_content": null,
            "justify_items": null,
            "left": null,
            "margin": null,
            "max_height": null,
            "max_width": null,
            "min_height": null,
            "min_width": null,
            "object_fit": null,
            "object_position": null,
            "order": null,
            "overflow": null,
            "overflow_x": null,
            "overflow_y": null,
            "padding": null,
            "right": null,
            "top": null,
            "visibility": null,
            "width": null
          }
        },
        "3c8a607477b447df87a552697d12a56a": {
          "model_module": "@jupyter-widgets/base",
          "model_name": "LayoutModel",
          "model_module_version": "1.2.0",
          "state": {
            "_model_module": "@jupyter-widgets/base",
            "_model_module_version": "1.2.0",
            "_model_name": "LayoutModel",
            "_view_count": null,
            "_view_module": "@jupyter-widgets/base",
            "_view_module_version": "1.2.0",
            "_view_name": "LayoutView",
            "align_content": null,
            "align_items": null,
            "align_self": null,
            "border": null,
            "bottom": null,
            "display": null,
            "flex": null,
            "flex_flow": null,
            "grid_area": null,
            "grid_auto_columns": null,
            "grid_auto_flow": null,
            "grid_auto_rows": null,
            "grid_column": null,
            "grid_gap": null,
            "grid_row": null,
            "grid_template_areas": null,
            "grid_template_columns": null,
            "grid_template_rows": null,
            "height": null,
            "justify_content": null,
            "justify_items": null,
            "left": null,
            "margin": null,
            "max_height": null,
            "max_width": null,
            "min_height": null,
            "min_width": null,
            "object_fit": null,
            "object_position": null,
            "order": null,
            "overflow": null,
            "overflow_x": null,
            "overflow_y": null,
            "padding": null,
            "right": null,
            "top": null,
            "visibility": null,
            "width": null
          }
        },
        "634b29abfbb4427592fd0c51e5d26541": {
          "model_module": "@jupyter-widgets/controls",
          "model_name": "DescriptionStyleModel",
          "model_module_version": "1.5.0",
          "state": {
            "_model_module": "@jupyter-widgets/controls",
            "_model_module_version": "1.5.0",
            "_model_name": "DescriptionStyleModel",
            "_view_count": null,
            "_view_module": "@jupyter-widgets/base",
            "_view_module_version": "1.2.0",
            "_view_name": "StyleView",
            "description_width": ""
          }
        },
        "216258a3b4b9475185a64cc1985d21f0": {
          "model_module": "@jupyter-widgets/base",
          "model_name": "LayoutModel",
          "model_module_version": "1.2.0",
          "state": {
            "_model_module": "@jupyter-widgets/base",
            "_model_module_version": "1.2.0",
            "_model_name": "LayoutModel",
            "_view_count": null,
            "_view_module": "@jupyter-widgets/base",
            "_view_module_version": "1.2.0",
            "_view_name": "LayoutView",
            "align_content": null,
            "align_items": null,
            "align_self": null,
            "border": null,
            "bottom": null,
            "display": null,
            "flex": null,
            "flex_flow": null,
            "grid_area": null,
            "grid_auto_columns": null,
            "grid_auto_flow": null,
            "grid_auto_rows": null,
            "grid_column": null,
            "grid_gap": null,
            "grid_row": null,
            "grid_template_areas": null,
            "grid_template_columns": null,
            "grid_template_rows": null,
            "height": null,
            "justify_content": null,
            "justify_items": null,
            "left": null,
            "margin": null,
            "max_height": null,
            "max_width": null,
            "min_height": null,
            "min_width": null,
            "object_fit": null,
            "object_position": null,
            "order": null,
            "overflow": null,
            "overflow_x": null,
            "overflow_y": null,
            "padding": null,
            "right": null,
            "top": null,
            "visibility": null,
            "width": null
          }
        },
        "54a55ba7604d479aae5a379a700b356a": {
          "model_module": "@jupyter-widgets/controls",
          "model_name": "ProgressStyleModel",
          "model_module_version": "1.5.0",
          "state": {
            "_model_module": "@jupyter-widgets/controls",
            "_model_module_version": "1.5.0",
            "_model_name": "ProgressStyleModel",
            "_view_count": null,
            "_view_module": "@jupyter-widgets/base",
            "_view_module_version": "1.2.0",
            "_view_name": "StyleView",
            "bar_color": null,
            "description_width": ""
          }
        },
        "450cc21c196d4f24a498f95d177fe523": {
          "model_module": "@jupyter-widgets/base",
          "model_name": "LayoutModel",
          "model_module_version": "1.2.0",
          "state": {
            "_model_module": "@jupyter-widgets/base",
            "_model_module_version": "1.2.0",
            "_model_name": "LayoutModel",
            "_view_count": null,
            "_view_module": "@jupyter-widgets/base",
            "_view_module_version": "1.2.0",
            "_view_name": "LayoutView",
            "align_content": null,
            "align_items": null,
            "align_self": null,
            "border": null,
            "bottom": null,
            "display": null,
            "flex": null,
            "flex_flow": null,
            "grid_area": null,
            "grid_auto_columns": null,
            "grid_auto_flow": null,
            "grid_auto_rows": null,
            "grid_column": null,
            "grid_gap": null,
            "grid_row": null,
            "grid_template_areas": null,
            "grid_template_columns": null,
            "grid_template_rows": null,
            "height": null,
            "justify_content": null,
            "justify_items": null,
            "left": null,
            "margin": null,
            "max_height": null,
            "max_width": null,
            "min_height": null,
            "min_width": null,
            "object_fit": null,
            "object_position": null,
            "order": null,
            "overflow": null,
            "overflow_x": null,
            "overflow_y": null,
            "padding": null,
            "right": null,
            "top": null,
            "visibility": null,
            "width": null
          }
        },
        "d1597501c3844f77a59152b39f808721": {
          "model_module": "@jupyter-widgets/controls",
          "model_name": "DescriptionStyleModel",
          "model_module_version": "1.5.0",
          "state": {
            "_model_module": "@jupyter-widgets/controls",
            "_model_module_version": "1.5.0",
            "_model_name": "DescriptionStyleModel",
            "_view_count": null,
            "_view_module": "@jupyter-widgets/base",
            "_view_module_version": "1.2.0",
            "_view_name": "StyleView",
            "description_width": ""
          }
        },
        "5295ec6e5e084d81b4c1523bb4afe808": {
          "model_module": "@jupyter-widgets/controls",
          "model_name": "HBoxModel",
          "model_module_version": "1.5.0",
          "state": {
            "_dom_classes": [],
            "_model_module": "@jupyter-widgets/controls",
            "_model_module_version": "1.5.0",
            "_model_name": "HBoxModel",
            "_view_count": null,
            "_view_module": "@jupyter-widgets/controls",
            "_view_module_version": "1.5.0",
            "_view_name": "HBoxView",
            "box_style": "",
            "children": [
              "IPY_MODEL_0857ed9e48c9499ea489d400fac7dd3a",
              "IPY_MODEL_30a04bdad42b4b02ba6b0a0c8854bb9f",
              "IPY_MODEL_5b5a4a1642c246fbacd070a3c5d13611"
            ],
            "layout": "IPY_MODEL_84793e62e5ba437eb9caf91c32282b27"
          }
        },
        "0857ed9e48c9499ea489d400fac7dd3a": {
          "model_module": "@jupyter-widgets/controls",
          "model_name": "HTMLModel",
          "model_module_version": "1.5.0",
          "state": {
            "_dom_classes": [],
            "_model_module": "@jupyter-widgets/controls",
            "_model_module_version": "1.5.0",
            "_model_name": "HTMLModel",
            "_view_count": null,
            "_view_module": "@jupyter-widgets/controls",
            "_view_module_version": "1.5.0",
            "_view_name": "HTMLView",
            "description": "",
            "description_tooltip": null,
            "layout": "IPY_MODEL_2cfa32c82cc348e0ba9bf405b68cb1d3",
            "placeholder": "​",
            "style": "IPY_MODEL_35cf4f98de4e41d0ad34874f341f39fa",
            "value": "100%"
          }
        },
        "30a04bdad42b4b02ba6b0a0c8854bb9f": {
          "model_module": "@jupyter-widgets/controls",
          "model_name": "FloatProgressModel",
          "model_module_version": "1.5.0",
          "state": {
            "_dom_classes": [],
            "_model_module": "@jupyter-widgets/controls",
            "_model_module_version": "1.5.0",
            "_model_name": "FloatProgressModel",
            "_view_count": null,
            "_view_module": "@jupyter-widgets/controls",
            "_view_module_version": "1.5.0",
            "_view_name": "ProgressView",
            "bar_style": "success",
            "description": "",
            "description_tooltip": null,
            "layout": "IPY_MODEL_4171febeca684516bb3d2408a3608324",
            "max": 584607,
            "min": 0,
            "orientation": "horizontal",
            "style": "IPY_MODEL_fbcb5ef125d74292a1fb5b330829c71e",
            "value": 584607
          }
        },
        "5b5a4a1642c246fbacd070a3c5d13611": {
          "model_module": "@jupyter-widgets/controls",
          "model_name": "HTMLModel",
          "model_module_version": "1.5.0",
          "state": {
            "_dom_classes": [],
            "_model_module": "@jupyter-widgets/controls",
            "_model_module_version": "1.5.0",
            "_model_name": "HTMLModel",
            "_view_count": null,
            "_view_module": "@jupyter-widgets/controls",
            "_view_module_version": "1.5.0",
            "_view_name": "HTMLView",
            "description": "",
            "description_tooltip": null,
            "layout": "IPY_MODEL_75c3cfef996f4363b62ce4126030ddef",
            "placeholder": "​",
            "style": "IPY_MODEL_cc2ebf91b2b24a1ca04543497538f304",
            "value": " 584607/584607 [00:04&lt;00:00, 197730.90it/s]"
          }
        },
        "84793e62e5ba437eb9caf91c32282b27": {
          "model_module": "@jupyter-widgets/base",
          "model_name": "LayoutModel",
          "model_module_version": "1.2.0",
          "state": {
            "_model_module": "@jupyter-widgets/base",
            "_model_module_version": "1.2.0",
            "_model_name": "LayoutModel",
            "_view_count": null,
            "_view_module": "@jupyter-widgets/base",
            "_view_module_version": "1.2.0",
            "_view_name": "LayoutView",
            "align_content": null,
            "align_items": null,
            "align_self": null,
            "border": null,
            "bottom": null,
            "display": null,
            "flex": null,
            "flex_flow": null,
            "grid_area": null,
            "grid_auto_columns": null,
            "grid_auto_flow": null,
            "grid_auto_rows": null,
            "grid_column": null,
            "grid_gap": null,
            "grid_row": null,
            "grid_template_areas": null,
            "grid_template_columns": null,
            "grid_template_rows": null,
            "height": null,
            "justify_content": null,
            "justify_items": null,
            "left": null,
            "margin": null,
            "max_height": null,
            "max_width": null,
            "min_height": null,
            "min_width": null,
            "object_fit": null,
            "object_position": null,
            "order": null,
            "overflow": null,
            "overflow_x": null,
            "overflow_y": null,
            "padding": null,
            "right": null,
            "top": null,
            "visibility": null,
            "width": null
          }
        },
        "2cfa32c82cc348e0ba9bf405b68cb1d3": {
          "model_module": "@jupyter-widgets/base",
          "model_name": "LayoutModel",
          "model_module_version": "1.2.0",
          "state": {
            "_model_module": "@jupyter-widgets/base",
            "_model_module_version": "1.2.0",
            "_model_name": "LayoutModel",
            "_view_count": null,
            "_view_module": "@jupyter-widgets/base",
            "_view_module_version": "1.2.0",
            "_view_name": "LayoutView",
            "align_content": null,
            "align_items": null,
            "align_self": null,
            "border": null,
            "bottom": null,
            "display": null,
            "flex": null,
            "flex_flow": null,
            "grid_area": null,
            "grid_auto_columns": null,
            "grid_auto_flow": null,
            "grid_auto_rows": null,
            "grid_column": null,
            "grid_gap": null,
            "grid_row": null,
            "grid_template_areas": null,
            "grid_template_columns": null,
            "grid_template_rows": null,
            "height": null,
            "justify_content": null,
            "justify_items": null,
            "left": null,
            "margin": null,
            "max_height": null,
            "max_width": null,
            "min_height": null,
            "min_width": null,
            "object_fit": null,
            "object_position": null,
            "order": null,
            "overflow": null,
            "overflow_x": null,
            "overflow_y": null,
            "padding": null,
            "right": null,
            "top": null,
            "visibility": null,
            "width": null
          }
        },
        "35cf4f98de4e41d0ad34874f341f39fa": {
          "model_module": "@jupyter-widgets/controls",
          "model_name": "DescriptionStyleModel",
          "model_module_version": "1.5.0",
          "state": {
            "_model_module": "@jupyter-widgets/controls",
            "_model_module_version": "1.5.0",
            "_model_name": "DescriptionStyleModel",
            "_view_count": null,
            "_view_module": "@jupyter-widgets/base",
            "_view_module_version": "1.2.0",
            "_view_name": "StyleView",
            "description_width": ""
          }
        },
        "4171febeca684516bb3d2408a3608324": {
          "model_module": "@jupyter-widgets/base",
          "model_name": "LayoutModel",
          "model_module_version": "1.2.0",
          "state": {
            "_model_module": "@jupyter-widgets/base",
            "_model_module_version": "1.2.0",
            "_model_name": "LayoutModel",
            "_view_count": null,
            "_view_module": "@jupyter-widgets/base",
            "_view_module_version": "1.2.0",
            "_view_name": "LayoutView",
            "align_content": null,
            "align_items": null,
            "align_self": null,
            "border": null,
            "bottom": null,
            "display": null,
            "flex": null,
            "flex_flow": null,
            "grid_area": null,
            "grid_auto_columns": null,
            "grid_auto_flow": null,
            "grid_auto_rows": null,
            "grid_column": null,
            "grid_gap": null,
            "grid_row": null,
            "grid_template_areas": null,
            "grid_template_columns": null,
            "grid_template_rows": null,
            "height": null,
            "justify_content": null,
            "justify_items": null,
            "left": null,
            "margin": null,
            "max_height": null,
            "max_width": null,
            "min_height": null,
            "min_width": null,
            "object_fit": null,
            "object_position": null,
            "order": null,
            "overflow": null,
            "overflow_x": null,
            "overflow_y": null,
            "padding": null,
            "right": null,
            "top": null,
            "visibility": null,
            "width": null
          }
        },
        "fbcb5ef125d74292a1fb5b330829c71e": {
          "model_module": "@jupyter-widgets/controls",
          "model_name": "ProgressStyleModel",
          "model_module_version": "1.5.0",
          "state": {
            "_model_module": "@jupyter-widgets/controls",
            "_model_module_version": "1.5.0",
            "_model_name": "ProgressStyleModel",
            "_view_count": null,
            "_view_module": "@jupyter-widgets/base",
            "_view_module_version": "1.2.0",
            "_view_name": "StyleView",
            "bar_color": null,
            "description_width": ""
          }
        },
        "75c3cfef996f4363b62ce4126030ddef": {
          "model_module": "@jupyter-widgets/base",
          "model_name": "LayoutModel",
          "model_module_version": "1.2.0",
          "state": {
            "_model_module": "@jupyter-widgets/base",
            "_model_module_version": "1.2.0",
            "_model_name": "LayoutModel",
            "_view_count": null,
            "_view_module": "@jupyter-widgets/base",
            "_view_module_version": "1.2.0",
            "_view_name": "LayoutView",
            "align_content": null,
            "align_items": null,
            "align_self": null,
            "border": null,
            "bottom": null,
            "display": null,
            "flex": null,
            "flex_flow": null,
            "grid_area": null,
            "grid_auto_columns": null,
            "grid_auto_flow": null,
            "grid_auto_rows": null,
            "grid_column": null,
            "grid_gap": null,
            "grid_row": null,
            "grid_template_areas": null,
            "grid_template_columns": null,
            "grid_template_rows": null,
            "height": null,
            "justify_content": null,
            "justify_items": null,
            "left": null,
            "margin": null,
            "max_height": null,
            "max_width": null,
            "min_height": null,
            "min_width": null,
            "object_fit": null,
            "object_position": null,
            "order": null,
            "overflow": null,
            "overflow_x": null,
            "overflow_y": null,
            "padding": null,
            "right": null,
            "top": null,
            "visibility": null,
            "width": null
          }
        },
        "cc2ebf91b2b24a1ca04543497538f304": {
          "model_module": "@jupyter-widgets/controls",
          "model_name": "DescriptionStyleModel",
          "model_module_version": "1.5.0",
          "state": {
            "_model_module": "@jupyter-widgets/controls",
            "_model_module_version": "1.5.0",
            "_model_name": "DescriptionStyleModel",
            "_view_count": null,
            "_view_module": "@jupyter-widgets/base",
            "_view_module_version": "1.2.0",
            "_view_name": "StyleView",
            "description_width": ""
          }
        }
      }
    }
  },
  "cells": [
    {
      "cell_type": "markdown",
      "metadata": {
        "id": "view-in-github",
        "colab_type": "text"
      },
      "source": [
        "<a href=\"https://colab.research.google.com/github/rlagusgh0223/ICT-2/blob/main/220410_1(kowiki).ipynb\" target=\"_parent\"><img src=\"https://colab.research.google.com/assets/colab-badge.svg\" alt=\"Open In Colab\"/></a>"
      ]
    },
    {
      "cell_type": "markdown",
      "source": [
        "## **[환경설정]**"
      ],
      "metadata": {
        "id": "roDv_AVVOi8E"
      }
    },
    {
      "cell_type": "markdown",
      "source": [
        "런타임 - 런타임 유형 변경 - GPU 설정 후  \n",
        "도구 - 설정 - 편집기 - 행 번호 표시 하면 행 번호 나온다\n",
        "\n",
        "▷ install"
      ],
      "metadata": {
        "id": "fqotCId2O8cg"
      }
    },
    {
      "cell_type": "code",
      "execution_count": 56,
      "metadata": {
        "colab": {
          "base_uri": "https://localhost:8080/"
        },
        "id": "tsZKQf51OFE6",
        "outputId": "2b1f3f42-0a14-4b7b-f979-1d8be7b95939"
      },
      "outputs": [
        {
          "output_type": "stream",
          "name": "stdout",
          "text": [
            "Requirement already satisfied: sentencepiece in /usr/local/lib/python3.7/dist-packages (0.1.96)\n"
          ]
        }
      ],
      "source": [
        "!pip install sentencepiece"
      ]
    },
    {
      "cell_type": "markdown",
      "source": [
        "▷ import"
      ],
      "metadata": {
        "id": "yH53Lrm6PSSN"
      }
    },
    {
      "cell_type": "code",
      "source": [
        "import os\n",
        "import random\n",
        "import shutil\n",
        "import json\n",
        "import zipfile\n",
        "import matplotlib.pyplot as plt\n",
        "import numpy as np\n",
        "import sentencepiece as spm\n",
        "import tensorflow as tf\n",
        "import tensorflow.keras.backend as K\n",
        "from tqdm.notebook import tqdm"
      ],
      "metadata": {
        "id": "9RURqUNPPLlR"
      },
      "execution_count": 57,
      "outputs": []
    },
    {
      "cell_type": "code",
      "source": [
        "# random seed initialize\n",
        "random_seed = 1234\n",
        "random.seed(random_seed)\n",
        "np.random.seed(random_seed)\n",
        "tf.random.set_seed(random_seed)"
      ],
      "metadata": {
        "id": "Ux3OaxZCPp05"
      },
      "execution_count": 58,
      "outputs": []
    },
    {
      "cell_type": "code",
      "source": [
        "# GPU 사용 확인\n",
        "!nvidia-smi"
      ],
      "metadata": {
        "colab": {
          "base_uri": "https://localhost:8080/"
        },
        "id": "eW0kBSw2QkR4",
        "outputId": "01d58ac3-784c-40af-d295-ba3999d03b5e"
      },
      "execution_count": 59,
      "outputs": [
        {
          "output_type": "stream",
          "name": "stdout",
          "text": [
            "Sun Apr 10 03:01:13 2022       \n",
            "+-----------------------------------------------------------------------------+\n",
            "| NVIDIA-SMI 460.32.03    Driver Version: 460.32.03    CUDA Version: 11.2     |\n",
            "|-------------------------------+----------------------+----------------------+\n",
            "| GPU  Name        Persistence-M| Bus-Id        Disp.A | Volatile Uncorr. ECC |\n",
            "| Fan  Temp  Perf  Pwr:Usage/Cap|         Memory-Usage | GPU-Util  Compute M. |\n",
            "|                               |                      |               MIG M. |\n",
            "|===============================+======================+======================|\n",
            "|   0  Tesla K80           Off  | 00000000:00:04.0 Off |                    0 |\n",
            "| N/A   70C    P8    32W / 149W |      0MiB / 11441MiB |      0%      Default |\n",
            "|                               |                      |                  N/A |\n",
            "+-------------------------------+----------------------+----------------------+\n",
            "                                                                               \n",
            "+-----------------------------------------------------------------------------+\n",
            "| Processes:                                                                  |\n",
            "|  GPU   GI   CI        PID   Type   Process name                  GPU Memory |\n",
            "|        ID   ID                                                   Usage      |\n",
            "|=============================================================================|\n",
            "|  No running processes found                                                 |\n",
            "+-----------------------------------------------------------------------------+\n"
          ]
        }
      ]
    },
    {
      "cell_type": "code",
      "source": [
        "# google drive mount\n",
        "# content에 dirve폴더가 없으니까 만든 다음에 실행\n",
        "# 폴더가 꼬인것 같으니까 난 sdrive로 할 것\n",
        "from google.colab import drive\n",
        "drive.mount('/content/sdrive', force_remount=True)"
      ],
      "metadata": {
        "colab": {
          "base_uri": "https://localhost:8080/"
        },
        "id": "wAeTPqnbRUNO",
        "outputId": "6ccf60ff-57c9-40a1-d209-51c8434053ea"
      },
      "execution_count": 64,
      "outputs": [
        {
          "output_type": "stream",
          "name": "stdout",
          "text": [
            "Mounted at /content/sdrive\n"
          ]
        }
      ]
    },
    {
      "cell_type": "code",
      "source": [
        "# data dir\n",
        "data_dir = '/content/sdrive/MyDrive/Colab Notebooks/Data/nlp'\n",
        "os.listdir(data_dir)"
      ],
      "metadata": {
        "colab": {
          "base_uri": "https://localhost:8080/"
        },
        "id": "umNRz__jR6r4",
        "outputId": "ed767681-d8f2-4ea5-f796-6b054ce78499"
      },
      "execution_count": 65,
      "outputs": [
        {
          "output_type": "execute_result",
          "data": {
            "text/plain": [
              "[]"
            ]
          },
          "metadata": {},
          "execution_count": 65
        }
      ]
    },
    {
      "cell_type": "markdown",
      "source": [
        "## **[Vocabulary]**\n",
        "▷ 한국어 위키 다운로드"
      ],
      "metadata": {
        "id": "74rD71ZyT2YX"
      }
    },
    {
      "cell_type": "code",
      "source": [
        "# korean wiki dir\n",
        "kowiki_dir = os.path.join(data_dir, 'kowiki')\n",
        "if not os.path.exists(kowiki_dir):\n",
        " os.makedirs(kowiki_dir)\n",
        "os.listdir(kowiki_dir)"
      ],
      "metadata": {
        "id": "WY3nF8UjTTqu",
        "colab": {
          "base_uri": "https://localhost:8080/"
        },
        "outputId": "fb9fcc47-626b-4149-abdb-8290b88e7ec5"
      },
      "execution_count": 66,
      "outputs": [
        {
          "output_type": "execute_result",
          "data": {
            "text/plain": [
              "[]"
            ]
          },
          "metadata": {},
          "execution_count": 66
        }
      ]
    },
    {
      "cell_type": "code",
      "source": [
        "!wget https://dumps.wikimedia.org/kowiki/latest/kowiki-latest-pages-meta-current.xml.bz2"
      ],
      "metadata": {
        "colab": {
          "base_uri": "https://localhost:8080/"
        },
        "id": "smg326AHb_RM",
        "outputId": "4432ec53-a4ff-4f69-b2e6-c0393764099e"
      },
      "execution_count": 67,
      "outputs": [
        {
          "output_type": "stream",
          "name": "stdout",
          "text": [
            "--2022-04-10 03:06:40--  https://dumps.wikimedia.org/kowiki/latest/kowiki-latest-pages-meta-current.xml.bz2\n",
            "Resolving dumps.wikimedia.org (dumps.wikimedia.org)... 208.80.154.7, 2620:0:861:1:208:80:154:7\n",
            "Connecting to dumps.wikimedia.org (dumps.wikimedia.org)|208.80.154.7|:443... connected.\n",
            "HTTP request sent, awaiting response... 200 OK\n",
            "Length: 1031063543 (983M) [application/octet-stream]\n",
            "Saving to: ‘kowiki-latest-pages-meta-current.xml.bz2’\n",
            "\n",
            "kowiki-latest-pages 100%[===================>] 983.30M  4.93MB/s    in 3m 21s  \n",
            "\n",
            "2022-04-10 03:10:01 (4.88 MB/s) - ‘kowiki-latest-pages-meta-current.xml.bz2’ saved [1031063543/1031063543]\n",
            "\n"
          ]
        }
      ]
    },
    {
      "cell_type": "code",
      "source": [
        "# WikiExtractor 다운로드\n",
        "!wget https://github.com/paul-hyun/web-crawler/raw/master/WikiExtractor.py"
      ],
      "metadata": {
        "colab": {
          "base_uri": "https://localhost:8080/"
        },
        "id": "TMuFyCbucBPM",
        "outputId": "05439862-c14f-44f4-a0c3-df6147a607ae"
      },
      "execution_count": 68,
      "outputs": [
        {
          "output_type": "stream",
          "name": "stdout",
          "text": [
            "--2022-04-10 03:10:34--  https://github.com/paul-hyun/web-crawler/raw/master/WikiExtractor.py\n",
            "Resolving github.com (github.com)... 140.82.112.4\n",
            "Connecting to github.com (github.com)|140.82.112.4|:443... connected.\n",
            "HTTP request sent, awaiting response... 302 Found\n",
            "Location: https://raw.githubusercontent.com/paul-hyun/web-crawler/master/WikiExtractor.py [following]\n",
            "--2022-04-10 03:10:34--  https://raw.githubusercontent.com/paul-hyun/web-crawler/master/WikiExtractor.py\n",
            "Resolving raw.githubusercontent.com (raw.githubusercontent.com)... 185.199.108.133, 185.199.109.133, 185.199.110.133, ...\n",
            "Connecting to raw.githubusercontent.com (raw.githubusercontent.com)|185.199.108.133|:443... connected.\n",
            "HTTP request sent, awaiting response... 200 OK\n",
            "Length: 119222 (116K) [text/plain]\n",
            "Saving to: ‘WikiExtractor.py’\n",
            "\n",
            "WikiExtractor.py    100%[===================>] 116.43K  --.-KB/s    in 0.02s   \n",
            "\n",
            "2022-04-10 03:10:34 (5.74 MB/s) - ‘WikiExtractor.py’ saved [119222/119222]\n",
            "\n"
          ]
        }
      ]
    },
    {
      "cell_type": "code",
      "source": [
        "# 파일이 잘 받아졌는지 확인\n",
        "os.listdir('.')"
      ],
      "metadata": {
        "colab": {
          "base_uri": "https://localhost:8080/"
        },
        "id": "VBJ8AccDcxVK",
        "outputId": "e48917e9-a44f-4cf1-ae5e-7d4826bed515"
      },
      "execution_count": 70,
      "outputs": [
        {
          "output_type": "execute_result",
          "data": {
            "text/plain": [
              "['.config',\n",
              " 'WikiExtractor.py',\n",
              " 'kowiki-latest-pages-meta-current.xml.bz2',\n",
              " 'sample_data',\n",
              " 'sdrive',\n",
              " '.ipynb_checkpoints',\n",
              " 'udrive']"
            ]
          },
          "metadata": {},
          "execution_count": 70
        }
      ]
    },
    {
      "cell_type": "code",
      "source": [
        "# WikiExtractor 실행\n",
        "os.system(f\"python WikiExtractor.py -o kowiki --json kowiki-latest-pages-meta-current.xml.bz2\")"
      ],
      "metadata": {
        "colab": {
          "base_uri": "https://localhost:8080/"
        },
        "id": "5Eyrunftc7er",
        "outputId": "8e6a2157-bd00-4e11-c7c2-f1633527cf70"
      },
      "execution_count": 71,
      "outputs": [
        {
          "output_type": "execute_result",
          "data": {
            "text/plain": [
              "0"
            ]
          },
          "metadata": {},
          "execution_count": 71
        }
      ]
    },
    {
      "cell_type": "code",
      "source": [
        "with open(os.path.join('kowiki', 'AA', 'wiki_00')) as f:\n",
        "  for i, line in enumerate(f):\n",
        "    if i >= 10:\n",
        "      break\n",
        "    line = line.strip()\n",
        "    print(line)"
      ],
      "metadata": {
        "colab": {
          "base_uri": "https://localhost:8080/"
        },
        "id": "sWJTiP5RdRR8",
        "outputId": "0499df47-5910-431e-c106-20fc39cf51ff"
      },
      "execution_count": 73,
      "outputs": [
        {
          "output_type": "stream",
          "name": "stdout",
          "text": [
            "{\"id\": \"5\", \"url\": \"https://ko.wikipedia.org/wiki?curid=5\", \"title\": \"지미 카터\", \"text\": \"지미 카터\\n\\n제임스 얼 카터 주니어(, 1924년 10월 1일 ~ )는 민주당 출신 미국 39대 대통령 (1977년 ~ 1981년)이다.\\n\\n지미 카터는 조지아주 섬터 카운티 플레인스 마을에서 태어났다.\\n\\n조지아 공과대학교를 졸업하였다. 그 후 해군에 들어가 전함·원자력·잠수함의 승무원으로 일하였다. 1953년 미국 해군 대위로 예편하였고 이후 땅콩·면화 등을 가꿔 많은 돈을 벌었다. 그의 별명이 \\\"땅콩 농부\\\" (Peanut Farmer)로 알려졌다.\\n\\n1962년 조지아주 상원 의원 선거에서 낙선하나 그 선거가 부정선거 였음을 입증하게 되어 당선되고, 1966년 조지아 주지사 선거에 낙선하지만, 1970년 조지아 주지사를 역임했다. 대통령이 되기 전 조지아주 상원의원을 두번 연임했으며, 1971년부터 1975년까지 조지아 지사로 근무했다. 조지아 주지사로 지내면서, 미국에 사는 흑인 등용법을 내세웠다.\\n\\n1976년 미합중국 제39대 대통령 선거에 민주당 후보로 출마하여 도덕주의 정책으로 내세워서, 많은 지지를 받고 제럴드 포드 대통령을 누르고 당선되었다.\\n\\n카터 대통령은 에너지 개발을 촉구했으나 공화당의 반대로 무산되었다.\\n\\n카터는 이집트와 이스라엘을 조정하여 캠프 데이비드에서 안와르 사다트 대통령과 메나헴 베긴 수상과 함께 중동 평화를 위한 캠프데이비드 협정을 체결했다. 이것은 공화당과 미국의 유대인 단체의 반발을 일으켰다. 그러나 1979년, 양국 간의 평화조약이 백악관에서 이루어졌다.\\n\\n소련과 제2차 전략 무기 제한 협상(SALT II)에 조인했다.\\n\\n카터는 1970년대 후반 당시 대한민국 등 인권 후진국의 국민들의 인권을 지키기 위해 노력했으며, 취임 이후 계속해서 도덕정치를 내세웠다.\\n\\n임기 말, 소련의 아프가니스탄 침공 사건으로 인해 1980년 하계 올림픽에 반공국가들의 보이콧을 하였다.\\n\\n그는 주이란 미국 대사관 인질 사건의 인질 구출 실패로 인한 원인으로, 1980년 제40대 대통령 선거에서 공화당의 로널드 레이건에게 패하며 재선에 실패하였다.\\n\\n대한민국과의 관계\\n\\n지미 카터는 대한민국과의 관계에서도 중요한 영향을 미쳤던 대통령 중 하나다. 인권 문제와 주한미군 철수 문제로 한때 한미 관계가 불편하기도 했다. [1978년 대한민국에 대한 북한의 위협에 대비해 한미연합사를 창설하면서, 1982년까지 3단계에 걸쳐 주한미군을 철수하기로 했다. 그러나 주한미군사령부와 정보기관·의회의 반대에 부딪혀 주한미군은 완전철수 대신 6,000명을 감축하는 데 그쳤다. 또한 박정희 정권의 인권 문제 등과의 논란으로 불협화음을 냈으나, 1979년 6월 하순, 대한민국을 방문하여 관계가 다소 회복되었다.\\n1979년 ~ 1980년 대한민국의 정치적 격변기 당시의 대통령이었던 그는 이에 대해 애매한 태도를 보였고, 이는 후에 대한민국 내에서 고조되는 반미 운동의 한 원인이 됐다. 10월 26일, 박정희 대통령이 김재규 중앙정보부장에 의해 살해된 것에 대해 그는 이 사건으로 큰 충격을 받았으며, 사이러스 밴스 국무장관을 조문사절로 파견했다. 12·12 군사 반란과 5.17 쿠데타에 대해 초기에는 강하게 비난했으나, 미국 정부가 신군부를 설득하는데, 한계가 있었고 결국 묵인하는 듯한 태도를 보이게 됐다.\\n\\n퇴임 이후 민간 자원을 적극 활용한 비영리 기구인 카터 재단을 설립한 뒤 민주주의 실현을 위해 제 3세계의 선거 감시 활동 및 기니 벌레에 의한 드라쿤쿠르스 질병 방재를 위해 힘썼다. 미국의 빈곤층 지원 활동, 사랑의 집짓기 운동, 국제 분쟁 중재 등의 활동도 했다.\\n\\n카터는 카터 행정부 이후 미국이 북핵 위기, 코소보 전쟁, 이라크 전쟁과 같이 미국이 군사적 행동을 최후로 선택하는 전통적 사고를 버리고 군사적 행동을 선행하는 행위에 대해 깊은 유감을 표시 하며 미국의 군사적 활동에 강한 반대 입장을 보이고 있다.\\n\\n특히 국제 분쟁 조정을 위해 북한의 김일성, 아이티의 세드라스 장군, 팔레인스타인의 하마스, 보스니아의 세르비아계 정권 같이 미국 정부에 대해 협상을 거부하면서 사태의 위기를 초래한 인물 및 단체를 직접 만나 분쟁의 원인을 근본적으로 해결하기 위해 힘썼다. 이 과정에서 미국 행정부와 갈등을 보이기도 했지만, 전직 대통령의 권한과 재야 유명 인사들의 활약으로 해결해 나갔다.\\n\\n1978년에 채결된 캠프데이비드 협정의 이행이 지지부진 하자 중동 분쟁 분제를 해결하기 위해 1993년 퇴임 후 직접 이스라엘과 팔레인스타인의 오슬로 협정을 이끌어 내는 데도 성공했다.\\n1993년 1차 북핵 위기 당시 북한에 대한 미국의 군사적 행동이 임박했으나, 미국 전직 대통령으로는 처음으로 북한을 방문하고 미국과 북 양국의 중재에 큰 기여를 해 위기를 해결했다는 평가를 받았다. 또한 이 때 김영삼 대통령과 김일성 주석의 만남을 주선했다. 하지만 그로부터 수주일 후 김일성이 갑자기 사망하여 김일성과 김영삼의 정상회담은 이루어지지 못했다.\\n\\n미국의 관타나모 수용소 문제, 세계의 인권문제에서도 관심이 깊어 유엔에 유엔인권고등판무관의 제도를 시행하도록 노력하여 독재자들의 인권 유린에 대해 제약을 하고, 국제형사재판소를 만드는 데 기여하여 독재자들 같은 인권유린범죄자를 재판소로 회부하여 국제적인 처벌을 받게 하는 등 인권 신장에 크나 큰 기여를 했다.\\n2011년 4월 26일부터 29일까지 북한을 3일간 방문했다.\\n\\n경제문제를 해결하지 못하고 주 이란 미국 대사관 인질 사건에 발목이 잡혀 실패한 대통령으로 평가를 받지만 이란 사태는 미국 내 이란 재산을 풀어주겠다는 조건을 내세워서 사실상 카터가 해결한 것이었고, 사랑의 집짓기 운동 등으로 퇴임 후에 훨씬 더 존경받는 미국 대통령 중에 특이한 인물로 남았다.\\n\\n그는 2002년 말 인권과 중재 역할에 대한 공로를 인정받아 노벨 평화상을 받게 되었다.\\n\\n이외에도, 그는 대통령 재임 시절은 물론 퇴임 후에도 지속적으로 여러 장기 집권중인 독재자들을 만나왔는데, 그와 만난 독재자들 중 절대 다수가 얼마 되지 않아 최후를 맞이하게 되며 '독재자의 사신'이라는 별명이 붙기도 했다.\\n\\n\\n\\n\"}\n",
            "{\"id\": \"9\", \"url\": \"https://ko.wikipedia.org/wiki?curid=9\", \"title\": \"수학\", \"text\": \"수학\\n\\n수학(數學, , 줄여서 math)은 수, 양, 구조, 공간, 변화 등의 개념을 다루는 학문이다. 널리 받아들여지는 명확한 정의는 없으나 현대 수학은 일반적으로 엄밀한 논리에 근거하여 추상적 대상을 탐구하며, 이는 규칙의 발견과 문제의 제시 및 해결의 과정으로 이루어진다. 수학은 그 발전 과정에 있어서 철학, 과학과 깊은 연관을 맺고 있으며, 다만 엄밀한 논리와 특유의 추상성, 보편성에 의해 다른 학문들과 구별된다. 특히 수학은 과학의 여느 분야들과는 달리 자연계에서 관측되지 않는 개념들에 대해서까지 이론을 추상화시키는 특징을 보이는데, 수학자들은 그러한 개념들에 대한 추측을 제시하고 적절하게 선택된 정의와 공리로부터 엄밀한 연역을 거쳐 그 진위를 파악한다.\\n\\n수학의 개념들은 기원전 600년 경에 활동하며 최초의 수학자로도 여겨지는 탈레스의 기록은 물론, 다른 고대 문명들에서도 찾아볼 수 있으며 인류의 문명과 함께 발전해 왔다. 오늘날 수학은 자연과학, 사회과학, 공학, 의학 등 다른 여러 학문에서도 핵심적인 역할을 하며 다양한 방식으로 응용된다.\\n\\n수학을 의미하는 매스매틱스(mathematics)라는 단어는 '아는 모든 것', '배우는 모든 것'이라는 뜻의 고대 그리스어 'máthēma'(μάθημα) 및 그 활용형 mathēmatikós(μαθηματικός)에서 유래되었다.\\n\\n역사적으로 고대부터 현대에 이르기까지 문명에 필수적인 건축, 천문학, 정치, 상업 등에 수학적 개념들이 응용되어 왔다. 교역·분배·과세 등 인류의 사회 생활에 필요한 모든 계산에 수학이 관여해 왔고, 농경 생활에 필수적인 천문 관측과 달력의 제정, 토지의 측량 또한 수학이 직접적으로 사용된 분야이다. 고대 수학을 크게 발전시킨 문명으로는 이집트, 인도, 중국, 그리스 등이 있다.\\n\\n특히 고대 그리스 문명에서는 처음으로 방정식에서 변수를 문자로 쓰는 등 추상화가 발전하였고 유클리드의 원론에서는 최초로 엄밀한 논증에 근거한 수학이 나타난다. 수학의 발전은 이후로도 계속되어 16세기의 르네상스에 이르러서는 과학적 방법과의 상호 작용을 통해 수학과 자연과학에 있어서 혁명적인 연구들이 진척되었고, 이는 인류 문명 발달에 큰 영향을 미치게 되었다.\\n\\n수학의 각 분야들은 상업에 필요한 계산을 하기 위해, 숫자들의 관계를 이해하기 위해, 토지를 측량하기 위해, 그리고 천문학적 사건들을 예견하기 위해 발전되어왔다. 이 네 가지 목적은 대략적으로 수학이 다루는 대상인 양, 구조, 공간 및 변화에 대응되며, 이들을 다루는 수학의 분야를 각각 산술, 대수학, 기하학, 해석학이라 한다. 또한 이 밖에도 근대 이후에 나타난 수학기초론과 이산수학 및 응용수학 등이 있다.\\n\\n산술은 자연수와 정수 및 이에 대한 사칙연산에 대한 연구로서 시작했다. 수론은 이런 주제들을 보다 깊게 다루는 학문으로, 그 결과로는 페르마의 마지막 정리 등이 유명하다. 또한 쌍둥이 소수 추측과 골드바흐 추측 등을 비롯해 오랜 세월 동안 해결되지 않고 남아있는 문제들도 여럿 있다.\\n\\n수의 체계가 보다 발전하면서, 정수의 집합을 유리수의 집합의 부분집합으로 여기게 되었다. 또한 유리수의 집합은 실수의 집합의 부분집합이며, 이는 또다시 복소수 집합의 일부분으로 볼 수 있다. 여기에서 더 나아가면 사원수와 팔원수 등의 개념을 생각할 수도 있다. 이와는 약간 다른 방향으로, 자연수를 무한대까지 세어나간다는 개념을 형식화하여 순서수의 개념을 얻으며, 집합의 크기 비교를 이용하여 무한대를 다루기 위한 또다른 방법으로는 기수의 개념도 있다.\\n\\n수 대신 문자를 써서 문제해결을 쉽게 하는 것과, 마찬가지로 수학적 법칙을 일반적이고 간명하게 나타내는 것을 포함한다. 고전대수학은 대수방정식 및 연립방정식의 해법에서 시작하여 군, 환, 체 등의 추상대수학을 거쳐 현대에 와서는 대수계의 구조를 보는 것을 중심으로 하는 선형대수학으로 전개되었다. 수의 집합이나 함수와 같은 많은 수학적 대상들은 내재적인 구조를 보인다. 이러한 대상들의 구조적 특성들이 군론, 환론, 체론 그리고 그 외의 수많은 대수적 구조들을 연구하면서 다루어지며, 그것들 하나하나가 내재적 구조를 지닌 수학적 대상이다. 이 분야에서 중요한 개념은 벡터, 벡터 공간으로의 일반화, 그리고 선형대수학에서의 지식들이다. 벡터의 연구에는 산술, 대수, 기하라는 수학의 중요한 세개의 분야가 조합되어 있다. 벡터 미적분학은 여기에 해석학의 영역이 추가된다. 텐서 미적분학은 대칭성과 회전축의 영향 아래에서 벡터의 움직임을 연구한다. 눈금없는 자와 컴퍼스와 관련된 많은 고대의 미해결 문제들이 갈루아 이론을 사용하여 비로소 해결되었다.\\n\\n공간에 대한 연구는 기하학에서 시작되었고, 특히 유클리드 기하학에서 비롯되었다. 삼각법은 공간과 수들을 결합하였고, 잘 알려진 피타고라스의 정리를 포함한다. 현대에 와서 공간에 대한 연구는, 이러한 개념들은 더 높은 차원의 기하학을 다루기 위해 비유클리드 기하학(상대성이론에서 핵심적인 역할을 함)과 위상수학으로 일반화되었다. 수론과 공간에 대한 이해는 모두 해석 기하학, 미분기하학, 대수기하학에 중요한 역할을 한다. 리 군도 공간과 구조, 변화를 다루는데 사용된다. 위상수학은 20세기 수학의 다양한 지류속에서 괄목할만한 성장을 한 분야이며, 푸앵카레 추측과 인간에 의해서 증명되지 못하고 오직 컴퓨터로만 증명된 4색정리를 포함한다.\\n\\n변화에 대한 이해와 묘사는 자연과학에 있어서 일반적인 주제이며, 미적분학은 변화를 탐구하는 강력한 도구로서 발전되었다. 함수는 변화하는 양을 묘사함에 있어서 중추적인 개념으로써 떠오르게 된다. 실수와 실변수로 구성된 함수의 엄밀한 탐구가 실해석학이라는 분야로 알려지게 되었고, 복소수에 대한 이와 같은 탐구 분야는 복소해석학이라고 한다. 함수해석학은 함수의 공간(특히 무한차원)의 탐구에 주목한다. 함수해석학의 많은 응용분야 중 하나가 양자역학이다. 많은 문제들이 자연스럽게 양과 그 양의 변화율의 관계로 귀착되고, 이러한 문제들이 미분방정식으로 다루어진다. 자연의 많은 현상들이 동역학계로 기술될 수 있다. 혼돈 이론은 이러한 예측 불가능한 현상을 탐구하는 데 상당한 기여를 한다.\\n\\n수학의 기초를 확실히 세우기 위해, 수리논리학과 집합론이 발전하였고, 이와 더불어 범주론이 최근에도 발전되고 있다. “근본 위기”라는 말은 대략 1900년에서 1930년 사이에 일어난, 수학의 엄밀한 기초에 대한 탐구를 상징적으로 보여주는 말이다. 수학의 엄밀한 기초에 대한 몇 가지 의견 불일치는 오늘날에도 계속되고 있다. 수학의 기초에 대한 위기는 그 당시 수많은 논쟁에 의해 촉발되었으며, 그 논쟁에는 칸토어의 집합론과 브라우어-힐베르트 논쟁이 포함되었다.\\n\\n오늘날 수학은 자연과학, 공학뿐만 아니라, 경제학 등의 사회과학에서도 중요한 도구로 사용된다. 예를 들어, 정도의 차이는 있으나, 미적분학과 선형대수학은 자연과학과 공학, 경제학을 하는데에 필수적 과목으로 여겨지며, 확률론은 계량경제학에 응용된다. 통계학은 사회과학 이론에 근거를 마련하는데 필수적이다. 16세기에 갈릴레오 갈릴레이가 \\\"자연이라는 책은 수학이라는 언어로 기록되어 있다.\\\"는 주장과 함께 물리학에 수학적 방법을 도입하였고, 17세기에 아이작 뉴턴이 고전 역학의 기본 물리학 법칙들을 수학적으로 기술하고 정립하여 물리학 이론에서 수학적 모델링은 필수적 요소가 되었다. 또한 이 시기는 과학적 방법이 정립되는 시기이기도 한데, 많은 과학적 현상들이 수학적 관계가 있음이 드러나면서 과학적 방법에도 수학은 중요한 역할을 하고 있다. 노벨 물리학상 수상자 유진 위그너는 그의 에세이 \\\"The unreasonable effectiveness of mathematics in natural sciences\\\"에서 인간 세상과 동떨어져있고 현실과 아무 관련이 없다고 여겨지던 수학 중 극히 일부는 뜻밖에도 자연과학과 연관성이 드러나고 과학이론에 효과적인 토대를 마련해 주는데에 대한 놀라움을 표현하였다. 예를 들어, 비유클리드 기하학과 3차원 이상의 임의의 차원에서 기하학을 탐구했던 미분 기하학은 당시에는 현실과 연관성을 가지지 않았으나 먼 훗날 일반상대성이론이 4차원 기하학을 필요로 함에 따라, 물리적 세상과 연관이 있음이 밝혀졌다. 또한 게이지이론, 양자장론 등에도 미분 기하학은 필수적이다.\\n\\n또한 수학은 음악이나 미술 등 예술과도 관련이 있다. 피타고라스는 두 정수의 비율이 듣기 좋은 소리가 난다는 점을 가지고 피타고라스 음계를 만들었다. 중세시대에도 음악과 수학을 밀접하게 연관시켰으며 성 빅토르의 후고는 “음악은 조화다”라고 했고, 성 트론드의 루돌프는 “음악은 조화의 토대(ratio)다”라고 쓴 바 있다. 조화가 반드시 소리로 표현될 필요는 없고 소리의 음악은 음악의 형식 중 하나에 불과했다. 소리에 대해 다루었던 중세의 저술가들이 있는가 하면, 조화와 비례의 추상적 이론만을 다루고 소리에는 거의 관심을 보이지 않았던 저술가들도 있었다. 청각적인 면과 추상적인 면이라는 음악의 이런 이중적 측면은 고대의 음악이론보다는 중세의 음악이론에서 큰 특징이 되었다. 또한 현대 음악을 군(群,group)같은 수학적 대상을 이용해 분석하기도 한다. 원근법은 사영 기하학에 해당한다. 미술 사조 중 하나인 입체파도 기하학의 영향을 받았다.\\n\\n\\n\"}\n",
            "{\"id\": \"10\", \"url\": \"https://ko.wikipedia.org/wiki?curid=10\", \"title\": \"수학 상수\", \"text\": \"수학 상수\\n\\n수학에서 상수란 그 값이 변하지 않는 불변량으로, 변수의 반대말이다. 물리 상수와는 달리, 수학 상수는 물리적 측정과는 상관없이 정의된다.\\n\\n수학 상수는 대개 실수체나 복소수체의 원소이다. 우리가 이야기할 수 있는 상수는 (거의 대부분 계산 가능한) 정의가능한 수이다.\\n\\n특정 수학 상수, 예를 들면 골롬-딕맨 상수, 프랑세즈-로빈슨 상수, formula_1, 레비 상수와 같은 상수는 다른 수학상수 또는 함수와 약한 상관관계 또는 강한 상관관계를 갖는다.\\n\\n\\n\\n\\n\\n\\n\\n\\n\"}\n",
            "{\"id\": \"19\", \"url\": \"https://ko.wikipedia.org/wiki?curid=19\", \"title\": \"문학\", \"text\": \"문학\\n\\n문학(文學, )은 언어를 예술적 표현의 제재로 삼아 새로운 의미를 창출하여, 인간과 사회를 진실되게 묘사하는 예술의 하위분야이다. 간단하게 설명하면, 언어를 통해 인간의 삶을 미적(美的)으로 형상화한 것이라고 볼 수 있다. 문학은 원래 문예(文藝)라고 부르는 것이 옳으며, 문학을 학문의 대상으로서 탐구하는 학문의 명칭 역시 문예학이다. 문예학은 음악사학, 미술사학 등과 함께 예술학의 핵심분야로서 인문학의 하위범주에 포함된다.\\n\\n일반적으로 문학의 정의는 텍스트들의 집합이다. 각각의 국가들은 고유한 문학을 가질 수 있으며, 이는 기업이나 철학 조류, 어떤 특정한 역사적 시대도 마찬가지이다. 흔히 한 국가의 문학을 묶어서 분류한다. 예를 들어 고대 그리스어, 성서, 베오울프, 일리아드, 그리고 미국 헌법 등이 그러한 분류의 범주에 들어간다. 좀 더 일반적으로는 문학은 특정한 주제를 가진 이야기, 시, 희곡의 모음이라 할 수 있다. 이 경우, 이야기, 시, 그리고 희곡은 민족주의적인 색채를 띨 수도 아닐 수도 있다. 문학의 한 부분으로서 특정한 아이템을 구분 짓는 일은 매우 어려운 일이다. 어떤 사람들에게 \\\"문학\\\"은 어떠한 상징적인 기록의 형태로도 나타날 수 있는 것이다. (이를테면 이미지나 조각, 또는 문자로도 나타날 수 있다.) 그러나 또다른 사람들에게 있어 문학은 오직 문자로 이루어진 텍스트로 구성된 것만을 포함한다. 좀 더 보수적인 사람들은 그 개념이 꼭 물리적인 형태를 가진 텍스트여야 하고, 대개 그러한 형태는 종이 등의 눈에 보이는 매체에서 디지털 미디어까지 다양할 수 있다.\\n\\n더 나아가 보면, \\\"문학\\\"과 몇몇 인기있는 기록형태의 작업들, 소위 \\\"대중문학\\\" 사이에는 인식가능한 차이점이 존재한다. 이때 \\\"문학적인 허구성\\\"과 \\\"문학적인 재능\\\"이 종종 개별적인 작품들을 구별하는 데에 사용된다. 예를 들어, 찰스 디킨즈의 작품들은 대부분의 사람들에게 \\\"문학적인 것\\\"으로 받아들여지지만, 제프리 아처의 작품들은 영문학이라는 일반적인 범주 아래 두기에는 다소 가치가 떨어지는 것으로 생각된다. 또한 예를 들어 문법과 어법에 서투르거나, 이야기가 혼란스러워 신뢰성을 주지 않거나, 인물들의 성격에 일관성이 없을 경우에도 문학에서 제외될 수 있다. 로맨스, 범죄소설, 과학소설 등의 장르 소설도 때로 \\\"문학\\\"이 아닌 것으로 간주되는 경우도 있다. 이들은 대부분 \\\"대중문학\\\"의 범주에 포함된다.\\n\\n문학은 분류하는 방법에 따라 다음과 같이 구분한다.\\n이 외에도 편의에 따라 발생적으로 대별하기도 한다.\\n\\n문학은 처음은 유일한 종류, 즉 노래하고, 말하고, 춤춘다는 것이 분화되지 않은 것이었다. 이 춤추는 것을 중심으로 발달한 것이 연극(演劇)이며, 노래하는 것이 발달하여 시(詩), 말하는 것이 발달하여 산문(散文)의 이야기가 되었다. 시는 정형시·자유시·산문시로, 또한 서사시와 서정시로 나뉜다. 산문은 사건을 중심으로 그려진 이야기, 근대 리얼리즘의 수법 이후 인물의 성격을 묘사하는 것을 중심으로 한 소설이 있다. 이야기나 소설과 같이 특별한 구상에 의하지 않고, 작자의 흥미에 의해서 씌어지는 것이 잡문(雜文) 또는 수필이며, 이것이 날짜에 따라 씌어지는 것이 일기, 여행의 과정에 따라 씌어지는 것이 기행문이다. 일기와 마찬가지로 발표의 의도가 작은 것에 서간(書簡)이 있다. 이 밖에 사건의 경험에 따른 회고록, 사건 등의 특정시(特定時)에 한정되지 않는 자서전, 제삼자에 의해서 씌어지는 전기(傳記)가 있다. 또한 이것들을 포함하는 예술작품의 가치평가를 시도하는 것이 평론(評論)이다.\\n\\n\\n대중문학이란 상업성을 띠며 대중을 겨냥하여 그들의 통속적인 흥미와 욕구를 채워주는 문학을 말한다. 대중문학의 하위장르에는 여러가지가 있다.\\n\\n\\n\\n문학을 창작하는 예술가를 문예가라고 부른다. 문예학을 연구하는 사람을 문예학자라고 부른다. 문학을 창작하는 사람을 따로 저술가라고 한다. 문예학자와 언어학자를 합쳐 어문학자로 칭하기도 한다. 그러나 언어와, 언어를 사용한 예술인 문학은 현격한 차이가 있으므로 주의해야 한다.\\n\\n\\n\\n\\n\\n반영론적 관점에 의한 감상은 작품을 창작된 당시 시대 정황과 연결시켜 감상하는 입장이고, 내재적 관점의 감상은 작품의 형식, 내용에 국한하여 감상하는 것이다. 표현론적 관점의 감상은 작가의 전기적 사실과 작품을 연결시켜 감상하는 것이고, 수용론적 관점의 감상은 독자와 작품을 연결시켜 감상하는 것을 말한다.\\n\\n\\n\"}\n",
            "{\"id\": \"20\", \"url\": \"https://ko.wikipedia.org/wiki?curid=20\", \"title\": \"나라 목록\", \"text\": \"나라 목록\\n\\n이 목록에 실린 국가 기준은 1933년 몬테비데오 협약 1장을 참고로 하였다. 협정에 따르면, 국가는 다음의 조건을 만족해야 한다.\\n\\n특히, 마지막 조건은 국제 공동체의 참여 용인을 내포하고 있기 때문에, 다른 나라의 승인이 매우 중요한 역할을 할 수 있다. 이 목록에 포함된 모든 국가는 보통 이 기준을 만족하는 것으로 보이는 자주적이고 독립적인 국가이다. 하지만 몬테비데오 협약 기준을 만족하는지의 여부는 많은 국가가 논쟁이 되고 있는 실정이다. 또한, 몬테비데오 협약 기준만이 국가 지위의 충분한 자격이든 아니든, 국제법의 견해 차이는 존재할 수 있다. 이 물음에 대한 다른 이론에 대한 고리는 아래에서 볼 수 있다.\\n\\n위 기준에 논거하여 이 목록은 다음 206개 국가를 포함하고 있다.\\n\\n다음 국가는 몬테비데오 협약의 모든 조건을 만족하지 못하거나, 자주적이고 독립적임을 주장하지 않는 국가이다.\\n\\n\\n이 목록은 주권을 주장하고 점유한 영토를 실제로 관리하고 있으나, 많은 국가와 외교관계를 맺지 못한 나라를 설명하고 있다. 극소형 국가는 이 목록에 포함하지 않는다.\\n\\n\\n\"}\n",
            "{\"id\": \"21\", \"url\": \"https://ko.wikipedia.org/wiki?curid=21\", \"title\": \"화학\", \"text\": \"화학\\n\\n화학(化學, )은 물질의 성질, 조성, 구조, 변화 및 그에 수반하는 에너지의 변화를 연구하는 자연과학(自然科學)의 한 분야이다. 물리학(物理學)도 역시 물질을 다루는 학문이지만, 물리학이 원소(元素)와 화합물(化合物)을 모두 포함한 물체의 운동과 에너지, 열적·전기적·광학적·기계적 속성을 다루고 이러한 현상으로부터 통일된 이론을 구축하려는 것과는 달리 화학에서는 물질 자체를 연구 대상으로 한다. 화학은 이미 존재하는 물질을 이용하여 특정한 목적에 맞는 새로운 물질을 합성하는 길을 제공하며, 이는 농작물(農作物)의 증산, 질병의 치료 및 예방, 에너지 효율 증대, 환경오염(環境汚染) 감소 등 여러 가지 이점을 제공한다.\\n\\n화학을 뜻하는 영어 ‘케미스트리(chemistry)’는 연금술사들이 물질을 섞으며 발전시켰기 때문에 연금술을 뜻하는 단어 ‘알케미(alchemy)’에서 비롯하였다. 이는 다시 아랍어 ‘알 키미야(, al-kīmiyāʾ)’에서 왔는데, 이 단어의 어원에 대해서는 여러 가지 설이 있다.\\n\\n‘화학(化學)’이란 단어는 물질의 변화를 다루는 학문이라는 점에 착안한 번역어이다. 이 번역어는 의 《항해술기(航海述奇)》(1866), 의 자연과학 교과서 《격물입문(格物入門)》(1866) 등에서 처음 쓰였다.\\n\\n고대 화학(古代化學)\\n\\n<nowiki>*</nowiki>\\\"초기 야금 (冶金, 야금: 금속을 광석으로부터 추출하고 정련하는 기술)\\\"\\n\\n인간에 의해 발견된 최초의 기록된 금속은 금(金)인 것으로 보이며 구석기(舊石器) 후기(BC 40,000)에 스페인 동굴에서 소량의 천연 금이 발견되었다고 한다.\\n\\n은(銀), 구리(銅), 주석(朱錫) 및 유성 철(鐵) 또한 고대 문화에서 일부 제한된 양의 금속 가공을 허용하면서 고대문화로 발견 될 수 있었다. 기원전 3000년경 유성 철제로 만든 이집트 무기는 \\\"천국의 단검(天國短劍)\\\"으로 높이 평가 받았다.\\n\\n아마도 통제 된 방식으로 사용 된 최초의 화학 반응은 불이였다. 그러나 천년 동안 불은 단순히 열과 빛을 생성하면서 한 물질을 다른 물질 (타는 나무 또는 끓는 물)로 변형시킬 수있는 신비한 힘으로만 알려졌다. 불은 초기 사회의 여러 측면에 영향을 미쳤다. 이들은 요리 및 서식지(棲息地) 조명과 같은 일상 생활의 가장 단순한면에서 도기, 벽돌 및 금속을 녹여 도구를 만드는 것과 같은 고급 기술(高級技術)에 이르기까지 다양했다.\\n\\n유리(琉璃)의 발견과 금속(金屬)의 정화로 이어지는 불로 인해 야금이 부상했다. 야금의 초기 단계에서 금속의 정화 방법이 요구되었고, 금은 BC 2900년 초기의 고대 이집트의 귀중한 금속이되었다.\\n\\n17 세기와 18 세기 : 초기 화학(初期化學)\\n\\n\\\"<nowiki>*</nowiki>로버트 보일\\\"\\n\\n영국계 미국인 화학자(化學者) 로버트 보일 (Robert Boyle, 1627-1691)은 연금술(鍊金術)에 대한 현대의 과학적 방법을 정제하고 화학을 연금술과 분리한 것으로 생각된다. 그의 연구가 연금술 전통에 뿌리를두고 있음에도 불구하고, 보일은 오늘날 현대의 화학자이자 현대화학(現代化學)의 창시자이자 현대 실험 과학 방법의 선구자(先驅者) 중 한 사람으로 불리고 있다. 보일이 원래 발견자가 아님에도 보일은 1662년에 제시한 보일의 법칙으로 가장 잘 알려져있다. 보일의 (法則)은 온도(溫度)만 폐쇄(閉鎖)된 시스템 내에서 일정하게 유지된다면 가스의 절대 압력과 부피가 반비례함을 의미한다. 보일은 또한 화학 분야의 초석으로 간주되는 1661년의 《의심 많은 화학자》 에 대한 획기적인 저서로 인정받고 있다. 작품에서 보일은 모든 현상이 움직이는 입자의 충돌의 결과라는 가설을 제시한다. 보일 (Boyle)은 화학자들에게 실험을 호소했으며 실험은 지구, 화염, 공기 및 물과 같은 고전적인 4 가지 원소만으로 화학 원소를 제한한다는 것을 부인했다. 그는 또한 화학이 의학이나 연금술에 종속되어 과학의 지위로 부상하는 것을 중단해야 한다고 촉구했다. 중요한 것은 과학 실험에 대한 엄격한 접근 방식이라고 주장했다. 그는 모든 이론이 사실로 간주되기 전에 실험적으로 입증되어야 한다고 믿었다. 이 작품은 원자, 분자 및 화학 반응의 가장 초기의 현대적인 아이디어를 포함하고 있으며 현대 화학의 역사의 시작을 나타낸다. 보일은 또한 화학 물질을 정제하여 재현 가능한 반응을 얻으려고 시도했다. 그는 재료 물질의 물리적 특성(物理的特性)과 상호 작용(相互作用)을 설명하고 정량화(定量化)하기 위해 르네 데카르트가 제안한 기계 철학(機械哲學)의 보컬 지지자였다. 보일은 원자핵론자(原子核論者)였지만 원자보다 더 많은 입자를 선호했다. 그는 속성이 유지되는 물질의 가장 정밀한 부분은 미립자(微粒子)의 수준에 있다고 논평했다. 그는 또한 공기 펌프로 수 많은 조사를 수행했으며, 공기가 펌프로 퍼져 나감에 따라 수은이 떨어지는 것으로 나타났다. 그는 또한 컨테이너에서 공기를 펌핑하면 화염을 없애고 내부에 있는 작은 동물을 죽일 수 있음을 관찰했다.\\n\\n과거 화학에서 더 이상 나뉘지 않는 기초적인 요소가 존재한다고 했는데, 이 기초적인 요소를 원자(原子)라 한다. 원자란 물질을 구성하는 기본적인 입자(粒子)로 고대 그리스의 데모크리토스에서부터 그 존재가 주장되었는데, 1803년 존 돌턴에 의해서 원자론(原子論)으로 정리되었다. 20세기 초, 화학자들은 원자를 구성하는 더 작은 입자들, 즉 전자(電子), 양성자(陽性子), 중성자(中性子)가 존재한다는 사실을 발견하였다. 전자는 음전하를 띠고 있고, 양성자는 양전하를 띠고 있으며, 중성자는 전하를 띠지 않고 있다. 원자는 양성자와 중성자로 구성되어 있는 원자핵(原子核)을 가지고 있으며 전자는 이 주변에 원자 궤도(原子軌道)을 이루며 분포되어 있다.\\n\\n원소(元素)는 일반적인 화학적, 물리학적 방법으로는 분해되지 않는 물질을 의미한다. 원소는 원자핵에 존재하는 양성자 수로 정의되는 원자 번호(原子番號)로 구별된다. 산소(酸素), 황(黃), 주석(朱錫), 철(鐵) 등은 원소이다. 19세기 중엽까지 약 80가지의 원소가 발견되었는데, 이들은 주기율(週期律)에 따라 배열(配列)될 수 있다.\\n\\n동위원소(同位元素)는 아이소토프 또는 동위체(同位體)라고도 한다. 서로 화학적으로는 거의 구별하지 못하지만 그것을 구성하고 있는 원자(原子)의 질량(質量)이 서로 다른 원소를 동위원소라고 한다. 영어의 isotope는 그리스어인 isos(같은)와 topos(장소)의 합성어(合成語)인데, 질량은 서로 달라도 원소의 주기율표(週期律表)에서 같은 장소에 배열되는 데서 1901년 영국의 화학자 F. 소디가 isotope라는 명칭을 붙였다. 대부분의 원소는 동위 원소를 가진다. 동위 원소는 원자 번호는 같으나, 중성자수가 다른 원소를 뜻한다. 동위 원소는 화학적인 성질(化學的性質)은 동일하나, 원자량의 차이를 이용하여 분리할 수 있다. 자연에서도 발견되는 92개의 원소 중 88개는 동위 원소가 지표면 상에 존재한다. 자연에서 발견되지 않더라도 동위 원소는 핵반응(核反應)을 이용하여 만들어낼 수 있다. 어떤 동위 원소는 방사능을 가지기도 하는데, 이 경우 동위 원소의 원자핵은 불안정하고 방사선(放射線)을 방출하며 자연적으로 붕괴된다.\\n\\n동중 원소(同重元素)는 원자 질량(原子質量)은 같으나, 양성자수(陽性子數)가 다른 원소를 뜻한다. 동중 원소는 화학적, 물리적 성질이 다르며 S, Cl, Ar, K, Ca등이 있다.\\n\\n분자(分子)란 원자의 결합체(結合體) 중 독립 입자(獨立粒子)로서 작용하는 단위체(單位體)이다. 일정한 개수의 원자가 특정하게 정렬되어 서로 결합해 분자가 형성된다. 원자가 원소(元素)의 최소단위(最小單位)이듯, 분자(分子)는 화합물(化合物)의 최소단위가 된다. 원자가 결합(結合)될 때 전자의 재배치(再配置)가 일어나는데, 이는 화학에서의 중요한 관심사중 하나이다.\\n\\n화학 반응은 원자 혹은 분자가 화학적인 변화를 겪는 일을 말한다. 화학 반응은 원자간의 결합이 끊어지는 일과 다시 이어지는 일을 포함한다. 결합이 끊어질 때는 에너지가 흡수되고, 결합이 이어질 때는 에너지가 방출된다. 화학 반응의 간단한 예로는 수소와 산소가 반응하여 물이 되는 것을 들 수 있다. 반응식(反應式)은 다음과 같다.\\n반응식(反應式)에서 알 수 있듯이, 화학 반응에서는 원자가 새로 생성되거나 나타나는 일이 일어나지 않는다. ΔH는 에너지 또는 엔탈피 변화를 뜻한다. 반응은 발열반응(發熱反應)일 수도 있고, 흡열반응(吸熱反應)일 수도 있다. 발열반응은 주위로 열을 방출(放出)하는 반응으로 엔탈피 변화가 음수(陰數)로 나타난다. 반면에 흡열반응은 주위 열을 흡수하는 반응으로 엔탈피 변화가 양수(陽數)로 나타난다. 위 반응의 경우는 발열반응인데, 이는 계(界)로부터 주위(周圍)로 열이 이동(移動)하였다는 의미이다.\\n\\n화학 결합(化學結合)을 주된 세 가지 부류로 나누어보면 이온 결합(ion結合), 공유 결합(共有結合) 그리고 금속결합(金屬結合)으로 나눌 수 있다. 이온이란 전하(電荷)를 띤 원자 또는 분자를 뜻한다. 이온 결합은 양전하(陽電荷)와 음전하(陰電荷)의 전기적인 인력(電氣的引力)에 의해서 생성되는 화학 결합이다. 예를 들면 염화 나트륨은 양전하를 띤 나트륨 이온(Na)과 음전하를 띤 염화 이온(Cl) 사이의 전기적인 결합으로 이루어진 이온 화합물(化合物)이다. 이러한 물질을 물에 녹이면 이온은 물 분자에 의해 수화되고 이렇게 해서 만들어진 수용액(水溶液)은 전기전도도(電氣傳導度)를 가진다.\\n\\n공유 결합(共有結合)은 원자 궤도(原子軌道)이 겹쳐진 결과 두 원자가 전자쌍(電子雙)을 공유하게 되어 생성되는 결합을 의미한다. 공유 결합이 형성되는 결합은 발열반응(發熱反應)인데, 이때 방출되는 에너지의 양이 그 결합의 결합 에너지이다. 결합 에너지만큼의 에너지를 그 결합에 가해주면 결합은 끊어질 수 있다.\\n\\n금속 결합(金屬結合)은 금속 원자에서 전자(電子)들이 떨어져 나와 자유전자(自由電子)를 생성하게 되어 생성되는 결합을 의미한다. 금속의 특성인 연성(延性)과 전성(轉成)이 생성되는 이유이기도 하다.\\n\\n화합물(化合物)은 구성하고 있는 원자의 종류, 수, 배치에 의해서 그 특성이 결정된다. 자연에서 찾을 수 있거나 인공적으로 합성(合成)할 수 있는 화합물의 수는 엄청나고, 이들 중 대부분은 유기 화합물(有機化合物)이다. 유기 화합물을 이루는 주된 화학 원소(化學元素)인 탄소(炭素)는 다른 화학 원소와는 다르게 매우 긴 사슬 형태로 정렬될 수 있으며, 같은 수많은 이성질체(異性質體)를 형성할 수 있다. 예를 들어, 분자식(分子式) CHO는 약 천 개의 서로 다른 화합물을 뜻할 수 있다.\\n\\n화학은 취급 대상(取扱對象) 및 대상의 취급 방법에 따라서 몇 가지 분과(分科)로 구분될 수 있다. 물질을 분석하는 분석화학(分析化學)은 크게 물질의 존재를 취급하는 정성 분석과 물질의 양을 결정하는 정량 분석으로 나눌 수 있다. 탄소를 포함한 유기 화합물(有機化合物)을 다루는 유기화학(有機化學)과 유기 화합물을 제외한 무기 화합물(無機化合物)을 다루는 무기화학(無機化學)도 있다. 물리학(物理學)과 화학의 경계에는 물리화학(物理化學)이 있고 생물학(生物學)과의 경계에는 생화학(生化學)이 있다. 물리화학에서 특히 분자의 구조와 성질과의 관계를 다루는 부분을 구조화학(構造化學)이라고 부르기도 한다. 제2차 세계 대전(第2次世界大戰) 이후에는 방사성 물질을 다루는 방사화학(放射化學)이 발전하였고 화학 공업을 다루는 공업화학(工業化學)도 있다. 이 외에도 화학의 분과는 매우 다양하다.\\n\\n화학의 분과는 전통적으로 다음과 같은 5가지로 나눌 수 있으며, 각각의 분과는 더욱 세분화될 수 있다.\\n\\n무기화학(無機化學)은 유기화학에서 다루지 않는 물질을 다루며 주로 금속이나 준금속(準金屬)이 포함된 물질에 대해서 연구한다. 따라서 무기화학에서는 매우 넓은 범위의 화합물을 다루게 된다. 초기에는 광물(鑛物)의 구성이나 새 원소의 발견이 주요 관심사였고 여기서부터 지구화학(地球化學)이 분기되었다. 주로 전이 금속(轉移金屬) 등을 이용한 촉매(觸媒)나 생물에서 산소 수송(酸素輸送), 광합성(光合成), 질소 고정(窒素固定) 등의 과정에서 중요한 역할을 하는 금속 원자들에 대해 연구하며 이 외에도 세라믹, 복합재료(複合材料), 초전도체(超傳導體)등에 대한 연구를 한다.\\n\\n물리화학(物理化學)은 화학적 현상(化學的現象)에 대한 해석과 이를 설명하기 위한 물리적 원리들에 대해 다루는 분과이다. 화학반응(化學反應)에 관련된 열역학적 원리와 물질의 물리학적 성질에 대한 설명은 물리화학이 다루는 고전적인 주제이다. 물리화학은 양자화학(量子化學)의 발전에도 큰 기여를 하였다. 분광계(分光計)나 자기 공명(磁氣共鳴), 회절(回折) 기기 등 물리화학에서 사용하는 실험 장비나 실험 방법(實驗裝備)들은 다른 화학의 분과에서도 매우 많이 사용된다. 물리화학이 다루는 대상은 유기 화합물, 무기 화합물, 혼합물(混合物)을 모두 포함한다.\\n\\n분석화학(分析化學)은 물질의 조성이나 혼합물(混合物)의 구성요소(構成要素) 등을 결정하는 방법에 대해서 연구하는 화학의 분과이다. 혼합물을 이루고 있는 성분의 탐색(探索), 분리(分離), 정량(定量)과 분자를 이루고 있는 원자의 비율을 측정하여 분자식을 결정하는 일 등이 분석화학에서 행해진다. 1950년대의 분석화학의 발전은 많은 질량 분석계를 포함한 분석 기구의 등장을 불러일으켰다. 이 외에도 고해상도(高解像度) 크로마토그래피, 전기화학(電氣化學)에서의 많은 실험방법(實驗方法) 등은 분석화학에 있어서 중요한 분석법이다. 분석화학에 있어서 최종 목표는 더 정확한 측정법(測定法)이나 측정기기(測定機器) 등을 개발하는 것이다. 분석화학의 발전으로 인해 환경오염 물질(環境汚染物質) 등을 피코그램의 수준에서도 감지하는 것이 가능해졌다.\\n\\n생화학(生化學)에서는 이와 같이 생물체에서 기능하는 물질들을 다룬다.화학의 관점(觀點)에서 다루는 학문이다. 식물(植物)이나 동물(動物)의 세포(細胞)에서 발견되는 물질이나 일어나는 화학 반응들이 주 관심사이다. 생명체(生命體)에서 발견되는 탄수화물(炭水化物), 지방(脂肪), 단백질(蛋白質), 핵산(核酸), 호르몬 등은 유기 화합물이라서 유기화학에서도 다루어지기도 하나, 이들 화합물에 관련된 물질대사(物質代謝) 과정이나 조절 과정에 대한 연구는 생화학의 고유 분야이다. 효소(酵素)와 조효소(助酵素), 그리고 이들의 작용 과정에 대해서도 연구하며, 세포막(細胞膜)을 통과하는 이온과 분자, 신경전달물질(神經傳達物質)과 다른 조절 물질들의 작용에 대해서도 연구한다. 생화학은 내분비학(內分泌學), 유전학(遺傳學), 면역학(免疫學), 바이러스학의 발전에 큰 영향을 끼쳤다.\\n\\n유기화학(有機化學)은 탄소(炭素)로 이루어진 화합물(化合物)을 연구하는 분과이다. 원래 유기 화합물은 식물이나 동물로부터 추출해낸 화합물을 뜻하였으나 지금은 유기 화합물의 범위가 크게 넓어져 탄소 사슬 또는 탄소 고리를 가진 모든 화합물을 뜻한다. 유기화학의 오랜 관심사는 유기 화합물의 합성 메커니즘이다. 현대에 들어서 핵자기 공명법(核磁氣共鳴法)과 X선 결정학(X線結晶學) 등이 개발되어 유기 화합물 분석에 있어서 매우 중요한 방법으로 자리잡았다. 플라스틱, 합성섬유(合成纖維)등의 고분자물질(高分子物質) 등도 유기화학에서 다루어진다.\\n\\n\\n\\n\"}\n",
            "{\"id\": \"22\", \"url\": \"https://ko.wikipedia.org/wiki?curid=22\", \"title\": \"체첸 공화국\", \"text\": \"체첸 공화국\\n\\n체첸 공화국(, , ), 또는 줄여서 체첸(, , )은 연방국가인 러시아를 이루는 러시아의 공화국이다. 북캅카스 지역에 위치하여 있으며, 인구 다수는 체첸인으로 구성되어 있다.\\n\\n거의 대부분이 체첸인이다. 일부는 러시아인, 인구시인과 기타 북코카서스계 민족도 섞여있다. 체첸에서는 체첸인들의 토착 언어인 체첸어와 러시아어가 모두 사용된다. 체첸어는 캅카스 제어 중 북동 캅카스어족으로 불리는 그룹에 속하는데 인근의 인구시인들이 쓰는 인구시어와 밀접한 관계에 있다.\\n\\n1989년에 행해진 체첸-인구시 자치공화국의 통계에서는 체첸인이 956,879명, 인구시인이 237,438명으로, 269,000명의 러시아인은 인구의 약 23%로 상당한 수의 소수 민족이 있었다. 그 후 서부가 인구시 공화국으로 분리되었기 때문에 인구시인들의 수가 절반 가까이 감소하고, 내전과 사회불안, 민족 대립으로 거의 대부분의 러시아인은 체첸 공화국에서 떠나며 현재 체첸인이 인구 대다수를 차지하게 된 것이다. 1990년대 기준 체첸 공화국에 남아 있던 러시아인은 약 6만 명이었다.\\n\\n체첸 공화국은 일반적으로 러시아 연방 중에서도 젊은 층이 가장 많은 인구 구성을 가진다. 1990년대에는 몇몇 지방에서 인구증가가 있었다.\\n\\n16세기에서 19세기를 기점으로 다게스탄 지역을 통해 이슬람교가 전해져, 체첸인들은 절대다수가 수니파 이슬람교를 믿는데 러시아 정교회 신자도 소수 존재한다.\\n\\n체첸인은 오래 전부터 체첸 지역에 거주하던 토착 민족으로 과거 몽골의 침략을 받기도 하였다. 러시아와의 접촉은 16세기에 시작되었으며 17세기에는 카바르디인과 아바르인의 침략에 대항하였는데 이 시기에 이슬람교로의 대대적인 개종이 이루어졌다. 1830년에서 1859년에 이르는 동안, 러시아군은 오스만 제국과의 접경지역 안보를 이유로 체첸에 진주했고, 캅카스 전쟁이 일어나 체첸인은 주변 민족들과 함께 이에 맞서싸웠으나 1859년 러시아 제국에 완전히 병합되었다.\\n\\n소련이 세워지면서 체첸 지역에는 체첸인과 인구시인의 자치 정부인 체첸-인구시 자치 소비에트 사회주의 공화국이 수립되었다. 제2차 세계 대전 동안 소련 정부는 체첸이 나치군과 협력했다고 비난하였고, 스탈린은 체첸 국민 전체에게 카자흐스탄으로의 강제이주를 명령했다. 그 후 스탈린이 사망한 지 4년 후인 1957년에 이르러서야 체첸인의 귀환이 허용되었다.\\n\\n소련 붕괴 이후 체첸인들의 분리주의 운동이 벌어져 조하르 두다예프를 지도자로 하여 이치케리야 체첸 공화국이 수립되었다. 제1차 체첸 전쟁에서 분리주의 반군이 승리하며 사실상 독립을 얻었으나 전쟁의 여파로 치안이 악화되고 심각한 경제난, 난민 문제가 발생하여 사회 혼란이 이어졌으며 여러 군벌 조직이 난립하였다. 새로 취임한 아슬란 마스하도프 대통령은 이러한 내부적 혼란을 잠재우지 못하였고, 결국 통제를 벗어난 이슬람주의 군벌의 다게스탄 침공을 계기로 제2차 체첸 전쟁이 벌어져 2000년 그로즈니가 함락되고 반군은 산악 지대로 패퇴하였다. 이 때 러시아의 엄청난 공세로 체첸 전역은 초토화되었다. 곧 블라디미르 푸틴 당시 대통령은 체첸을 러시아 연방으로 재병합하고 친러파 군벌을 이끌던 아흐마트 카디로프를 정부수반으로 하여 체첸 공화국을 수립시켰다. 아흐마트 카디로프의 아들로서 마찬가지 친러 군벌 출신인 람잔 카디로프가 현재 대통령으로 재임 중이다.\\n\\n\\n\\n\"}\n",
            "{\"id\": \"24\", \"url\": \"https://ko.wikipedia.org/wiki?curid=24\", \"title\": \"맥스웰 방정식\", \"text\": \"맥스웰 방정식\\n\\n맥스웰 방정식(-方程式, s)은 전기와 자기의 발생, 전기장과 자기장, 전하 밀도와 전류 밀도의 형성을 나타내는 4개의 편미분 방정식이다. 맥스웰 방정식은 빛 역시 전자기파의 하나임을 보여준다. 각각의 방정식은 가우스 법칙, 가우스 자기 법칙, 패러데이 전자기 유도 법칙, 앙페르 회로 법칙으로 불린다. 각각의 방정식을 제임스 클러크 맥스웰이 종합한 이후 맥스웰 방정식으로 불리게 되었다.\\n\\n전자기역학은 맥스웰 방정식과 로런츠 힘 법칙으로 요약된다. 로랜츠 힘은 맥스웰 방정식으로부터 유도될 수 있다.\\n\\n맥스웰의 방정식은 네 개의 법칙을 모아 종합하여 구성한 것이다. 맥스웰의 방정식은 빛과 같은 전자기파의 특성을 설명한다. 각 방정식의 수학적 표현은 공식 부분에서 다루기로 하고 우선은 방정식의 의미를 살펴보면 다음과 같다.\\n\\n\\n\\n\\n\\n맥스웰의 방정식에 나타난 각 식은 오랜 시간에 걸쳐 연구된 전기와 자기의 특성을 종합한 것이다. 인류는 고대 시대부터 이미 정전기에 의한 인력과 방전 현상을 알고 있었고 자석의 특징을 이용한 나침반을 만들어 사용해 왔다. 근대에 이르러 전기와 자기에 대한 많은 연구가 진행되었으며 그 결과 쿨롱 법칙, 패러데이 전자기 유도 법칙, 앙페르 회로 법칙과 같은 법칙들이 발견되었다. 맥스웰은 이러한 기존의 연구 성과를 종합하여 전기와 자기가 하나의 상호작용, 즉 전자기력에 의한 것임을 증명하면서 빛역시 전자기파라는 것을 밝혔고, 전자기 복사의 발견을 예언하였다.\\n\\n앞서 밝힌 바와 같이 두 전하 사이에 인력과 척력이 작용한다는 것은 고대 이후 잘 알려진 사실이었다. 그러나 이렇게 두 전하 사이에 작용하는 힘의 관계와 크기는 측정하기 매우 어려웠는데, 그 까닭은 작용하는 힘의 크기가 매우 작기 때문이었다. 1784년 샤를 드 쿨롱은 비틀림 저울을 이용한 실험장치를 고안하여 대전된 두 전하 사이에 작용하는 힘의 크기를 측정할 수 있었다.\\n\\n샤를 드 쿨롱은 금속공과 비틀림 저울을 이용하여 두 점전하 사이에 작용하는 힘을 측정하고, 두 전하 사이에서 작용하는 힘은 두전하 크기의 곱에 비례하고 거리의 제곱에 반비례한다는 쿨롱 법칙을 발견하였다.\\n\\n쿨롱 법칙을 식으로 나타내면 다음과 같다.\\n\\n\\n한편, 쿨롱 힘은 전하 사이의 작용뿐만 아니라 자계에도 적용될 수 있다. 두 자극의 세기를 각각 m, m라 할 때, 이 두 자극 사이에 작용하는 힘은 다음과 같이 정리된다.\\n\\n자극의 세기 단위는 웨버(Wb)로 쿨롱은 세기가 같은 두 개의 자극을 1m 떨어뜨려 놓았을 때 작용하는 힘의 세기가 formula_5인 경우를 1Wb로 정의했다. 따라서 상수 k의 값은 다음과 같다.\\n\\n자극 사이에 작용하는 힘의 크기는 전하 사이에 작용하는 힘의 크기와 같은 방식으로 계산할 수 있으나 둘 사이에는 분명한 차이가 있다. 즉, 전하는 양전하이든 음전하이든 단독으로 존재할 수 있는 데 반해 자극은 홀극으로 존재할 수 없고, N극과 S극이 언제나 쌍으로 존재하여야 한다는 것이다.\\n\\n제임스 클러크 맥스웰은 각각 독립적으로 다루어져 오던 전기와 자기의 법칙들을 종합하여 맥스웰 방정식을 수립하였다. 맥스웰은 마이클 패러데이의 \\\"역선\\\"(力線) 개념과 앙드레마리 앙페르의 회로 이론을 근간으로 방정식을 정리하였다.\\n\\n1861년 맥스웰은 논문 《물리적인 역선에 대해》를 발표하여 모두 4개의 방정식으로 구성된 맥스웰 방정식을 소개하였다. 이 방정식은 1865년 발표된 논문 《전자기장의 역학 이론》과 1873년 출간된 《전기와 자기에 관한 논문집》제2권의 9장에서 다시 소개되었다.\\n\\n물리학자 리처드 파인먼은 \\\"이 방정식에 비하면 남북전쟁조차 큰 의미없는 지엽적인 사건이라고 할 수 있다\\\"라고 맥스웰 방정식의 중요성을 강조하였다.\\n1865년 맥스웰 자신에 의해 발표된 맥스웰 방정식의 원래 형태는 8개의 방정식으로 이루어진 것이었다. 그러나, 오늘날에는 1884년 올리버 헤비사이드가 4개의 방정식으로 정리한 형태가 일반적으로 사용된다. 조사이어 윌러드 기브스와 하인리히 루돌프 헤르츠 역시 헤비사이드와 동일한 작업을 한 바 있다. 이 때문에 맥스웰 방정식은 헤르츠-헤비사이드 방정식으로 불리기도 한다. 그러나 \\\"맥스웰 방정식\\\"이란 이름이 더 폭넓게 쓰이고 있다.\\n\\n1861년 맥스웰은 《물리적인 역선에 대해》에서 앙페르 회로 법칙을 설명하기 위해 방정식들을 열거하였다. 맥스웰은 이 논문에서 앙페르 회로 법칙에 치환 전류를 덧붙였다. 1865년 발표한 《전자기장의 역학 이론》에서는 전자기파 방정식을 기술하면서 빛이 전자기파임을 제시하였다. 맥스웰의 이론은 1887년 하인리히 루돌프 헤르츠의 실험에 의해 증명되었다.\\n\\n\\\"장\\\"(場)이란 개념은 마이클 패러데이가 도입하였다. 알베르트 아인슈타인은 맥스웰이 장 개념을 도입한 것에 대해 다음과 같이 평가하였다.\\n당시 이 방정식은 헤르츠-헤비사이드 방정식 또는 멕스웰-헤비사이드 방정식이라고 불렸다. 그러나 아인슈타인은 사이언스에의 기고문에서 이를 \\\"맥스웰 방정식\\\"이라 부르며, 이 방정식들이 이론물리학의 기초라고 설명하였다. 맥스웰은 방정식을 정리하면서 헤비사이드의 전위와 벡터 위치 등 위치 요소를 중요한 개념으로 도입하였다. 1884년 맥스웰은 전자기파의 전달을 중력과 같이 원격에서 상호작용하는 힘이 아닌 전자기장에서 빛의 속도로 전파되는 전위로 파악하였다. 라디오 안테나에 대한 현대의 분석에서도 맥스웰의 백터와 스칼라 위키에 대한 수식만으로 서로 떨어져 있는 안테나 사이에 작용하는 전파의 영향을 모두 설명할 수 있다.\\n\\n맥스웰 방정식과 관련한 헤비사이드의 업적은 맥스웰이 여러 논문과 책에서 서술한 맥스웰 방정식을 오늘날과 같은 4개의 방정식으로 정리하였다는 것이다.\\n\\n오늘날 4개의 방정식으로 정리된 맥스웰의 방정식은 1861년 발표된 논문인 《물리적 역선에 대해》에 기반한 것이다. 이 논문에는 전자기장에 대한 다수의 방정식이 실려있다.\\n\\n1855년 맥스웰은 케임브리지 철학 학회에서 《패러데이의 역선》을 발표하면서 formula_8와 formula_9 벡터의 차이점을 설명하였다. 이 논문은 오늘날에도 패러데이 전자기 유도 법칙에 대한 가장 간결한 모형으로 인정받고 있다. 여기서 맥스웰은 전류에 관한 모든 지식을 미분 방정식으로 나타내었다.\\n\\n1855년 맥스웰이 제안한 분자 와동의 바다란 개념은 1861년 《물리 역선에 대해》에서 보다 분명하게 소개되었다. 이 논문에서는 자기장이 형성되는 분자 규모의 와동에서 formula_8의 밀도에 따라 formula_9의 순 와동 운동이 결정된다고 보았다. 맥스웰은 와동의 밀도를 측정하기 위한 값으로 투자율 µ 을 정의하였다. 이 논문에서 밝힌 맥스웰의 개념은 다음과 같다.\\n\\n\\n이 때 formula_14 는 전하 밀도이다. formula_8는 축을 이루어 회전하는 자기 전류이고 formula_9는 그 주위를 돌게 되는 자기력선의 자기 선속이다. 투자율 µ는 결국 자기장 formula_8에 의해 유도되는 자기 선속 formula_9의 비가 된다.\\n\\n전류 방정식은 전하의 대류 전류가 선형적으로 움직이는 것을 보여준다. 한편, 자기 방정식은 유도 전류의 회전에 의해 발생하는 자기를 나타내는 것으로 formula_8 벡터의 방향성으로 인해 비선형 방정식이 된다. 따라서 자기 유도 전류는 역선으로 표현된다. 자기력선은 역제곱 법칙에 의해 전류에서 멀어질수록 약해지게 된다.\\n\\n1864년 맥스웰은 《전자기장의 역학이론》을 출간하였다. 맥스웰은 이 책에서 빛이 전자기파임을 제시하였다. 이 책에서 맥스웰은 8개의 방정식을 전자기장에 대한 일반적인 방정식으로 제시하였다. 이 때문에 훗날 \\\"맥스웰 방정식\\\"이라는 표현이 오늘날의 4개의 방정식을 가리키는 것인지 1864년 제시된 8개의 방정식을 가리키는 것인지를 혼동하기도 한다. 따라서 오늘날의 4개로 구성된 방정식을 분명히 하기 위해 헤비사이드가 정리한 맥스웰 방정식(멕스웰-헤비사이드 방정식)이라는 표현이 사용된다.\\n\\n현대 벡터 표기를 사용하여 정리한 멕스웰의 8개 방정식은 다음과 같다.\\n\\n\\n\\n\\n\\n\\n\\n\\n\\n\\n이 책에서 표현된 방정식 D는 로런츠 힘의 효과를 나타낸 것으로 1861년 논문의 방정식 77번을 보다 간략하게 표현한 것이다. 또한, 맥스웰은 1865년 논문에서 전자기파 방정식을 정의하였는데 이 책의 방정식 D를 전자기 유도를 설명하기 위해 사용하였다. 오늘날에는 방정식 D 대신 패러데이전자기 유도 법칙이 쓰인다. 맥스웰은 전자기파 방정식을 연구하는 과정에서 방정식 D의 formula_36를 버렸다.\\n\\n1873년 맥스웰이 출간한 《전기와 자기에 관한 논문집》에서 방정식은 두 개의 묶음으로 나뉘었다.\\n\\n\\n\\n다음은 국제단위계를 사용하여 수식으로 표현한 맥스웰 방정식이다.\\n발산정리와 스토크스의 정리를 이용하면 미분형과 적분형 방정식이 같음을 알 수 있다.\\n\\n아래 표는 각 기호의 뜻과 단위를 나타낸다.\\nformula_41는 발산 연산자(단위: 1 / 미터), formula_42는 회전 연산자(단위: 1 / 미터)이다. 두 번째 방정식은 자기 홀극이 없음을 뜻한다. 전기장과 자기장이 대전된 입자에 미치는 힘은 리엑턴스 힘에 따라 국제단위계에서 다음과 같다.\\n여기서 formula_44는 입자의 전하량이고 formula_45 는 입자의 속도다. (CGS 단위계에서는 자기장을 다르게 정의하므로, formula_45 대신 formula_47를 쓴다.)\\n\\n위의 수식은 국제단위계로 표현되었지만, 다른 단위계에서도 맥스웰 방정식은 변하지 않거나, 약간의 상수 변화만이 있을 뿐이다. 물리학과 공학에서 일반적으로 가장 널리 쓰이는 국제단위계 이외에도 특수한 경우 CGS 단위계가 쓰인다.\\n\\n\\n\"}\n",
            "{\"id\": \"26\", \"url\": \"https://ko.wikipedia.org/wiki?curid=26\", \"title\": \"초월수\", \"text\": \"초월수\\n\\n초월수(超越數, )는 수학에서 대수학적이지 않은 수를 의미한다. 어떤 다항 방정식의 해도 될 수 없는 복소수이자 유리수인 계수를 가진 유한한 0이 아닌 근을 의미한다. 가장 잘 알려진 초월수는 (원주율)과 (자연로그의 밑)이다.\\n\\n현재까지는 적은 양의 초월수들만 알려져 있다. 이는 어떤 주어진 수가 초월수인지 보여주는 것은 극히 어려울 수 있기 때문이다. 그러나 초월수들은 드물지 않다. 실제로 대수적 수들이 가산 집합을 구성하는 반면 실수의 집합, 복소수의 집합은 모두 비가산 집합이므로 거의 모든 실수들과 복소수들은 초월적이다. 또한 모든 유리수가 대수학적이기 때문에 모든 초월실수(\\\"실제 초월수\\\" 또는 \\\"초월무리수\\\"라고도 함)는 무리수이다. 그러나 모든 무리수가 초월적인 것은 아니다. 따라서 실수의 집합은 겹치지 않는 유리수, 대수적인 무리수, 초월적인 실수로 구성된다. 예를 들어 제곱근 2는 무리수이지만 다항식 의 근인 만큼 초월수는 아니다. 황금비(formula_1 또는 formula_2로 표시됨)은 다항식 의 근으로서 초월적이지 않은 또다른 무리수이다.\\n\\n\\\"초월적\\\"이라는 이름은 라틴어로 \\\"넘어오거나 넘어서거나\\\"를 뜻하는 '트란스켄데레'(transcendĕre)에서 유래되었다. 고트프리트 빌헬름 라이프니츠는 1682년에 발표한 자신의 논문에서 수학적 개념을 처음 사용했는데 가 의 대수함수가 아니라는 것을 증명했다. 레온하르트 오일러는 18세기에 \\\"초월수\\\"를 현대적 의미로 정의한 최초의 수학자로 여겨지고 있다.\\n\\n요한 람베르트는 1768년에 발표한 자신의 논문에서 (자연로그의 밑)와 (원주율) 둘 다 초월수라고 추측했고 무리수인 의 초월수 증명에 대한 대략적인 구성을 제안했다. 조제프 리우빌은 1844년에 초월수의 존재를 처음으로 증명했고 1851년에 리우빌 수와 같은 초월수의 사례를 제시했다.\\n\\n이 ( 계승)인 경우에는 소수점 뒤의 번째 자리가 이고 그렇지 않은 경우에는 이다. 즉 이 숫자 등일 경우에만 이 숫자의 번째 자릿수가 이다. 리우빌은 이 숫자가 특정한 무리수인 대수적 수보다 유리수에 의해 보다 가깝게 근사할 수 있는 초월수의 종류에 속한다는 것을 보여주었고 이 종류의 숫자는 그의 이름을 따서 리우빌 수라고 불린다. 리우빌은 모든 리우빌 수가 초월수라는 것을 증명했다. 1873년에는 샤를 에르미트가 초월수의 존재를 증명하기 위해 가 특별히 구성되지 않은 초월수임을 증명했다.\\n\\n1874년에는 게오르크 칸토어가 대수적 수들은 셀 수 있고 실수는 셀 수 없다는 사실을 증명했다. 그는 또한 초월수를 구성하는 새로운 방법을 제시했다. 비록 이것이 대수적 수의 계산 가능성에 대한 그의 증명에 의해 이미 암시되었지만 칸토어는 실수들만큼 초월적인 숫자들이 있다는 것을 증명하는 구성을 공개했다. 칸토어의 연구는 초월수의 보편성을 확립했다.\\n\\n1882년에는 페르디난트 폰 린데만이 의 초월성에 대한 최초의 증명을 담은 책을 출판했다. 그는 먼저 가 0이 아닌 대수적 수일 경우 가 초월수라는 것을 증명했다. 그렇다면 은 대수적이므로(오일러의 항등식 참조), 는 초월수이어야 한다. 그러나 가 대수적 수이기 때문에 는 초월수이어야 한다. 이러한 접근 방식은 카를 바이어슈트라스에 의해 일반화되었는데 오늘날에는 린데만-바이어슈트라스 정리로 알려져 있다. 의 초월은 원적문제와 같이 가장 유명한 것을 포함하여 컴퍼스와 자 작도를 포함한 여러 고대 기하학 구조들이 갖고 있던 불가능성의 증거를 가능하게 했다.\\n\\n1900년에는 다비트 힐베르트가 힐베르트의 7번째 문제인 초월수에 대해 영향력 있는 질문을 던졌다. \\\"가 0이나 1이 아닌 대수적 수이고 가 무리수인 대수적 수라면 반드시 은 초월수인가?\\\" 이에 대한 해답은 1934년에 겔폰트-슈나이더 정리를 통해 제공되었다. 이 연구는 1960년대에 앨런 베이커가 진행한 (대수 수) 로그에서 선형 형태의 하한에 대한 연구를 통해 확장되었다.\\n\\n초월수의 집합은 셀 수 없이 무한하다. 유리수인 계수를 갖는 다항식은 셀 수 있고 각각의 다항식은 유한한 근을 가지기 때문에 대수적 수도 셀 수 있어야 한다. 그러나 칸토어는 대각선 논법을 통해 실수가 (그리고 복소수또한) 셀 수 없다는 것을 증명했다. 그리고 실수 집합은 대수적 수 집합과 초월수 집합의 합집합이기 때문에, 초월수 집합은 셀 수 없다.\\n\\n어떠한 유리수도 초월적이지 않고 모든 초월실수는 무리수이다. 무리수는 2차 무리수 및 그 외의 형태를 가진 대수적 무리수를 포함하여 모든 실제 초월수와 대수적 수의 부분집합을 포함한다. 단일 변수의 일정하지 않은 대수함수는 초월 인수에 적용될 때 초월 값을 산출한다.\\n\\n단일 변수의 대수함수에서 초월수는 다른 초월수에 대응된다. 예를 들어 가 초월적이라는 것을 아는 것으로부터 과 같은 숫자들이 초월수임을 수 있다. 도 초월수이다.\\n\\n그러나 여러 변수의 대수함수는 초월수에 적용될 때 대수적 수를 산출할 수 있다. 예를 들어 와 는 둘 다 초월적이지만 은 그렇지 않다. 예를 들어 가 초월적인지는 알 수 없지만, 와 가운데 적어도 하나는 초월적인 것이어야 한다. 보다 일반적으로 어떤 2가지 초월수 와 의 경우 적어도 와 가운데 하나는 초월수여야 한다. 그 이유는 다항식 을 고려해보면 알 수 있다. 만약 와 가 둘 다 대수적이라면 이것은 대수적 계수를 갖는 다항식이 될 것이다. 대수적 수는 대수적으로 닫힌 체를 형성하기 때문에 다항식인 와 의 근은 대수적이어야 한다는 것을 의미한다. 하지만 이때 모순이 생긴다. 따라서 적어도 하나의 계수가 초월적이라는 것을 알 수 있다.\\n\\n계산 불가능한 수는 초월수의 진부분집합이다. 모든 리우빌 수는 초월적이지만 그 반대는 아니다. 모든 리우빌 수는 지속적인 연분수에서 제한 없는 부분적인 몫을 가져야 한다. 계산 인수를 사용하면 제한된 부분적인 몫을 가진 초월수가 존재하므로 리우빌 수가 아니라는 것을 증명할 수 있다.\\n\\n의 지속적인 연분수를 사용하여 가 리우빌 수가 아니라는 것을 보여줄 수 있다(비록 지속적인 분수의 부분적인 몫은 무한대이다). 쿠르트 말러는 1953년에 또한 리우빌 수가 아니라는 것을 증명했다. 결국 주기적이지 않은 경계 항을 갖는 모든 무한 연분수는 초월적(결국 주기적인 연분수는 2차 무리수에 해당함)이라고 추측된다.\\n\\n초월수로 입증된 수:\\n\\n\\n초월수 또는 대수적 수로 아직 입증되지 않은 수:\\n\\n\\n\\n\"}\n",
            "{\"id\": \"31\", \"url\": \"https://ko.wikipedia.org/wiki?curid=31\", \"title\": \"음계\", \"text\": \"음계\\n\\n음계(音階)는 음악에서 음높이(pitch) 순서로 된 음의 집합을 말한다. 악곡을 주로 구성하는 음을 나타낸 것이며 음계의 종류에 따라 곡의 분위기가 달라진다.\\n\\n음계의 각각의 음에는 위치에 따라 도수가 붙는다.\\n\\n음계는, 음계가 포함하고 있는 음정(interval)에 따라서 이름을 붙일 수 있다.\\n또는 음계가 포함하고 있는 서로 다른 피치 클래스의 수에 따라서 이름을 붙일 수 있다.\\n\\n\\\"음계의 음정(interval) 뿐만 아니라 음계를 만드는 음(note)의 수가, 한 문화권의 음악에 독특한 음악적 특징을 지니게 한다\\\" \\\"어떤 음계의 음의 수보다, 음의 거리(interval, pitch distance)가 음악의 소리에 대해서 더 많은 것을 알려준다.\\\"\\n\\n온음계와 반음계(半音階)는 서양 음악에서 쓰이는 용어이다. 자체로는 음계에 관한 말이지만, 온음계적·반음계적인 선율, 화음, 화성 진행 등의 표현으로도 쓰인다. 대부분의 경우 온음계는 7개 음으로 이루어진 장음계를 말한다. 20세기 음악론에서는 반음계가 아닌 모든 음계(이를테면 팔음음계)를 말할 때 쓰이기도 한다.\\n\\n반음계는 12개의 반음으로 이루어진 음계를 말한다.\\n\\n계이름은 음계를 기준으로 한 음의 이름이다. 장음계를 이루는 음의 계이름은 으뜸음부터 위로 올라가면서 각각 도, 레, 미, 파, 솔(), 라, 시(), 도가 된다.\\n\\n서양 음악에서는 도·레·미·파·솔·라·시로 된 7음계가 많이 쓰이지만 한국 전통 음악에는 황종(黃鍾)-미♭·태주(太蔟)-파·중려(仲呂)-라♭·임종(林鍾)-시♭·무역(無射)-레♭으로 된 5음계가 많이 쓰이고, 중국 전통 음악에는 궁-도·상-레·각-미·변치(變徵)-올림화(Fa )·치-솔·우-라·변궁(變宮)-시로 7음계를 많이 쓴다.\\n\\n한국 전통 음악에서는 5음계 외에도 3음계 또는 악계통에서는 7음계 등이 쓰인다.\\n\"}\n"
          ]
        }
      ]
    },
    {
      "cell_type": "code",
      "source": [
        "filepaths = []\n",
        "dirnames = os.listdir('kowiki')\n",
        "for dirname in dirnames:\n",
        "  dirpath = os.path.join('kowiki', dirname)\n",
        "  filenames = os.listdir(dirpath)\n",
        "  for filename in filenames:\n",
        "    if filename.startswith('wiki_'):\n",
        "      filepath = os.path.join(dirpath, filename)\n",
        "      filepaths.append(filepath)\n",
        "filepaths = sorted(filepaths)\n",
        "print(len(filepaths), filepaths[:10])"
      ],
      "metadata": {
        "colab": {
          "base_uri": "https://localhost:8080/"
        },
        "id": "A5bOz6nzg6pQ",
        "outputId": "0e3e6b6f-a5c8-4faf-dc68-f5fa5a2bc1a1"
      },
      "execution_count": 74,
      "outputs": [
        {
          "output_type": "stream",
          "name": "stdout",
          "text": [
            "810 ['kowiki/AA/wiki_00', 'kowiki/AA/wiki_01', 'kowiki/AA/wiki_02', 'kowiki/AA/wiki_03', 'kowiki/AA/wiki_04', 'kowiki/AA/wiki_05', 'kowiki/AA/wiki_06', 'kowiki/AA/wiki_07', 'kowiki/AA/wiki_08', 'kowiki/AA/wiki_09']\n"
          ]
        }
      ]
    },
    {
      "cell_type": "code",
      "source": [
        "def trim_text(item):\n",
        "  \"\"\"\n",
        "  한 위키 문서 내의 여러줄띄키(\\n\\n...)를 한 줄 띄기(\\n)로 변경\n",
        "  :param item: 위키 항목\n",
        "  :return: text의 여러줄 new line을 한 줄 new line으로 변경한 json data\n",
        "  \"\"\"\n",
        "  data = json.loads(item)\n",
        "  text = data[\"text\"]\n",
        "  value = list(filter(lambda x: len(x) > 0, text.split('\\n')))\n",
        "  data[\"text\"] = \"\\n\".join(value)\n",
        "  return data"
      ],
      "metadata": {
        "id": "0_xdntF9jgkC"
      },
      "execution_count": 76,
      "outputs": []
    },
    {
      "cell_type": "code",
      "source": [
        "# 여러 줄 띄기(\\n\\n...)를 한 줄 띄기(\\n)로 변경\n",
        "dataset = []\n",
        "for filepath in tqdm(filepaths):\n",
        "  with open(filepath, 'r') as f:\n",
        "    for line in f:\n",
        "      line = line.strip()    # 양쪽에 공백이 있으면 자름\n",
        "      if line:\n",
        "        dataset.append(trim_text(line))\n",
        "print(len(dataset))"
      ],
      "metadata": {
        "colab": {
          "base_uri": "https://localhost:8080/",
          "height": 68,
          "referenced_widgets": [
            "f9d3525e4fc1436ca20c8ffca5b47bcd",
            "4244adf1363249e7bb6c85730933e903",
            "39ab476a8ea24bea82e6441894684ae4",
            "62bec2390d5c403daf1682d69e7a12d9",
            "e41d53eb8b754af3980b6be0c819c39d",
            "3c8a607477b447df87a552697d12a56a",
            "634b29abfbb4427592fd0c51e5d26541",
            "216258a3b4b9475185a64cc1985d21f0",
            "54a55ba7604d479aae5a379a700b356a",
            "450cc21c196d4f24a498f95d177fe523",
            "d1597501c3844f77a59152b39f808721"
          ]
        },
        "id": "pPiMNRlO2fCA",
        "outputId": "cd216ec7-a742-41a8-d618-5d3a8aecf3b4"
      },
      "execution_count": 77,
      "outputs": [
        {
          "output_type": "display_data",
          "data": {
            "text/plain": [
              "  0%|          | 0/810 [00:00<?, ?it/s]"
            ],
            "application/vnd.jupyter.widget-view+json": {
              "version_major": 2,
              "version_minor": 0,
              "model_id": "f9d3525e4fc1436ca20c8ffca5b47bcd"
            }
          },
          "metadata": {}
        },
        {
          "output_type": "stream",
          "name": "stdout",
          "text": [
            "584607\n"
          ]
        }
      ]
    },
    {
      "cell_type": "code",
      "source": [
        "# 위키를 한 파일로 저장\n",
        "with open('kowiki.txt', 'w') as f:\n",
        "  for data in tqdm(dataset):\n",
        "    f.write(data[\"text\"])\n",
        "    f.write('\\n\\n\\n')"
      ],
      "metadata": {
        "colab": {
          "base_uri": "https://localhost:8080/",
          "height": 49,
          "referenced_widgets": [
            "5295ec6e5e084d81b4c1523bb4afe808",
            "0857ed9e48c9499ea489d400fac7dd3a",
            "30a04bdad42b4b02ba6b0a0c8854bb9f",
            "5b5a4a1642c246fbacd070a3c5d13611",
            "84793e62e5ba437eb9caf91c32282b27",
            "2cfa32c82cc348e0ba9bf405b68cb1d3",
            "35cf4f98de4e41d0ad34874f341f39fa",
            "4171febeca684516bb3d2408a3608324",
            "fbcb5ef125d74292a1fb5b330829c71e",
            "75c3cfef996f4363b62ce4126030ddef",
            "cc2ebf91b2b24a1ca04543497538f304"
          ]
        },
        "id": "jps0H6PK3DxX",
        "outputId": "d45a23fe-a972-4d1e-fd5c-aafbb6e9a3c4"
      },
      "execution_count": 78,
      "outputs": [
        {
          "output_type": "display_data",
          "data": {
            "text/plain": [
              "  0%|          | 0/584607 [00:00<?, ?it/s]"
            ],
            "application/vnd.jupyter.widget-view+json": {
              "version_major": 2,
              "version_minor": 0,
              "model_id": "5295ec6e5e084d81b4c1523bb4afe808"
            }
          },
          "metadata": {}
        }
      ]
    },
    {
      "cell_type": "code",
      "source": [
        "# 파일 내용 확인\n",
        "with open(\"kowiki.txt\") as f:\n",
        "  for i, line in enumerate(f):\n",
        "    if i >= 30:\n",
        "      break\n",
        "    line = line.strip()\n",
        "    print(line)"
      ],
      "metadata": {
        "colab": {
          "base_uri": "https://localhost:8080/"
        },
        "id": "5PUIv16O5CKP",
        "outputId": "aaf6c10a-1c37-4515-c7c7-c5fbed0c995f"
      },
      "execution_count": 79,
      "outputs": [
        {
          "output_type": "stream",
          "name": "stdout",
          "text": [
            "지미 카터\n",
            "제임스 얼 카터 주니어(, 1924년 10월 1일 ~ )는 민주당 출신 미국 39대 대통령 (1977년 ~ 1981년)이다.\n",
            "지미 카터는 조지아주 섬터 카운티 플레인스 마을에서 태어났다.\n",
            "조지아 공과대학교를 졸업하였다. 그 후 해군에 들어가 전함·원자력·잠수함의 승무원으로 일하였다. 1953년 미국 해군 대위로 예편하였고 이후 땅콩·면화 등을 가꿔 많은 돈을 벌었다. 그의 별명이 \"땅콩 농부\" (Peanut Farmer)로 알려졌다.\n",
            "1962년 조지아주 상원 의원 선거에서 낙선하나 그 선거가 부정선거 였음을 입증하게 되어 당선되고, 1966년 조지아 주지사 선거에 낙선하지만, 1970년 조지아 주지사를 역임했다. 대통령이 되기 전 조지아주 상원의원을 두번 연임했으며, 1971년부터 1975년까지 조지아 지사로 근무했다. 조지아 주지사로 지내면서, 미국에 사는 흑인 등용법을 내세웠다.\n",
            "1976년 미합중국 제39대 대통령 선거에 민주당 후보로 출마하여 도덕주의 정책으로 내세워서, 많은 지지를 받고 제럴드 포드 대통령을 누르고 당선되었다.\n",
            "카터 대통령은 에너지 개발을 촉구했으나 공화당의 반대로 무산되었다.\n",
            "카터는 이집트와 이스라엘을 조정하여 캠프 데이비드에서 안와르 사다트 대통령과 메나헴 베긴 수상과 함께 중동 평화를 위한 캠프데이비드 협정을 체결했다. 이것은 공화당과 미국의 유대인 단체의 반발을 일으켰다. 그러나 1979년, 양국 간의 평화조약이 백악관에서 이루어졌다.\n",
            "소련과 제2차 전략 무기 제한 협상(SALT II)에 조인했다.\n",
            "카터는 1970년대 후반 당시 대한민국 등 인권 후진국의 국민들의 인권을 지키기 위해 노력했으며, 취임 이후 계속해서 도덕정치를 내세웠다.\n",
            "임기 말, 소련의 아프가니스탄 침공 사건으로 인해 1980년 하계 올림픽에 반공국가들의 보이콧을 하였다.\n",
            "그는 주이란 미국 대사관 인질 사건의 인질 구출 실패로 인한 원인으로, 1980년 제40대 대통령 선거에서 공화당의 로널드 레이건에게 패하며 재선에 실패하였다.\n",
            "대한민국과의 관계\n",
            "지미 카터는 대한민국과의 관계에서도 중요한 영향을 미쳤던 대통령 중 하나다. 인권 문제와 주한미군 철수 문제로 한때 한미 관계가 불편하기도 했다. [1978년 대한민국에 대한 북한의 위협에 대비해 한미연합사를 창설하면서, 1982년까지 3단계에 걸쳐 주한미군을 철수하기로 했다. 그러나 주한미군사령부와 정보기관·의회의 반대에 부딪혀 주한미군은 완전철수 대신 6,000명을 감축하는 데 그쳤다. 또한 박정희 정권의 인권 문제 등과의 논란으로 불협화음을 냈으나, 1979년 6월 하순, 대한민국을 방문하여 관계가 다소 회복되었다.\n",
            "1979년 ~ 1980년 대한민국의 정치적 격변기 당시의 대통령이었던 그는 이에 대해 애매한 태도를 보였고, 이는 후에 대한민국 내에서 고조되는 반미 운동의 한 원인이 됐다. 10월 26일, 박정희 대통령이 김재규 중앙정보부장에 의해 살해된 것에 대해 그는 이 사건으로 큰 충격을 받았으며, 사이러스 밴스 국무장관을 조문사절로 파견했다. 12·12 군사 반란과 5.17 쿠데타에 대해 초기에는 강하게 비난했으나, 미국 정부가 신군부를 설득하는데, 한계가 있었고 결국 묵인하는 듯한 태도를 보이게 됐다.\n",
            "퇴임 이후 민간 자원을 적극 활용한 비영리 기구인 카터 재단을 설립한 뒤 민주주의 실현을 위해 제 3세계의 선거 감시 활동 및 기니 벌레에 의한 드라쿤쿠르스 질병 방재를 위해 힘썼다. 미국의 빈곤층 지원 활동, 사랑의 집짓기 운동, 국제 분쟁 중재 등의 활동도 했다.\n",
            "카터는 카터 행정부 이후 미국이 북핵 위기, 코소보 전쟁, 이라크 전쟁과 같이 미국이 군사적 행동을 최후로 선택하는 전통적 사고를 버리고 군사적 행동을 선행하는 행위에 대해 깊은 유감을 표시 하며 미국의 군사적 활동에 강한 반대 입장을 보이고 있다.\n",
            "특히 국제 분쟁 조정을 위해 북한의 김일성, 아이티의 세드라스 장군, 팔레인스타인의 하마스, 보스니아의 세르비아계 정권 같이 미국 정부에 대해 협상을 거부하면서 사태의 위기를 초래한 인물 및 단체를 직접 만나 분쟁의 원인을 근본적으로 해결하기 위해 힘썼다. 이 과정에서 미국 행정부와 갈등을 보이기도 했지만, 전직 대통령의 권한과 재야 유명 인사들의 활약으로 해결해 나갔다.\n",
            "1978년에 채결된 캠프데이비드 협정의 이행이 지지부진 하자 중동 분쟁 분제를 해결하기 위해 1993년 퇴임 후 직접 이스라엘과 팔레인스타인의 오슬로 협정을 이끌어 내는 데도 성공했다.\n",
            "1993년 1차 북핵 위기 당시 북한에 대한 미국의 군사적 행동이 임박했으나, 미국 전직 대통령으로는 처음으로 북한을 방문하고 미국과 북 양국의 중재에 큰 기여를 해 위기를 해결했다는 평가를 받았다. 또한 이 때 김영삼 대통령과 김일성 주석의 만남을 주선했다. 하지만 그로부터 수주일 후 김일성이 갑자기 사망하여 김일성과 김영삼의 정상회담은 이루어지지 못했다.\n",
            "미국의 관타나모 수용소 문제, 세계의 인권문제에서도 관심이 깊어 유엔에 유엔인권고등판무관의 제도를 시행하도록 노력하여 독재자들의 인권 유린에 대해 제약을 하고, 국제형사재판소를 만드는 데 기여하여 독재자들 같은 인권유린범죄자를 재판소로 회부하여 국제적인 처벌을 받게 하는 등 인권 신장에 크나 큰 기여를 했다.\n",
            "2011년 4월 26일부터 29일까지 북한을 3일간 방문했다.\n",
            "경제문제를 해결하지 못하고 주 이란 미국 대사관 인질 사건에 발목이 잡혀 실패한 대통령으로 평가를 받지만 이란 사태는 미국 내 이란 재산을 풀어주겠다는 조건을 내세워서 사실상 카터가 해결한 것이었고, 사랑의 집짓기 운동 등으로 퇴임 후에 훨씬 더 존경받는 미국 대통령 중에 특이한 인물로 남았다.\n",
            "그는 2002년 말 인권과 중재 역할에 대한 공로를 인정받아 노벨 평화상을 받게 되었다.\n",
            "이외에도, 그는 대통령 재임 시절은 물론 퇴임 후에도 지속적으로 여러 장기 집권중인 독재자들을 만나왔는데, 그와 만난 독재자들 중 절대 다수가 얼마 되지 않아 최후를 맞이하게 되며 '독재자의 사신'이라는 별명이 붙기도 했다.\n",
            "\n",
            "\n",
            "수학\n",
            "수학(數學, , 줄여서 math)은 수, 양, 구조, 공간, 변화 등의 개념을 다루는 학문이다. 널리 받아들여지는 명확한 정의는 없으나 현대 수학은 일반적으로 엄밀한 논리에 근거하여 추상적 대상을 탐구하며, 이는 규칙의 발견과 문제의 제시 및 해결의 과정으로 이루어진다. 수학은 그 발전 과정에 있어서 철학, 과학과 깊은 연관을 맺고 있으며, 다만 엄밀한 논리와 특유의 추상성, 보편성에 의해 다른 학문들과 구별된다. 특히 수학은 과학의 여느 분야들과는 달리 자연계에서 관측되지 않는 개념들에 대해서까지 이론을 추상화시키는 특징을 보이는데, 수학자들은 그러한 개념들에 대한 추측을 제시하고 적절하게 선택된 정의와 공리로부터 엄밀한 연역을 거쳐 그 진위를 파악한다.\n",
            "수학의 개념들은 기원전 600년 경에 활동하며 최초의 수학자로도 여겨지는 탈레스의 기록은 물론, 다른 고대 문명들에서도 찾아볼 수 있으며 인류의 문명과 함께 발전해 왔다. 오늘날 수학은 자연과학, 사회과학, 공학, 의학 등 다른 여러 학문에서도 핵심적인 역할을 하며 다양한 방식으로 응용된다.\n"
          ]
        }
      ]
    },
    {
      "cell_type": "code",
      "source": [
        "# 압축\n",
        "!zip kowiki.txt.zip kowiki.txt"
      ],
      "metadata": {
        "colab": {
          "base_uri": "https://localhost:8080/"
        },
        "id": "bU8n_iFr5uOF",
        "outputId": "7bd16cfb-da94-4c55-a1b8-070704c89744"
      },
      "execution_count": 80,
      "outputs": [
        {
          "output_type": "stream",
          "name": "stdout",
          "text": [
            "  adding: kowiki.txt (deflated 64%)\n"
          ]
        }
      ]
    },
    {
      "cell_type": "code",
      "source": [
        "# 압축파일 보관\n",
        "shutil.move(\"kowiki.txt.zip\", os.path.join(kowiki_dir, 'kowiki.txt.zip'))\n",
        "os.listdir(kowiki_dir)"
      ],
      "metadata": {
        "colab": {
          "base_uri": "https://localhost:8080/"
        },
        "id": "ioa7LaH16bJV",
        "outputId": "897b8c30-179c-432c-f156-a291362b3392"
      },
      "execution_count": 81,
      "outputs": [
        {
          "output_type": "execute_result",
          "data": {
            "text/plain": [
              "['kowiki.txt.zip']"
            ]
          },
          "metadata": {},
          "execution_count": 81
        }
      ]
    },
    {
      "cell_type": "markdown",
      "source": [
        "▷ sentencepiece vocabulary 생성\n",
        "  \n",
        "특수 Token : 7개 정의  \n",
        "vocabulary : 32,000개  \n",
        "학습방법 : unigram  \n",
        "  \n",
        "특수 Token들  \n",
        "● [PAD]: 자연어처리 문장들의 길이가 다르기 때문에 길이를 맞춰주기 위해 추가하는 token\n",
        "\n",
        "● [UNK]: vocabulary에 등록되지 않는 단어가 있는 경우 [UNK]로 처리함\n",
        "\n",
        "● [BOS]: Begin of Sequence로 문장의 시작을 의미하는 token\n",
        "\n",
        "● [EOS]: End of Sequence로 문장의 끝을 의미하는 token\n",
        "\n",
        "● [SEP]: Separator로 두 개 이상의 문장을 구분하기 위한 token\n",
        "\n",
        "● [CLS]: Class로 문장을 대표하는 벡터를 의미하는 token\n",
        "\n",
        "● [MASK]: Mask로 단어를 가리고자 할 때 사용하는 token"
      ],
      "metadata": {
        "id": "m_mi-lVO7Hfq"
      }
    },
    {
      "cell_type": "code",
      "source": [
        "# sentencepiece 학습 함수\n",
        "def trian_sentencepiece(corpus, prefix, vocab_size=32000):\n",
        "  \"\"\"\n",
        "  sentencepiece를 이용해 vocab 학습\n",
        "  :param corpus: 학습할 말뭉치\n",
        "  :param prefix: 저장할 vocab 이름\n",
        "  :param vocab_size: vocab 개수\n",
        "  \"\"\"\n",
        "  spm.SentencePieceTrainer.train(\n",
        "      f\"--input={corpus} --model_prefix={prefix} --vocab_size={vocab_size+7}\" +\n",
        "      # 7은 특수문자 개수\n",
        "      \" --model_type=unigram\" +\n",
        "      \" --max_sentence_length=999999\" + # 문장 최대 길이\n",
        "      \" --pad_id=0 --pad_piece=[PAD]\" + # pad 지정\n",
        "      \" --unk_id=1 --unk_piece=[UNL]\" + # unknown token 지정\n",
        "      \" --bos_id=2 --bos_piece=[BOS]\" + # bos 지정\n",
        "      \" --eos_id=3 --eos_piece=[EOS]\" + # eos 지정\n",
        "      \" --user_defined_symbols=[SEP], [CLS], [MASK]\")"
      ],
      "metadata": {
        "id": "Gn4jilGs62Hd"
      },
      "execution_count": 104,
      "outputs": []
    },
    {
      "cell_type": "code",
      "source": [
        "# sentencepiece 생성\n",
        "# vocab 생성\n",
        "train_sentencepiece('kowiki.txt', 'ko_32000', vocab_size=32000)"
      ],
      "metadata": {
        "id": "-74_LhdV9Pbw"
      },
      "execution_count": 106,
      "outputs": []
    },
    {
      "cell_type": "code",
      "source": [
        "# vocabulary 파일 보관\n",
        "# 생성된 vocab 이동\n",
        "shutil.move('ko_32000.model', os.path.join(data_dir, 'ko_32000.model'))\n",
        "shutil.move('ko_32000.vocab', os.path.join(data_dir, 'ko_32000.vocab'))\n",
        "os.listdir(data_dir)"
      ],
      "metadata": {
        "colab": {
          "base_uri": "https://localhost:8080/"
        },
        "id": "WPjw5YMcEl4E",
        "outputId": "e8eeeb69-c480-4f80-bf98-ed609a891ea5"
      },
      "execution_count": 107,
      "outputs": [
        {
          "output_type": "execute_result",
          "data": {
            "text/plain": [
              "['kowiki', 'ko_32000.model', 'ko_32000.vocab']"
            ]
          },
          "metadata": {},
          "execution_count": 107
        }
      ]
    },
    {
      "cell_type": "markdown",
      "source": [
        "▷ sentencepiece vocabulary 확인"
      ],
      "metadata": {
        "id": "NBuGY7SqGgF0"
      }
    },
    {
      "cell_type": "code",
      "source": [
        "# ko_32000.model 로드\n",
        "# load vocab\n",
        "vocab = spm.SentencePieceProcessor()\n",
        "vocab.load(os.path.join(data_dir, 'ko_32000.model'))"
      ],
      "metadata": {
        "colab": {
          "base_uri": "https://localhost:8080/"
        },
        "id": "RUvZK85hFK9T",
        "outputId": "2f5606a7-c734-4424-939c-3837903892b9"
      },
      "execution_count": 108,
      "outputs": [
        {
          "output_type": "execute_result",
          "data": {
            "text/plain": [
              "True"
            ]
          },
          "metadata": {},
          "execution_count": 108
        }
      ]
    },
    {
      "cell_type": "code",
      "source": [
        "# vocab 출력\n",
        "print(f'len: {len(vocab)}')\n",
        "for _id in range(16):\n",
        "  print(f'{_id:5d}: {vocab.id_to_piece(_id)}')"
      ],
      "metadata": {
        "colab": {
          "base_uri": "https://localhost:8080/"
        },
        "id": "ejB1mbrLHWuU",
        "outputId": "a1ac51a1-4c9b-4894-e588-dcbc23a95f26"
      },
      "execution_count": 109,
      "outputs": [
        {
          "output_type": "stream",
          "name": "stdout",
          "text": [
            "len: 32007\n",
            "    0: [PAD]\n",
            "    1: [UNK]\n",
            "    2: [BOS]\n",
            "    3: [EOS]\n",
            "    4: [SEP]\n",
            "    5: [CLS]\n",
            "    6: [MASK]\n",
            "    7: .\n",
            "    8: ,\n",
            "    9: 의\n",
            "   10: 는\n",
            "   11: ▁\n",
            "   12: )\n",
            "   13: 에\n",
            "   14: 년\n",
            "   15: (\n"
          ]
        }
      ]
    },
    {
      "cell_type": "code",
      "source": [
        "text =  '위키백과의 최상위 도메인이 .com이던 시절 ko.wikipedia.com에 구판 미디어위키가 깔렸으나 한글 처리에 문제가 있어 글을 올릴 수도 없는 이름뿐인 곳이었다.'\n",
        "\n",
        "pieces = vocab.encode_as_pieces(text)\n",
        "print(pieces[0:100])"
      ],
      "metadata": {
        "colab": {
          "base_uri": "https://localhost:8080/"
        },
        "id": "WMFJsJpSIem0",
        "outputId": "37e16777-a01c-4e46-8e02-c7404e55a9e0"
      },
      "execution_count": 111,
      "outputs": [
        {
          "output_type": "stream",
          "name": "stdout",
          "text": [
            "['▁위키백과', '의', '▁최상위', '▁도메인', '이', '▁', '.', 'com', '이던', '▁시절', '▁', 'ko', '.', 'w', 'iki', 'pe', 'dia', '.', 'com', '에', '▁구', '판', '▁미디어', '위', '키', '가', '▁깔', '렸으나', '▁한글', '▁처리', '에', '▁문제가', '▁있어', '▁글을', '▁올릴', '▁수도', '▁없는', '▁이름', '뿐', '인', '▁곳이었다', '.']\n"
          ]
        }
      ]
    },
    {
      "cell_type": "code",
      "source": [
        "print(vocab.decode_pieces(pieces))"
      ],
      "metadata": {
        "colab": {
          "base_uri": "https://localhost:8080/"
        },
        "id": "wOJtkRJIIu6K",
        "outputId": "6b3e0ed8-8e7d-47d3-d7ae-e914138c12dc"
      },
      "execution_count": 112,
      "outputs": [
        {
          "output_type": "stream",
          "name": "stdout",
          "text": [
            "위키백과의 최상위 도메인이 .com이던 시절 ko.wikipedia.com에 구판 미디어위키가 깔렸으나 한글 처리에 문제가 있어 글을 올릴 수도 없는 이름뿐인 곳이었다.\n"
          ]
        }
      ]
    },
    {
      "cell_type": "code",
      "source": [
        "piece_ids = []\n",
        "for piece in pieces:\n",
        "  piece_ids.append(vocab.piece_to_id(piece))\n",
        "print(piece_ids[0:100])"
      ],
      "metadata": {
        "colab": {
          "base_uri": "https://localhost:8080/"
        },
        "id": "HAuKUVpfI0ML",
        "outputId": "ac99a4d0-98a1-4465-fdc6-02d9e0fcdade"
      },
      "execution_count": 113,
      "outputs": [
        {
          "output_type": "stream",
          "name": "stdout",
          "text": [
            "[11058, 9, 10085, 7498, 17, 11, 7, 4120, 3278, 1181, 11, 10205, 7, 1747, 27003, 4468, 14908, 7, 4120, 13, 221, 557, 2677, 212, 322, 19, 13354, 11054, 4747, 1599, 13, 1939, 509, 3828, 23300, 606, 495, 1553, 4478, 31, 21679, 7]\n"
          ]
        }
      ]
    },
    {
      "cell_type": "code",
      "source": [
        "# text를 id로 tokenize 함\n",
        "# sentence to ids\n",
        "ids = vocab.encode_as_ids(text)\n",
        "print(ids[0:100])"
      ],
      "metadata": {
        "colab": {
          "base_uri": "https://localhost:8080/"
        },
        "id": "Afms-UxgTDaW",
        "outputId": "c988034d-301c-430a-9073-0944907d0fb3"
      },
      "execution_count": 117,
      "outputs": [
        {
          "output_type": "stream",
          "name": "stdout",
          "text": [
            "[11058, 9, 10085, 7498, 17, 11, 7, 4120, 3278, 1181, 11, 10205, 7, 1747, 27003, 4468, 14908, 7, 4120, 13, 221, 557, 2677, 212, 322, 19, 13354, 11054, 4747, 1599, 13, 1939, 509, 3828, 23300, 606, 495, 1553, 4478, 31, 21679, 7]\n"
          ]
        }
      ]
    },
    {
      "cell_type": "code",
      "source": [
        "print(vocab.decode_ids(ids))"
      ],
      "metadata": {
        "colab": {
          "base_uri": "https://localhost:8080/"
        },
        "id": "SEFXXdJJJC26",
        "outputId": "c22bf0e0-c027-4e57-a2dd-1ef80edd7dcf"
      },
      "execution_count": 118,
      "outputs": [
        {
          "output_type": "stream",
          "name": "stdout",
          "text": [
            "위키백과의 최상위 도메인이 .com이던 시절 ko.wikipedia.com에 구판 미디어위키가 깔렸으나 한글 처리에 문제가 있어 글을 올릴 수도 없는 이름뿐인 곳이었다.\n"
          ]
        }
      ]
    },
    {
      "cell_type": "code",
      "source": [
        "id_pieces = []\n",
        "for id in ids:\n",
        " id_pieces.append(vocab.id_to_piece(id))\n",
        "print(id_pieces[0:100])"
      ],
      "metadata": {
        "colab": {
          "base_uri": "https://localhost:8080/"
        },
        "id": "EE4isGc7JFXu",
        "outputId": "abfd3584-1a73-4283-97c9-a503ec1f0d6d"
      },
      "execution_count": 120,
      "outputs": [
        {
          "output_type": "stream",
          "name": "stdout",
          "text": [
            "['▁위키백과', '의', '▁최상위', '▁도메인', '이', '▁', '.', 'com', '이던', '▁시절', '▁', 'ko', '.', 'w', 'iki', 'pe', 'dia', '.', 'com', '에', '▁구', '판', '▁미디어', '위', '키', '가', '▁깔', '렸으나', '▁한글', '▁처리', '에', '▁문제가', '▁있어', '▁글을', '▁올릴', '▁수도', '▁없는', '▁이름', '뿐', '인', '▁곳이었다', '.']\n"
          ]
        }
      ]
    },
    {
      "cell_type": "code",
      "source": [
        ""
      ],
      "metadata": {
        "id": "0o6vme9qJKyK"
      },
      "execution_count": null,
      "outputs": []
    }
  ]
}