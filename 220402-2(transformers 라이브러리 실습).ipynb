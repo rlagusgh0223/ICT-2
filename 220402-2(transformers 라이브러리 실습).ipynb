{
 "cells": [
  {
   "cell_type": "markdown",
   "id": "597af051",
   "metadata": {},
   "source": [
    "# 1. 설치"
   ]
  },
  {
   "cell_type": "code",
   "execution_count": 1,
   "id": "9d3cc534",
   "metadata": {},
   "outputs": [
    {
     "name": "stdout",
     "output_type": "stream",
     "text": [
      "Collecting transformers\n",
      "  Using cached transformers-4.17.0-py3-none-any.whl (3.8 MB)\n",
      "Requirement already satisfied: pyyaml>=5.1 in c:\\users\\owner\\anaconda3\\lib\\site-packages (from transformers) (6.0)\n",
      "Collecting huggingface-hub<1.0,>=0.1.0\n",
      "  Using cached huggingface_hub-0.4.0-py3-none-any.whl (67 kB)\n",
      "Requirement already satisfied: regex!=2019.12.17 in c:\\users\\owner\\anaconda3\\lib\\site-packages (from transformers) (2021.8.3)\n",
      "Requirement already satisfied: packaging>=20.0 in c:\\users\\owner\\anaconda3\\lib\\site-packages (from transformers) (21.0)\n",
      "Collecting tokenizers!=0.11.3,>=0.11.1\n",
      "  Downloading tokenizers-0.11.6-cp39-cp39-win_amd64.whl (3.2 MB)\n",
      "Requirement already satisfied: requests in c:\\users\\owner\\anaconda3\\lib\\site-packages (from transformers) (2.26.0)\n",
      "Requirement already satisfied: numpy>=1.17 in c:\\users\\owner\\anaconda3\\lib\\site-packages (from transformers) (1.20.3)\n",
      "Collecting sacremoses\n",
      "  Using cached sacremoses-0.0.49-py3-none-any.whl (895 kB)\n",
      "Requirement already satisfied: filelock in c:\\users\\owner\\anaconda3\\lib\\site-packages (from transformers) (3.3.1)\n",
      "Requirement already satisfied: tqdm>=4.27 in c:\\users\\owner\\anaconda3\\lib\\site-packages (from transformers) (4.62.3)\n",
      "Requirement already satisfied: typing-extensions>=3.7.4.3 in c:\\users\\owner\\anaconda3\\lib\\site-packages (from huggingface-hub<1.0,>=0.1.0->transformers) (3.10.0.2)\n",
      "Requirement already satisfied: pyparsing>=2.0.2 in c:\\users\\owner\\anaconda3\\lib\\site-packages (from packaging>=20.0->transformers) (3.0.4)\n",
      "Requirement already satisfied: colorama in c:\\users\\owner\\anaconda3\\lib\\site-packages (from tqdm>=4.27->transformers) (0.4.4)\n",
      "Requirement already satisfied: certifi>=2017.4.17 in c:\\users\\owner\\anaconda3\\lib\\site-packages (from requests->transformers) (2021.10.8)\n",
      "Requirement already satisfied: charset-normalizer~=2.0.0 in c:\\users\\owner\\anaconda3\\lib\\site-packages (from requests->transformers) (2.0.4)\n",
      "Requirement already satisfied: idna<4,>=2.5 in c:\\users\\owner\\anaconda3\\lib\\site-packages (from requests->transformers) (3.2)\n",
      "Requirement already satisfied: urllib3<1.27,>=1.21.1 in c:\\users\\owner\\anaconda3\\lib\\site-packages (from requests->transformers) (1.26.7)\n",
      "Requirement already satisfied: six in c:\\users\\owner\\anaconda3\\lib\\site-packages (from sacremoses->transformers) (1.16.0)\n",
      "Requirement already satisfied: joblib in c:\\users\\owner\\anaconda3\\lib\\site-packages (from sacremoses->transformers) (1.1.0)\n",
      "Requirement already satisfied: click in c:\\users\\owner\\anaconda3\\lib\\site-packages (from sacremoses->transformers) (8.0.3)\n",
      "Installing collected packages: tokenizers, sacremoses, huggingface-hub, transformers\n",
      "Successfully installed huggingface-hub-0.4.0 sacremoses-0.0.49 tokenizers-0.11.6 transformers-4.17.0\n"
     ]
    }
   ],
   "source": [
    "!pip install transformers"
   ]
  },
  {
   "cell_type": "code",
   "execution_count": 5,
   "id": "acdd3136",
   "metadata": {},
   "outputs": [
    {
     "name": "stdout",
     "output_type": "stream",
     "text": [
      "^C\n"
     ]
    }
   ],
   "source": [
    "!pip install tensorflow\n"
   ]
  },
  {
   "cell_type": "markdown",
   "id": "6dbf63d4",
   "metadata": {},
   "source": [
    "# 2. 미리보기"
   ]
  },
  {
   "cell_type": "code",
   "execution_count": null,
   "id": "79e1d59c",
   "metadata": {},
   "outputs": [],
   "source": [
    "from transformers import pipeline"
   ]
  },
  {
   "cell_type": "code",
   "execution_count": null,
   "id": "23f38817",
   "metadata": {},
   "outputs": [],
   "source": [
    "classifier = pipeline('sentiment-analysis')    # 감성분석"
   ]
  },
  {
   "cell_type": "code",
   "execution_count": null,
   "id": "c1d9f7bb",
   "metadata": {},
   "outputs": [],
   "source": [
    "classifier('I am glad to hear that you finally made it.')    # 긍정적인 문장에 대한 판단"
   ]
  },
  {
   "cell_type": "code",
   "execution_count": null,
   "id": "4293cfd0",
   "metadata": {},
   "outputs": [],
   "source": [
    "classifier('I am sorry that you hate it.')    # 부정적인 문장에 대한 판단"
   ]
  },
  {
   "cell_type": "code",
   "execution_count": null,
   "id": "0d4fd0fb",
   "metadata": {},
   "outputs": [],
   "source": [
    "classifier(\"한국어도 되나요?\")"
   ]
  },
  {
   "cell_type": "code",
   "execution_count": null,
   "id": "e9244023",
   "metadata": {},
   "outputs": [],
   "source": [
    "classifier(\"자연어 처리는 정말 재미있다\")"
   ]
  },
  {
   "cell_type": "code",
   "execution_count": null,
   "id": "c37d5e54",
   "metadata": {},
   "outputs": [],
   "source": [
    "classifier(\"Hello\")"
   ]
  },
  {
   "cell_type": "markdown",
   "id": "46fe998d",
   "metadata": {},
   "source": [
    "# 3. 한국어에 학습된 모형을 사용해보기"
   ]
  },
  {
   "cell_type": "code",
   "execution_count": null,
   "id": "6855dc83",
   "metadata": {
    "scrolled": true
   },
   "outputs": [],
   "source": [
    "#Kclassifier = pipeline('sentiment-analysis', model='monologg/koelectra-small-finetuned-nsmc')\n",
    "classifier = pipeline('sentiment-analysis', model='monologg/koelectra-small-finetuned-nsmc')\n"
   ]
  },
  {
   "cell_type": "code",
   "execution_count": null,
   "id": "8add3e36",
   "metadata": {},
   "outputs": [],
   "source": [
    "Kclassifier(\"이 영화 진짜 재밌다\")"
   ]
  },
  {
   "cell_type": "code",
   "execution_count": null,
   "id": "3bd233dc",
   "metadata": {},
   "outputs": [],
   "source": []
  }
 ],
 "metadata": {
  "kernelspec": {
   "display_name": "Python 3 (ipykernel)",
   "language": "python",
   "name": "python3"
  },
  "language_info": {
   "codemirror_mode": {
    "name": "ipython",
    "version": 3
   },
   "file_extension": ".py",
   "mimetype": "text/x-python",
   "name": "python",
   "nbconvert_exporter": "python",
   "pygments_lexer": "ipython3",
   "version": "3.9.7"
  }
 },
 "nbformat": 4,
 "nbformat_minor": 5
}
