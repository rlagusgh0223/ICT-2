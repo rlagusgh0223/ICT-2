{
 "cells": [
  {
   "cell_type": "markdown",
   "metadata": {
    "colab_type": "text",
    "id": "view-in-github"
   },
   "source": [
    "<a href=\"https://colab.research.google.com/github/rlagusgh0223/ICT-2/blob/main/220410_1(kowiki).ipynb\" target=\"_parent\"><img src=\"https://colab.research.google.com/assets/colab-badge.svg\" alt=\"Open In Colab\"/></a>"
   ]
  },
  {
   "cell_type": "markdown",
   "metadata": {
    "id": "roDv_AVVOi8E"
   },
   "source": [
    "## **[환경설정]**"
   ]
  },
  {
   "cell_type": "markdown",
   "metadata": {
    "id": "fqotCId2O8cg"
   },
   "source": [
    "런타임 - 런타임 유형 변경 - GPU 설정 후  \n",
    "도구 - 설정 - 편집기 - 행 번호 표시 하면 행 번호 나온다\n",
    "\n",
    "▷ install"
   ]
  },
  {
   "cell_type": "code",
   "execution_count": 1,
   "metadata": {
    "colab": {
     "base_uri": "https://localhost:8080/"
    },
    "id": "tsZKQf51OFE6",
    "outputId": "2b1f3f42-0a14-4b7b-f979-1d8be7b95939"
   },
   "outputs": [
    {
     "name": "stdout",
     "output_type": "stream",
     "text": [
      "Collecting sentencepiece\n",
      "  Downloading sentencepiece-0.1.96-cp39-cp39-win_amd64.whl (1.1 MB)\n",
      "Installing collected packages: sentencepiece\n",
      "Successfully installed sentencepiece-0.1.96\n"
     ]
    }
   ],
   "source": [
    "!pip install sentencepiece"
   ]
  },
  {
   "cell_type": "markdown",
   "metadata": {
    "id": "yH53Lrm6PSSN"
   },
   "source": [
    "▷ import"
   ]
  },
  {
   "cell_type": "code",
   "execution_count": 2,
   "metadata": {
    "id": "9RURqUNPPLlR"
   },
   "outputs": [],
   "source": [
    "import os\n",
    "import random\n",
    "import shutil\n",
    "import json\n",
    "import zipfile\n",
    "import matplotlib.pyplot as plt\n",
    "import numpy as np\n",
    "import sentencepiece as spm\n",
    "import tensorflow as tf\n",
    "import tensorflow.keras.backend as K\n",
    "from tqdm.notebook import tqdm"
   ]
  },
  {
   "cell_type": "code",
   "execution_count": 3,
   "metadata": {
    "id": "Ux3OaxZCPp05"
   },
   "outputs": [],
   "source": [
    "# random seed initialize\n",
    "random_seed = 1234\n",
    "random.seed(random_seed)\n",
    "np.random.seed(random_seed)\n",
    "tf.random.set_seed(random_seed)"
   ]
  },
  {
   "cell_type": "code",
   "execution_count": 4,
   "metadata": {
    "colab": {
     "base_uri": "https://localhost:8080/"
    },
    "id": "eW0kBSw2QkR4",
    "outputId": "01d58ac3-784c-40af-d295-ba3999d03b5e"
   },
   "outputs": [
    {
     "name": "stderr",
     "output_type": "stream",
     "text": [
      "'nvidia-smi'은(는) 내부 또는 외부 명령, 실행할 수 있는 프로그램, 또는\n",
      "배치 파일이 아닙니다.\n"
     ]
    }
   ],
   "source": [
    "# GPU 사용 확인\n",
    "!nvidia-smi"
   ]
  },
  {
   "cell_type": "code",
   "execution_count": 5,
   "metadata": {
    "colab": {
     "base_uri": "https://localhost:8080/"
    },
    "id": "wAeTPqnbRUNO",
    "outputId": "6ccf60ff-57c9-40a1-d209-51c8434053ea"
   },
   "outputs": [
    {
     "ename": "ModuleNotFoundError",
     "evalue": "No module named 'google.colab'",
     "output_type": "error",
     "traceback": [
      "\u001b[1;31m---------------------------------------------------------------------------\u001b[0m",
      "\u001b[1;31mModuleNotFoundError\u001b[0m                       Traceback (most recent call last)",
      "\u001b[1;32m~\\AppData\\Local\\Temp/ipykernel_2148/768293983.py\u001b[0m in \u001b[0;36m<module>\u001b[1;34m\u001b[0m\n\u001b[0;32m      2\u001b[0m \u001b[1;31m# content에 dirve폴더가 없으니까 만든 다음에 실행\u001b[0m\u001b[1;33m\u001b[0m\u001b[1;33m\u001b[0m\u001b[0m\n\u001b[0;32m      3\u001b[0m \u001b[1;31m# 폴더가 꼬인것 같으니까 난 sdrive로 할 것\u001b[0m\u001b[1;33m\u001b[0m\u001b[1;33m\u001b[0m\u001b[0m\n\u001b[1;32m----> 4\u001b[1;33m \u001b[1;32mfrom\u001b[0m \u001b[0mgoogle\u001b[0m\u001b[1;33m.\u001b[0m\u001b[0mcolab\u001b[0m \u001b[1;32mimport\u001b[0m \u001b[0mdrive\u001b[0m\u001b[1;33m\u001b[0m\u001b[1;33m\u001b[0m\u001b[0m\n\u001b[0m\u001b[0;32m      5\u001b[0m \u001b[0mdrive\u001b[0m\u001b[1;33m.\u001b[0m\u001b[0mmount\u001b[0m\u001b[1;33m(\u001b[0m\u001b[1;34m'/content/sdrive'\u001b[0m\u001b[1;33m,\u001b[0m \u001b[0mforce_remount\u001b[0m\u001b[1;33m=\u001b[0m\u001b[1;32mTrue\u001b[0m\u001b[1;33m)\u001b[0m\u001b[1;33m\u001b[0m\u001b[1;33m\u001b[0m\u001b[0m\n",
      "\u001b[1;31mModuleNotFoundError\u001b[0m: No module named 'google.colab'"
     ]
    }
   ],
   "source": [
    "# google drive mount\n",
    "# content에 dirve폴더가 없으니까 만든 다음에 실행\n",
    "# 폴더가 꼬인것 같으니까 난 sdrive로 할 것\n",
    "from google.colab import drive\n",
    "drive.mount('/content/sdrive', force_remount=True)"
   ]
  },
  {
   "cell_type": "code",
   "execution_count": null,
   "metadata": {
    "colab": {
     "base_uri": "https://localhost:8080/"
    },
    "id": "umNRz__jR6r4",
    "outputId": "ed767681-d8f2-4ea5-f796-6b054ce78499"
   },
   "outputs": [],
   "source": [
    "# data dir\n",
    "data_dir = '/content/sdrive/MyDrive/Colab Notebooks/Data/nlp'\n",
    "os.listdir(data_dir)"
   ]
  },
  {
   "cell_type": "markdown",
   "metadata": {
    "id": "74rD71ZyT2YX"
   },
   "source": [
    "## **[Vocabulary]**\n",
    "▷ 한국어 위키 다운로드"
   ]
  },
  {
   "cell_type": "code",
   "execution_count": null,
   "metadata": {
    "colab": {
     "base_uri": "https://localhost:8080/"
    },
    "id": "WY3nF8UjTTqu",
    "outputId": "fb9fcc47-626b-4149-abdb-8290b88e7ec5"
   },
   "outputs": [],
   "source": [
    "# korean wiki dir\n",
    "kowiki_dir = os.path.join(data_dir, 'kowiki')\n",
    "if not os.path.exists(kowiki_dir):\n",
    " os.makedirs(kowiki_dir)\n",
    "os.listdir(kowiki_dir)"
   ]
  },
  {
   "cell_type": "code",
   "execution_count": null,
   "metadata": {
    "colab": {
     "base_uri": "https://localhost:8080/"
    },
    "id": "smg326AHb_RM",
    "outputId": "4432ec53-a4ff-4f69-b2e6-c0393764099e"
   },
   "outputs": [],
   "source": [
    "!wget https://dumps.wikimedia.org/kowiki/latest/kowiki-latest-pages-meta-current.xml.bz2"
   ]
  },
  {
   "cell_type": "code",
   "execution_count": null,
   "metadata": {
    "colab": {
     "base_uri": "https://localhost:8080/"
    },
    "id": "TMuFyCbucBPM",
    "outputId": "05439862-c14f-44f4-a0c3-df6147a607ae"
   },
   "outputs": [],
   "source": [
    "# WikiExtractor 다운로드\n",
    "!wget https://github.com/paul-hyun/web-crawler/raw/master/WikiExtractor.py"
   ]
  },
  {
   "cell_type": "code",
   "execution_count": null,
   "metadata": {
    "colab": {
     "base_uri": "https://localhost:8080/"
    },
    "id": "VBJ8AccDcxVK",
    "outputId": "e48917e9-a44f-4cf1-ae5e-7d4826bed515"
   },
   "outputs": [],
   "source": [
    "# 파일이 잘 받아졌는지 확인\n",
    "os.listdir('.')"
   ]
  },
  {
   "cell_type": "code",
   "execution_count": null,
   "metadata": {
    "colab": {
     "base_uri": "https://localhost:8080/"
    },
    "id": "5Eyrunftc7er",
    "outputId": "8e6a2157-bd00-4e11-c7c2-f1633527cf70"
   },
   "outputs": [],
   "source": [
    "# WikiExtractor 실행\n",
    "os.system(f\"python WikiExtractor.py -o kowiki --json kowiki-latest-pages-meta-current.xml.bz2\")"
   ]
  },
  {
   "cell_type": "code",
   "execution_count": null,
   "metadata": {
    "colab": {
     "base_uri": "https://localhost:8080/"
    },
    "id": "sWJTiP5RdRR8",
    "outputId": "0499df47-5910-431e-c106-20fc39cf51ff"
   },
   "outputs": [],
   "source": [
    "with open(os.path.join('kowiki', 'AA', 'wiki_00')) as f:\n",
    "  for i, line in enumerate(f):\n",
    "    if i >= 10:\n",
    "      break\n",
    "    line = line.strip()\n",
    "    print(line)"
   ]
  },
  {
   "cell_type": "code",
   "execution_count": null,
   "metadata": {
    "colab": {
     "base_uri": "https://localhost:8080/"
    },
    "id": "A5bOz6nzg6pQ",
    "outputId": "0e3e6b6f-a5c8-4faf-dc68-f5fa5a2bc1a1"
   },
   "outputs": [],
   "source": [
    "filepaths = []\n",
    "dirnames = os.listdir('kowiki')\n",
    "for dirname in dirnames:\n",
    "  dirpath = os.path.join('kowiki', dirname)\n",
    "  filenames = os.listdir(dirpath)\n",
    "  for filename in filenames:\n",
    "    if filename.startswith('wiki_'):\n",
    "      filepath = os.path.join(dirpath, filename)\n",
    "      filepaths.append(filepath)\n",
    "filepaths = sorted(filepaths)\n",
    "print(len(filepaths), filepaths[:10])"
   ]
  },
  {
   "cell_type": "code",
   "execution_count": null,
   "metadata": {
    "id": "0_xdntF9jgkC"
   },
   "outputs": [],
   "source": [
    "def trim_text(item):\n",
    "  \"\"\"\n",
    "  한 위키 문서 내의 여러줄띄키(\\n\\n...)를 한 줄 띄기(\\n)로 변경\n",
    "  :param item: 위키 항목\n",
    "  :return: text의 여러줄 new line을 한 줄 new line으로 변경한 json data\n",
    "  \"\"\"\n",
    "  data = json.loads(item)\n",
    "  text = data[\"text\"]\n",
    "  value = list(filter(lambda x: len(x) > 0, text.split('\\n')))\n",
    "  data[\"text\"] = \"\\n\".join(value)\n",
    "  return data"
   ]
  },
  {
   "cell_type": "code",
   "execution_count": null,
   "metadata": {
    "colab": {
     "base_uri": "https://localhost:8080/",
     "height": 68,
     "referenced_widgets": [
      "f9d3525e4fc1436ca20c8ffca5b47bcd",
      "4244adf1363249e7bb6c85730933e903",
      "39ab476a8ea24bea82e6441894684ae4",
      "62bec2390d5c403daf1682d69e7a12d9",
      "e41d53eb8b754af3980b6be0c819c39d",
      "3c8a607477b447df87a552697d12a56a",
      "634b29abfbb4427592fd0c51e5d26541",
      "216258a3b4b9475185a64cc1985d21f0",
      "54a55ba7604d479aae5a379a700b356a",
      "450cc21c196d4f24a498f95d177fe523",
      "d1597501c3844f77a59152b39f808721"
     ]
    },
    "id": "pPiMNRlO2fCA",
    "outputId": "cd216ec7-a742-41a8-d618-5d3a8aecf3b4"
   },
   "outputs": [],
   "source": [
    "# 여러 줄 띄기(\\n\\n...)를 한 줄 띄기(\\n)로 변경\n",
    "dataset = []\n",
    "for filepath in tqdm(filepaths):\n",
    "  with open(filepath, 'r') as f:\n",
    "    for line in f:\n",
    "      line = line.strip()    # 양쪽에 공백이 있으면 자름\n",
    "      if line:\n",
    "        dataset.append(trim_text(line))\n",
    "print(len(dataset))"
   ]
  },
  {
   "cell_type": "code",
   "execution_count": null,
   "metadata": {
    "colab": {
     "base_uri": "https://localhost:8080/",
     "height": 49,
     "referenced_widgets": [
      "5295ec6e5e084d81b4c1523bb4afe808",
      "0857ed9e48c9499ea489d400fac7dd3a",
      "30a04bdad42b4b02ba6b0a0c8854bb9f",
      "5b5a4a1642c246fbacd070a3c5d13611",
      "84793e62e5ba437eb9caf91c32282b27",
      "2cfa32c82cc348e0ba9bf405b68cb1d3",
      "35cf4f98de4e41d0ad34874f341f39fa",
      "4171febeca684516bb3d2408a3608324",
      "fbcb5ef125d74292a1fb5b330829c71e",
      "75c3cfef996f4363b62ce4126030ddef",
      "cc2ebf91b2b24a1ca04543497538f304"
     ]
    },
    "id": "jps0H6PK3DxX",
    "outputId": "d45a23fe-a972-4d1e-fd5c-aafbb6e9a3c4"
   },
   "outputs": [],
   "source": [
    "# 위키를 한 파일로 저장\n",
    "with open('kowiki.txt', 'w') as f:\n",
    "  for data in tqdm(dataset):\n",
    "    f.write(data[\"text\"])\n",
    "    f.write('\\n\\n\\n')"
   ]
  },
  {
   "cell_type": "code",
   "execution_count": null,
   "metadata": {
    "colab": {
     "base_uri": "https://localhost:8080/"
    },
    "id": "5PUIv16O5CKP",
    "outputId": "aaf6c10a-1c37-4515-c7c7-c5fbed0c995f"
   },
   "outputs": [],
   "source": [
    "# 파일 내용 확인\n",
    "with open(\"kowiki.txt\") as f:\n",
    "  for i, line in enumerate(f):\n",
    "    if i >= 30:\n",
    "      break\n",
    "    line = line.strip()\n",
    "    print(line)"
   ]
  },
  {
   "cell_type": "code",
   "execution_count": null,
   "metadata": {
    "colab": {
     "base_uri": "https://localhost:8080/"
    },
    "id": "bU8n_iFr5uOF",
    "outputId": "7bd16cfb-da94-4c55-a1b8-070704c89744"
   },
   "outputs": [],
   "source": [
    "# 압축\n",
    "!zip kowiki.txt.zip kowiki.txt"
   ]
  },
  {
   "cell_type": "code",
   "execution_count": null,
   "metadata": {
    "colab": {
     "base_uri": "https://localhost:8080/"
    },
    "id": "ioa7LaH16bJV",
    "outputId": "897b8c30-179c-432c-f156-a291362b3392"
   },
   "outputs": [],
   "source": [
    "# 압축파일 보관\n",
    "shutil.move(\"kowiki.txt.zip\", os.path.join(kowiki_dir, 'kowiki.txt.zip'))\n",
    "os.listdir(kowiki_dir)"
   ]
  },
  {
   "cell_type": "markdown",
   "metadata": {
    "id": "m_mi-lVO7Hfq"
   },
   "source": [
    "▷ sentencepiece vocabulary 생성\n",
    "  \n",
    "특수 Token : 7개 정의  \n",
    "vocabulary : 32,000개  \n",
    "학습방법 : unigram  \n",
    "  \n",
    "특수 Token들  \n",
    "● [PAD]: 자연어처리 문장들의 길이가 다르기 때문에 길이를 맞춰주기 위해 추가하는 token\n",
    "\n",
    "● [UNK]: vocabulary에 등록되지 않는 단어가 있는 경우 [UNK]로 처리함\n",
    "\n",
    "● [BOS]: Begin of Sequence로 문장의 시작을 의미하는 token\n",
    "\n",
    "● [EOS]: End of Sequence로 문장의 끝을 의미하는 token\n",
    "\n",
    "● [SEP]: Separator로 두 개 이상의 문장을 구분하기 위한 token\n",
    "\n",
    "● [CLS]: Class로 문장을 대표하는 벡터를 의미하는 token\n",
    "\n",
    "● [MASK]: Mask로 단어를 가리고자 할 때 사용하는 token"
   ]
  },
  {
   "cell_type": "code",
   "execution_count": null,
   "metadata": {
    "id": "Gn4jilGs62Hd"
   },
   "outputs": [],
   "source": [
    "# sentencepiece 학습 함수\n",
    "def trian_sentencepiece(corpus, prefix, vocab_size=32000):\n",
    "  \"\"\"\n",
    "  sentencepiece를 이용해 vocab 학습\n",
    "  :param corpus: 학습할 말뭉치\n",
    "  :param prefix: 저장할 vocab 이름\n",
    "  :param vocab_size: vocab 개수\n",
    "  \"\"\"\n",
    "  spm.SentencePieceTrainer.train(\n",
    "      f\"--input={corpus} --model_prefix={prefix} --vocab_size={vocab_size+7}\" +\n",
    "      # 7은 특수문자 개수\n",
    "      \" --model_type=unigram\" +\n",
    "      \" --max_sentence_length=999999\" + # 문장 최대 길이\n",
    "      \" --pad_id=0 --pad_piece=[PAD]\" + # pad 지정\n",
    "      \" --unk_id=1 --unk_piece=[UNL]\" + # unknown token 지정\n",
    "      \" --bos_id=2 --bos_piece=[BOS]\" + # bos 지정\n",
    "      \" --eos_id=3 --eos_piece=[EOS]\" + # eos 지정\n",
    "      \" --user_defined_symbols=[SEP], [CLS], [MASK]\")"
   ]
  },
  {
   "cell_type": "code",
   "execution_count": null,
   "metadata": {
    "id": "-74_LhdV9Pbw"
   },
   "outputs": [],
   "source": [
    "# sentencepiece 생성\n",
    "# vocab 생성\n",
    "train_sentencepiece('kowiki.txt', 'ko_32000', vocab_size=32000)"
   ]
  },
  {
   "cell_type": "code",
   "execution_count": null,
   "metadata": {
    "colab": {
     "base_uri": "https://localhost:8080/"
    },
    "id": "WPjw5YMcEl4E",
    "outputId": "e8eeeb69-c480-4f80-bf98-ed609a891ea5"
   },
   "outputs": [],
   "source": [
    "# vocabulary 파일 보관\n",
    "# 생성된 vocab 이동\n",
    "shutil.move('ko_32000.model', os.path.join(data_dir, 'ko_32000.model'))\n",
    "shutil.move('ko_32000.vocab', os.path.join(data_dir, 'ko_32000.vocab'))\n",
    "os.listdir(data_dir)"
   ]
  },
  {
   "cell_type": "markdown",
   "metadata": {
    "id": "NBuGY7SqGgF0"
   },
   "source": [
    "▷ sentencepiece vocabulary 확인"
   ]
  },
  {
   "cell_type": "code",
   "execution_count": null,
   "metadata": {
    "colab": {
     "base_uri": "https://localhost:8080/"
    },
    "id": "RUvZK85hFK9T",
    "outputId": "2f5606a7-c734-4424-939c-3837903892b9"
   },
   "outputs": [],
   "source": [
    "# ko_32000.model 로드\n",
    "# load vocab\n",
    "vocab = spm.SentencePieceProcessor()\n",
    "vocab.load(os.path.join(data_dir, 'ko_32000.model'))"
   ]
  },
  {
   "cell_type": "code",
   "execution_count": null,
   "metadata": {
    "colab": {
     "base_uri": "https://localhost:8080/"
    },
    "id": "ejB1mbrLHWuU",
    "outputId": "a1ac51a1-4c9b-4894-e588-dcbc23a95f26"
   },
   "outputs": [],
   "source": [
    "# vocab 출력\n",
    "print(f'len: {len(vocab)}')\n",
    "for _id in range(16):\n",
    "  print(f'{_id:5d}: {vocab.id_to_piece(_id)}')"
   ]
  },
  {
   "cell_type": "code",
   "execution_count": null,
   "metadata": {
    "colab": {
     "base_uri": "https://localhost:8080/"
    },
    "id": "WMFJsJpSIem0",
    "outputId": "37e16777-a01c-4e46-8e02-c7404e55a9e0"
   },
   "outputs": [],
   "source": [
    "text =  '위키백과의 최상위 도메인이 .com이던 시절 ko.wikipedia.com에 구판 미디어위키가 깔렸으나 한글 처리에 문제가 있어 글을 올릴 수도 없는 이름뿐인 곳이었다.'\n",
    "\n",
    "pieces = vocab.encode_as_pieces(text)\n",
    "print(pieces[0:100])"
   ]
  },
  {
   "cell_type": "code",
   "execution_count": null,
   "metadata": {
    "colab": {
     "base_uri": "https://localhost:8080/"
    },
    "id": "wOJtkRJIIu6K",
    "outputId": "6b3e0ed8-8e7d-47d3-d7ae-e914138c12dc"
   },
   "outputs": [],
   "source": [
    "print(vocab.decode_pieces(pieces))"
   ]
  },
  {
   "cell_type": "code",
   "execution_count": null,
   "metadata": {
    "colab": {
     "base_uri": "https://localhost:8080/"
    },
    "id": "HAuKUVpfI0ML",
    "outputId": "ac99a4d0-98a1-4465-fdc6-02d9e0fcdade"
   },
   "outputs": [],
   "source": [
    "piece_ids = []\n",
    "for piece in pieces:\n",
    "  piece_ids.append(vocab.piece_to_id(piece))\n",
    "print(piece_ids[0:100])"
   ]
  },
  {
   "cell_type": "code",
   "execution_count": null,
   "metadata": {
    "colab": {
     "base_uri": "https://localhost:8080/"
    },
    "id": "Afms-UxgTDaW",
    "outputId": "c988034d-301c-430a-9073-0944907d0fb3"
   },
   "outputs": [],
   "source": [
    "# text를 id로 tokenize 함\n",
    "# sentence to ids\n",
    "ids = vocab.encode_as_ids(text)\n",
    "print(ids[0:100])"
   ]
  },
  {
   "cell_type": "code",
   "execution_count": null,
   "metadata": {
    "colab": {
     "base_uri": "https://localhost:8080/"
    },
    "id": "SEFXXdJJJC26",
    "outputId": "c22bf0e0-c027-4e57-a2dd-1ef80edd7dcf"
   },
   "outputs": [],
   "source": [
    "print(vocab.decode_ids(ids))"
   ]
  },
  {
   "cell_type": "code",
   "execution_count": null,
   "metadata": {
    "colab": {
     "base_uri": "https://localhost:8080/"
    },
    "id": "EE4isGc7JFXu",
    "outputId": "abfd3584-1a73-4283-97c9-a503ec1f0d6d"
   },
   "outputs": [],
   "source": [
    "id_pieces = []\n",
    "for id in ids:\n",
    " id_pieces.append(vocab.id_to_piece(id))\n",
    "print(id_pieces[0:100])"
   ]
  },
  {
   "cell_type": "code",
   "execution_count": null,
   "metadata": {
    "id": "0o6vme9qJKyK"
   },
   "outputs": [],
   "source": []
  }
 ],
 "metadata": {
  "accelerator": "GPU",
  "colab": {
   "authorship_tag": "ABX9TyNHY2nU/yBTENxogdGvbJbj",
   "collapsed_sections": [],
   "include_colab_link": true,
   "name": "220410-1(kowiki).ipynb",
   "provenance": []
  },
  "kernelspec": {
   "display_name": "Python 3 (ipykernel)",
   "language": "python",
   "name": "python3"
  },
  "language_info": {
   "codemirror_mode": {
    "name": "ipython",
    "version": 3
   },
   "file_extension": ".py",
   "mimetype": "text/x-python",
   "name": "python",
   "nbconvert_exporter": "python",
   "pygments_lexer": "ipython3",
   "version": "3.9.7"
  },
  "widgets": {
   "application/vnd.jupyter.widget-state+json": {
    "0857ed9e48c9499ea489d400fac7dd3a": {
     "model_module": "@jupyter-widgets/controls",
     "model_module_version": "1.5.0",
     "model_name": "HTMLModel",
     "state": {
      "_dom_classes": [],
      "_model_module": "@jupyter-widgets/controls",
      "_model_module_version": "1.5.0",
      "_model_name": "HTMLModel",
      "_view_count": null,
      "_view_module": "@jupyter-widgets/controls",
      "_view_module_version": "1.5.0",
      "_view_name": "HTMLView",
      "description": "",
      "description_tooltip": null,
      "layout": "IPY_MODEL_2cfa32c82cc348e0ba9bf405b68cb1d3",
      "placeholder": "​",
      "style": "IPY_MODEL_35cf4f98de4e41d0ad34874f341f39fa",
      "value": "100%"
     }
    },
    "216258a3b4b9475185a64cc1985d21f0": {
     "model_module": "@jupyter-widgets/base",
     "model_module_version": "1.2.0",
     "model_name": "LayoutModel",
     "state": {
      "_model_module": "@jupyter-widgets/base",
      "_model_module_version": "1.2.0",
      "_model_name": "LayoutModel",
      "_view_count": null,
      "_view_module": "@jupyter-widgets/base",
      "_view_module_version": "1.2.0",
      "_view_name": "LayoutView",
      "align_content": null,
      "align_items": null,
      "align_self": null,
      "border": null,
      "bottom": null,
      "display": null,
      "flex": null,
      "flex_flow": null,
      "grid_area": null,
      "grid_auto_columns": null,
      "grid_auto_flow": null,
      "grid_auto_rows": null,
      "grid_column": null,
      "grid_gap": null,
      "grid_row": null,
      "grid_template_areas": null,
      "grid_template_columns": null,
      "grid_template_rows": null,
      "height": null,
      "justify_content": null,
      "justify_items": null,
      "left": null,
      "margin": null,
      "max_height": null,
      "max_width": null,
      "min_height": null,
      "min_width": null,
      "object_fit": null,
      "object_position": null,
      "order": null,
      "overflow": null,
      "overflow_x": null,
      "overflow_y": null,
      "padding": null,
      "right": null,
      "top": null,
      "visibility": null,
      "width": null
     }
    },
    "2cfa32c82cc348e0ba9bf405b68cb1d3": {
     "model_module": "@jupyter-widgets/base",
     "model_module_version": "1.2.0",
     "model_name": "LayoutModel",
     "state": {
      "_model_module": "@jupyter-widgets/base",
      "_model_module_version": "1.2.0",
      "_model_name": "LayoutModel",
      "_view_count": null,
      "_view_module": "@jupyter-widgets/base",
      "_view_module_version": "1.2.0",
      "_view_name": "LayoutView",
      "align_content": null,
      "align_items": null,
      "align_self": null,
      "border": null,
      "bottom": null,
      "display": null,
      "flex": null,
      "flex_flow": null,
      "grid_area": null,
      "grid_auto_columns": null,
      "grid_auto_flow": null,
      "grid_auto_rows": null,
      "grid_column": null,
      "grid_gap": null,
      "grid_row": null,
      "grid_template_areas": null,
      "grid_template_columns": null,
      "grid_template_rows": null,
      "height": null,
      "justify_content": null,
      "justify_items": null,
      "left": null,
      "margin": null,
      "max_height": null,
      "max_width": null,
      "min_height": null,
      "min_width": null,
      "object_fit": null,
      "object_position": null,
      "order": null,
      "overflow": null,
      "overflow_x": null,
      "overflow_y": null,
      "padding": null,
      "right": null,
      "top": null,
      "visibility": null,
      "width": null
     }
    },
    "30a04bdad42b4b02ba6b0a0c8854bb9f": {
     "model_module": "@jupyter-widgets/controls",
     "model_module_version": "1.5.0",
     "model_name": "FloatProgressModel",
     "state": {
      "_dom_classes": [],
      "_model_module": "@jupyter-widgets/controls",
      "_model_module_version": "1.5.0",
      "_model_name": "FloatProgressModel",
      "_view_count": null,
      "_view_module": "@jupyter-widgets/controls",
      "_view_module_version": "1.5.0",
      "_view_name": "ProgressView",
      "bar_style": "success",
      "description": "",
      "description_tooltip": null,
      "layout": "IPY_MODEL_4171febeca684516bb3d2408a3608324",
      "max": 584607,
      "min": 0,
      "orientation": "horizontal",
      "style": "IPY_MODEL_fbcb5ef125d74292a1fb5b330829c71e",
      "value": 584607
     }
    },
    "35cf4f98de4e41d0ad34874f341f39fa": {
     "model_module": "@jupyter-widgets/controls",
     "model_module_version": "1.5.0",
     "model_name": "DescriptionStyleModel",
     "state": {
      "_model_module": "@jupyter-widgets/controls",
      "_model_module_version": "1.5.0",
      "_model_name": "DescriptionStyleModel",
      "_view_count": null,
      "_view_module": "@jupyter-widgets/base",
      "_view_module_version": "1.2.0",
      "_view_name": "StyleView",
      "description_width": ""
     }
    },
    "39ab476a8ea24bea82e6441894684ae4": {
     "model_module": "@jupyter-widgets/controls",
     "model_module_version": "1.5.0",
     "model_name": "FloatProgressModel",
     "state": {
      "_dom_classes": [],
      "_model_module": "@jupyter-widgets/controls",
      "_model_module_version": "1.5.0",
      "_model_name": "FloatProgressModel",
      "_view_count": null,
      "_view_module": "@jupyter-widgets/controls",
      "_view_module_version": "1.5.0",
      "_view_name": "ProgressView",
      "bar_style": "success",
      "description": "",
      "description_tooltip": null,
      "layout": "IPY_MODEL_216258a3b4b9475185a64cc1985d21f0",
      "max": 810,
      "min": 0,
      "orientation": "horizontal",
      "style": "IPY_MODEL_54a55ba7604d479aae5a379a700b356a",
      "value": 810
     }
    },
    "3c8a607477b447df87a552697d12a56a": {
     "model_module": "@jupyter-widgets/base",
     "model_module_version": "1.2.0",
     "model_name": "LayoutModel",
     "state": {
      "_model_module": "@jupyter-widgets/base",
      "_model_module_version": "1.2.0",
      "_model_name": "LayoutModel",
      "_view_count": null,
      "_view_module": "@jupyter-widgets/base",
      "_view_module_version": "1.2.0",
      "_view_name": "LayoutView",
      "align_content": null,
      "align_items": null,
      "align_self": null,
      "border": null,
      "bottom": null,
      "display": null,
      "flex": null,
      "flex_flow": null,
      "grid_area": null,
      "grid_auto_columns": null,
      "grid_auto_flow": null,
      "grid_auto_rows": null,
      "grid_column": null,
      "grid_gap": null,
      "grid_row": null,
      "grid_template_areas": null,
      "grid_template_columns": null,
      "grid_template_rows": null,
      "height": null,
      "justify_content": null,
      "justify_items": null,
      "left": null,
      "margin": null,
      "max_height": null,
      "max_width": null,
      "min_height": null,
      "min_width": null,
      "object_fit": null,
      "object_position": null,
      "order": null,
      "overflow": null,
      "overflow_x": null,
      "overflow_y": null,
      "padding": null,
      "right": null,
      "top": null,
      "visibility": null,
      "width": null
     }
    },
    "4171febeca684516bb3d2408a3608324": {
     "model_module": "@jupyter-widgets/base",
     "model_module_version": "1.2.0",
     "model_name": "LayoutModel",
     "state": {
      "_model_module": "@jupyter-widgets/base",
      "_model_module_version": "1.2.0",
      "_model_name": "LayoutModel",
      "_view_count": null,
      "_view_module": "@jupyter-widgets/base",
      "_view_module_version": "1.2.0",
      "_view_name": "LayoutView",
      "align_content": null,
      "align_items": null,
      "align_self": null,
      "border": null,
      "bottom": null,
      "display": null,
      "flex": null,
      "flex_flow": null,
      "grid_area": null,
      "grid_auto_columns": null,
      "grid_auto_flow": null,
      "grid_auto_rows": null,
      "grid_column": null,
      "grid_gap": null,
      "grid_row": null,
      "grid_template_areas": null,
      "grid_template_columns": null,
      "grid_template_rows": null,
      "height": null,
      "justify_content": null,
      "justify_items": null,
      "left": null,
      "margin": null,
      "max_height": null,
      "max_width": null,
      "min_height": null,
      "min_width": null,
      "object_fit": null,
      "object_position": null,
      "order": null,
      "overflow": null,
      "overflow_x": null,
      "overflow_y": null,
      "padding": null,
      "right": null,
      "top": null,
      "visibility": null,
      "width": null
     }
    },
    "4244adf1363249e7bb6c85730933e903": {
     "model_module": "@jupyter-widgets/controls",
     "model_module_version": "1.5.0",
     "model_name": "HTMLModel",
     "state": {
      "_dom_classes": [],
      "_model_module": "@jupyter-widgets/controls",
      "_model_module_version": "1.5.0",
      "_model_name": "HTMLModel",
      "_view_count": null,
      "_view_module": "@jupyter-widgets/controls",
      "_view_module_version": "1.5.0",
      "_view_name": "HTMLView",
      "description": "",
      "description_tooltip": null,
      "layout": "IPY_MODEL_3c8a607477b447df87a552697d12a56a",
      "placeholder": "​",
      "style": "IPY_MODEL_634b29abfbb4427592fd0c51e5d26541",
      "value": "100%"
     }
    },
    "450cc21c196d4f24a498f95d177fe523": {
     "model_module": "@jupyter-widgets/base",
     "model_module_version": "1.2.0",
     "model_name": "LayoutModel",
     "state": {
      "_model_module": "@jupyter-widgets/base",
      "_model_module_version": "1.2.0",
      "_model_name": "LayoutModel",
      "_view_count": null,
      "_view_module": "@jupyter-widgets/base",
      "_view_module_version": "1.2.0",
      "_view_name": "LayoutView",
      "align_content": null,
      "align_items": null,
      "align_self": null,
      "border": null,
      "bottom": null,
      "display": null,
      "flex": null,
      "flex_flow": null,
      "grid_area": null,
      "grid_auto_columns": null,
      "grid_auto_flow": null,
      "grid_auto_rows": null,
      "grid_column": null,
      "grid_gap": null,
      "grid_row": null,
      "grid_template_areas": null,
      "grid_template_columns": null,
      "grid_template_rows": null,
      "height": null,
      "justify_content": null,
      "justify_items": null,
      "left": null,
      "margin": null,
      "max_height": null,
      "max_width": null,
      "min_height": null,
      "min_width": null,
      "object_fit": null,
      "object_position": null,
      "order": null,
      "overflow": null,
      "overflow_x": null,
      "overflow_y": null,
      "padding": null,
      "right": null,
      "top": null,
      "visibility": null,
      "width": null
     }
    },
    "5295ec6e5e084d81b4c1523bb4afe808": {
     "model_module": "@jupyter-widgets/controls",
     "model_module_version": "1.5.0",
     "model_name": "HBoxModel",
     "state": {
      "_dom_classes": [],
      "_model_module": "@jupyter-widgets/controls",
      "_model_module_version": "1.5.0",
      "_model_name": "HBoxModel",
      "_view_count": null,
      "_view_module": "@jupyter-widgets/controls",
      "_view_module_version": "1.5.0",
      "_view_name": "HBoxView",
      "box_style": "",
      "children": [
       "IPY_MODEL_0857ed9e48c9499ea489d400fac7dd3a",
       "IPY_MODEL_30a04bdad42b4b02ba6b0a0c8854bb9f",
       "IPY_MODEL_5b5a4a1642c246fbacd070a3c5d13611"
      ],
      "layout": "IPY_MODEL_84793e62e5ba437eb9caf91c32282b27"
     }
    },
    "54a55ba7604d479aae5a379a700b356a": {
     "model_module": "@jupyter-widgets/controls",
     "model_module_version": "1.5.0",
     "model_name": "ProgressStyleModel",
     "state": {
      "_model_module": "@jupyter-widgets/controls",
      "_model_module_version": "1.5.0",
      "_model_name": "ProgressStyleModel",
      "_view_count": null,
      "_view_module": "@jupyter-widgets/base",
      "_view_module_version": "1.2.0",
      "_view_name": "StyleView",
      "bar_color": null,
      "description_width": ""
     }
    },
    "5b5a4a1642c246fbacd070a3c5d13611": {
     "model_module": "@jupyter-widgets/controls",
     "model_module_version": "1.5.0",
     "model_name": "HTMLModel",
     "state": {
      "_dom_classes": [],
      "_model_module": "@jupyter-widgets/controls",
      "_model_module_version": "1.5.0",
      "_model_name": "HTMLModel",
      "_view_count": null,
      "_view_module": "@jupyter-widgets/controls",
      "_view_module_version": "1.5.0",
      "_view_name": "HTMLView",
      "description": "",
      "description_tooltip": null,
      "layout": "IPY_MODEL_75c3cfef996f4363b62ce4126030ddef",
      "placeholder": "​",
      "style": "IPY_MODEL_cc2ebf91b2b24a1ca04543497538f304",
      "value": " 584607/584607 [00:04&lt;00:00, 197730.90it/s]"
     }
    },
    "62bec2390d5c403daf1682d69e7a12d9": {
     "model_module": "@jupyter-widgets/controls",
     "model_module_version": "1.5.0",
     "model_name": "HTMLModel",
     "state": {
      "_dom_classes": [],
      "_model_module": "@jupyter-widgets/controls",
      "_model_module_version": "1.5.0",
      "_model_name": "HTMLModel",
      "_view_count": null,
      "_view_module": "@jupyter-widgets/controls",
      "_view_module_version": "1.5.0",
      "_view_name": "HTMLView",
      "description": "",
      "description_tooltip": null,
      "layout": "IPY_MODEL_450cc21c196d4f24a498f95d177fe523",
      "placeholder": "​",
      "style": "IPY_MODEL_d1597501c3844f77a59152b39f808721",
      "value": " 810/810 [00:13&lt;00:00, 49.04it/s]"
     }
    },
    "634b29abfbb4427592fd0c51e5d26541": {
     "model_module": "@jupyter-widgets/controls",
     "model_module_version": "1.5.0",
     "model_name": "DescriptionStyleModel",
     "state": {
      "_model_module": "@jupyter-widgets/controls",
      "_model_module_version": "1.5.0",
      "_model_name": "DescriptionStyleModel",
      "_view_count": null,
      "_view_module": "@jupyter-widgets/base",
      "_view_module_version": "1.2.0",
      "_view_name": "StyleView",
      "description_width": ""
     }
    },
    "75c3cfef996f4363b62ce4126030ddef": {
     "model_module": "@jupyter-widgets/base",
     "model_module_version": "1.2.0",
     "model_name": "LayoutModel",
     "state": {
      "_model_module": "@jupyter-widgets/base",
      "_model_module_version": "1.2.0",
      "_model_name": "LayoutModel",
      "_view_count": null,
      "_view_module": "@jupyter-widgets/base",
      "_view_module_version": "1.2.0",
      "_view_name": "LayoutView",
      "align_content": null,
      "align_items": null,
      "align_self": null,
      "border": null,
      "bottom": null,
      "display": null,
      "flex": null,
      "flex_flow": null,
      "grid_area": null,
      "grid_auto_columns": null,
      "grid_auto_flow": null,
      "grid_auto_rows": null,
      "grid_column": null,
      "grid_gap": null,
      "grid_row": null,
      "grid_template_areas": null,
      "grid_template_columns": null,
      "grid_template_rows": null,
      "height": null,
      "justify_content": null,
      "justify_items": null,
      "left": null,
      "margin": null,
      "max_height": null,
      "max_width": null,
      "min_height": null,
      "min_width": null,
      "object_fit": null,
      "object_position": null,
      "order": null,
      "overflow": null,
      "overflow_x": null,
      "overflow_y": null,
      "padding": null,
      "right": null,
      "top": null,
      "visibility": null,
      "width": null
     }
    },
    "84793e62e5ba437eb9caf91c32282b27": {
     "model_module": "@jupyter-widgets/base",
     "model_module_version": "1.2.0",
     "model_name": "LayoutModel",
     "state": {
      "_model_module": "@jupyter-widgets/base",
      "_model_module_version": "1.2.0",
      "_model_name": "LayoutModel",
      "_view_count": null,
      "_view_module": "@jupyter-widgets/base",
      "_view_module_version": "1.2.0",
      "_view_name": "LayoutView",
      "align_content": null,
      "align_items": null,
      "align_self": null,
      "border": null,
      "bottom": null,
      "display": null,
      "flex": null,
      "flex_flow": null,
      "grid_area": null,
      "grid_auto_columns": null,
      "grid_auto_flow": null,
      "grid_auto_rows": null,
      "grid_column": null,
      "grid_gap": null,
      "grid_row": null,
      "grid_template_areas": null,
      "grid_template_columns": null,
      "grid_template_rows": null,
      "height": null,
      "justify_content": null,
      "justify_items": null,
      "left": null,
      "margin": null,
      "max_height": null,
      "max_width": null,
      "min_height": null,
      "min_width": null,
      "object_fit": null,
      "object_position": null,
      "order": null,
      "overflow": null,
      "overflow_x": null,
      "overflow_y": null,
      "padding": null,
      "right": null,
      "top": null,
      "visibility": null,
      "width": null
     }
    },
    "cc2ebf91b2b24a1ca04543497538f304": {
     "model_module": "@jupyter-widgets/controls",
     "model_module_version": "1.5.0",
     "model_name": "DescriptionStyleModel",
     "state": {
      "_model_module": "@jupyter-widgets/controls",
      "_model_module_version": "1.5.0",
      "_model_name": "DescriptionStyleModel",
      "_view_count": null,
      "_view_module": "@jupyter-widgets/base",
      "_view_module_version": "1.2.0",
      "_view_name": "StyleView",
      "description_width": ""
     }
    },
    "d1597501c3844f77a59152b39f808721": {
     "model_module": "@jupyter-widgets/controls",
     "model_module_version": "1.5.0",
     "model_name": "DescriptionStyleModel",
     "state": {
      "_model_module": "@jupyter-widgets/controls",
      "_model_module_version": "1.5.0",
      "_model_name": "DescriptionStyleModel",
      "_view_count": null,
      "_view_module": "@jupyter-widgets/base",
      "_view_module_version": "1.2.0",
      "_view_name": "StyleView",
      "description_width": ""
     }
    },
    "e41d53eb8b754af3980b6be0c819c39d": {
     "model_module": "@jupyter-widgets/base",
     "model_module_version": "1.2.0",
     "model_name": "LayoutModel",
     "state": {
      "_model_module": "@jupyter-widgets/base",
      "_model_module_version": "1.2.0",
      "_model_name": "LayoutModel",
      "_view_count": null,
      "_view_module": "@jupyter-widgets/base",
      "_view_module_version": "1.2.0",
      "_view_name": "LayoutView",
      "align_content": null,
      "align_items": null,
      "align_self": null,
      "border": null,
      "bottom": null,
      "display": null,
      "flex": null,
      "flex_flow": null,
      "grid_area": null,
      "grid_auto_columns": null,
      "grid_auto_flow": null,
      "grid_auto_rows": null,
      "grid_column": null,
      "grid_gap": null,
      "grid_row": null,
      "grid_template_areas": null,
      "grid_template_columns": null,
      "grid_template_rows": null,
      "height": null,
      "justify_content": null,
      "justify_items": null,
      "left": null,
      "margin": null,
      "max_height": null,
      "max_width": null,
      "min_height": null,
      "min_width": null,
      "object_fit": null,
      "object_position": null,
      "order": null,
      "overflow": null,
      "overflow_x": null,
      "overflow_y": null,
      "padding": null,
      "right": null,
      "top": null,
      "visibility": null,
      "width": null
     }
    },
    "f9d3525e4fc1436ca20c8ffca5b47bcd": {
     "model_module": "@jupyter-widgets/controls",
     "model_module_version": "1.5.0",
     "model_name": "HBoxModel",
     "state": {
      "_dom_classes": [],
      "_model_module": "@jupyter-widgets/controls",
      "_model_module_version": "1.5.0",
      "_model_name": "HBoxModel",
      "_view_count": null,
      "_view_module": "@jupyter-widgets/controls",
      "_view_module_version": "1.5.0",
      "_view_name": "HBoxView",
      "box_style": "",
      "children": [
       "IPY_MODEL_4244adf1363249e7bb6c85730933e903",
       "IPY_MODEL_39ab476a8ea24bea82e6441894684ae4",
       "IPY_MODEL_62bec2390d5c403daf1682d69e7a12d9"
      ],
      "layout": "IPY_MODEL_e41d53eb8b754af3980b6be0c819c39d"
     }
    },
    "fbcb5ef125d74292a1fb5b330829c71e": {
     "model_module": "@jupyter-widgets/controls",
     "model_module_version": "1.5.0",
     "model_name": "ProgressStyleModel",
     "state": {
      "_model_module": "@jupyter-widgets/controls",
      "_model_module_version": "1.5.0",
      "_model_name": "ProgressStyleModel",
      "_view_count": null,
      "_view_module": "@jupyter-widgets/base",
      "_view_module_version": "1.2.0",
      "_view_name": "StyleView",
      "bar_color": null,
      "description_width": ""
     }
    }
   }
  }
 },
 "nbformat": 4,
 "nbformat_minor": 1
}
