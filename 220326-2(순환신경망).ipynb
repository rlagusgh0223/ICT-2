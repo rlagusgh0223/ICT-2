{
 "cells": [
  {
   "cell_type": "markdown",
   "id": "5e1e61dc",
   "metadata": {},
   "source": [
    "100.00MB를 초과하면 github에 못 올린다는데 220326-1 파일 이후 올릴수가 없어서 폴더를 새로 만들었다"
   ]
  },
  {
   "cell_type": "markdown",
   "id": "9baa2aa2",
   "metadata": {},
   "source": [
    "## 사라지는 경사\n",
    "순환신경망 문제점 - 사라지는 경사(딥러닝 전반에 걸쳐서 나타나는 문제)  \n",
    "네트워크가 깊어지면 마지막 출력에서 오차가 발생하면 거슬러 올라오는 경우\n",
    "\n",
    "## LSTM과 GRU\n",
    "순환신경망에서 출력은 활성화 함수를 한번 거친다. 그러나 LSTM이랑 GRU는 거치지 않고 바로 넘겨준다  \n",
    "LSTM - 옆으로 넘어가는 신호가 2개 있다. 하나는 처리를 거치고 하나는 거치지 않는다  \n",
    "GRU - LSTM 단순화.  \n",
    "\n",
    "## 순환신경망의 방향 구조\n",
    "- 정방향, 역방향, 양방향(두 개의 신경망으로 각각 처리한 후 합쳐서 내보냄)\n",
    "\n",
    "## 순환신경망의 문제\n",
    "앞에 처리가 끝나야 다음 처리를 할 수 있다. - 순서대로 계산하므로 병렬 계산 불가. 계산 속도 느림  \n",
    "긴 문맥의 학습은 잘 되지 않음\n",
    "\n",
    "\n",
    "# 감성분석 실습"
   ]
  },
  {
   "cell_type": "markdown",
   "id": "48a9dae5",
   "metadata": {},
   "source": [
    "# 1. 데이터 준비"
   ]
  },
  {
   "cell_type": "code",
   "execution_count": 3,
   "id": "f1ed6252",
   "metadata": {},
   "outputs": [],
   "source": [
    "# 텐서플로우, 순환신경망, 감성분석\n",
    "import pandas as pd\n",
    "df = pd.read_csv(r'C:\\Users\\Owner\\Desktop\\khh\\git\\ICT\\imdb.zip')"
   ]
  },
  {
   "cell_type": "code",
   "execution_count": 4,
   "id": "a2a29cf7",
   "metadata": {},
   "outputs": [
    {
     "data": {
      "text/html": [
       "<div>\n",
       "<style scoped>\n",
       "    .dataframe tbody tr th:only-of-type {\n",
       "        vertical-align: middle;\n",
       "    }\n",
       "\n",
       "    .dataframe tbody tr th {\n",
       "        vertical-align: top;\n",
       "    }\n",
       "\n",
       "    .dataframe thead th {\n",
       "        text-align: right;\n",
       "    }\n",
       "</style>\n",
       "<table border=\"1\" class=\"dataframe\">\n",
       "  <thead>\n",
       "    <tr style=\"text-align: right;\">\n",
       "      <th></th>\n",
       "      <th>review</th>\n",
       "      <th>sentiment</th>\n",
       "    </tr>\n",
       "  </thead>\n",
       "  <tbody>\n",
       "    <tr>\n",
       "      <th>0</th>\n",
       "      <td>A very, very, very slow-moving, aimless movie ...</td>\n",
       "      <td>0</td>\n",
       "    </tr>\n",
       "    <tr>\n",
       "      <th>1</th>\n",
       "      <td>Not sure who was more lost - the flat characte...</td>\n",
       "      <td>0</td>\n",
       "    </tr>\n",
       "    <tr>\n",
       "      <th>2</th>\n",
       "      <td>Attempting artiness with black &amp; white and cle...</td>\n",
       "      <td>0</td>\n",
       "    </tr>\n",
       "    <tr>\n",
       "      <th>3</th>\n",
       "      <td>Very little music or anything to speak of.</td>\n",
       "      <td>0</td>\n",
       "    </tr>\n",
       "    <tr>\n",
       "      <th>4</th>\n",
       "      <td>The best scene in the movie was when Gerardo i...</td>\n",
       "      <td>1</td>\n",
       "    </tr>\n",
       "  </tbody>\n",
       "</table>\n",
       "</div>"
      ],
      "text/plain": [
       "                                              review  sentiment\n",
       "0  A very, very, very slow-moving, aimless movie ...          0\n",
       "1  Not sure who was more lost - the flat characte...          0\n",
       "2  Attempting artiness with black & white and cle...          0\n",
       "3         Very little music or anything to speak of.          0\n",
       "4  The best scene in the movie was when Gerardo i...          1"
      ]
     },
     "execution_count": 4,
     "metadata": {},
     "output_type": "execute_result"
    }
   ],
   "source": [
    "df.head()"
   ]
  },
  {
   "cell_type": "code",
   "execution_count": 5,
   "id": "4e38c8bc",
   "metadata": {},
   "outputs": [],
   "source": [
    "import joblib\n",
    "tk = joblib.load(r'C:\\Users\\Owner\\Desktop\\khh\\git\\ICT\\tokenizer.pkl')"
   ]
  },
  {
   "cell_type": "code",
   "execution_count": 6,
   "id": "d9916390",
   "metadata": {},
   "outputs": [],
   "source": [
    "from sklearn.model_selection import train_test_split\n",
    "review_train, review_test, y_train, y_test = train_test_split(df['review'], df['sentiment'],\n",
    "                                                             test_size=0.2, random_state=42)"
   ]
  },
  {
   "cell_type": "code",
   "execution_count": 7,
   "id": "92fd0542",
   "metadata": {},
   "outputs": [],
   "source": [
    "seqs = tk.texts_to_sequences(review_train)"
   ]
  },
  {
   "cell_type": "code",
   "execution_count": 8,
   "id": "b69fe88e",
   "metadata": {},
   "outputs": [
    {
     "data": {
      "text/plain": [
       "'It is an insane game.'"
      ]
     },
     "execution_count": 8,
     "metadata": {},
     "output_type": "execute_result"
    }
   ],
   "source": [
    "review_train.iloc[0]"
   ]
  },
  {
   "cell_type": "code",
   "execution_count": 9,
   "id": "d75e13cc",
   "metadata": {},
   "outputs": [
    {
     "data": {
      "text/plain": [
       "[9, 6, 33, 1258, 214]"
      ]
     },
     "execution_count": 9,
     "metadata": {},
     "output_type": "execute_result"
    }
   ],
   "source": [
    "seqs[0]    # 위의 문장을 숫자로 바꾸면"
   ]
  },
  {
   "cell_type": "code",
   "execution_count": 10,
   "id": "f7bdd4d9",
   "metadata": {},
   "outputs": [
    {
     "data": {
      "text/plain": [
       "[[9, 6, 33, 1258, 214],\n",
       " [178, 5, 28, 35, 23, 168, 713, 591, 3, 713, 1, 10, 1, 280],\n",
       " [206, 336, 4]]"
      ]
     },
     "execution_count": 10,
     "metadata": {},
     "output_type": "execute_result"
    }
   ],
   "source": [
    "seqs[:3]"
   ]
  },
  {
   "cell_type": "markdown",
   "id": "4b8006f7",
   "metadata": {},
   "source": [
    "# 2. 순방향 순환신경망"
   ]
  },
  {
   "cell_type": "code",
   "execution_count": 15,
   "id": "34bca057",
   "metadata": {},
   "outputs": [],
   "source": [
    "import tensorflow as tf\n",
    "pads = tf.keras.preprocessing.sequence.pad_sequences(seqs, maxlen=None,\n",
    "                                                     padding='pre', truncating='pre')\n",
    "# maxlen 기본값은 0, 만약 10을 넣어주면 10개까지만 받고 잘라줌\n",
    "# padding = pre : 앞에 0으로 채워줌\n",
    "# truncating: maxlen이 지정되어 있는 경우만 적용, pre니까 maxlen길이 넘어가면 앞에서 자름"
   ]
  },
  {
   "cell_type": "code",
   "execution_count": 16,
   "id": "d768a252",
   "metadata": {},
   "outputs": [
    {
     "data": {
      "text/plain": [
       "array([[   0,    0,    0,    0,    0,    0,    0,    0,    0,    0,    0,\n",
       "           0,    0,    0,    0,    0,    0,    0,    0,    0,    0,    0,\n",
       "           0,    0,    0,    0,    0,    0,    0,    0,    0,    0,    0,\n",
       "           0,    0,    0,    0,    0,    0,    0,    0,    0,    0,    0,\n",
       "           0,    0,    0,    0,    0,    0,    0,    0,    0,    0,    0,\n",
       "           0,    0,    0,    0,    0,    0,    0,    0,    0,    0,    0,\n",
       "           0,    0,    9,    6,   33, 1258,  214],\n",
       "       [   0,    0,    0,    0,    0,    0,    0,    0,    0,    0,    0,\n",
       "           0,    0,    0,    0,    0,    0,    0,    0,    0,    0,    0,\n",
       "           0,    0,    0,    0,    0,    0,    0,    0,    0,    0,    0,\n",
       "           0,    0,    0,    0,    0,    0,    0,    0,    0,    0,    0,\n",
       "           0,    0,    0,    0,    0,    0,    0,    0,    0,    0,    0,\n",
       "           0,    0,    0,    0,  178,    5,   28,   35,   23,  168,  713,\n",
       "         591,    3,  713,    1,   10,    1,  280],\n",
       "       [   0,    0,    0,    0,    0,    0,    0,    0,    0,    0,    0,\n",
       "           0,    0,    0,    0,    0,    0,    0,    0,    0,    0,    0,\n",
       "           0,    0,    0,    0,    0,    0,    0,    0,    0,    0,    0,\n",
       "           0,    0,    0,    0,    0,    0,    0,    0,    0,    0,    0,\n",
       "           0,    0,    0,    0,    0,    0,    0,    0,    0,    0,    0,\n",
       "           0,    0,    0,    0,    0,    0,    0,    0,    0,    0,    0,\n",
       "           0,    0,    0,    0,  206,  336,    4]])"
      ]
     },
     "execution_count": 16,
     "metadata": {},
     "output_type": "execute_result"
    }
   ],
   "source": [
    "pads[:3]"
   ]
  },
  {
   "cell_type": "code",
   "execution_count": 17,
   "id": "0921996e",
   "metadata": {
    "scrolled": true
   },
   "outputs": [
    {
     "data": {
      "text/plain": [
       "2001"
      ]
     },
     "execution_count": 17,
     "metadata": {},
     "output_type": "execute_result"
    }
   ],
   "source": [
    "# 단어의 개수\n",
    "NUM_WORDS = tk.num_words + 1\n",
    "NUM_WORDS"
   ]
  },
  {
   "cell_type": "code",
   "execution_count": 21,
   "id": "fd11ae4e",
   "metadata": {},
   "outputs": [],
   "source": [
    "# 모델 만들기\n",
    "model = tf.keras.Sequential([\n",
    "    tf.keras.layers.Embedding(NUM_WORDS, 8, mask_zero=True),# Output Shape에 보면(800, 73, 8)이다. (800, 73)의 문장을 받은거니까\n",
    "    tf.keras.layers.LSTM(8),\n",
    "    tf.keras.layers.Dense(1, activation='sigmoid')\n",
    "])"
   ]
  },
  {
   "cell_type": "code",
   "execution_count": 22,
   "id": "48850c78",
   "metadata": {},
   "outputs": [
    {
     "data": {
      "text/plain": [
       "(800, (800, 73))"
      ]
     },
     "execution_count": 22,
     "metadata": {},
     "output_type": "execute_result"
    }
   ],
   "source": [
    "len(pads), pads.shape"
   ]
  },
  {
   "cell_type": "code",
   "execution_count": 23,
   "id": "fd955e80",
   "metadata": {},
   "outputs": [
    {
     "name": "stdout",
     "output_type": "stream",
     "text": [
      "Model: \"sequential_1\"\n",
      "_________________________________________________________________\n",
      "Layer (type)                 Output Shape              Param #   \n",
      "=================================================================\n",
      "embedding_1 (Embedding)      (None, None, 8)           16008     \n",
      "_________________________________________________________________\n",
      "lstm_1 (LSTM)                (None, 8)                 544       \n",
      "_________________________________________________________________\n",
      "dense_1 (Dense)              (None, 1)                 9         \n",
      "=================================================================\n",
      "Total params: 16,561\n",
      "Trainable params: 16,561\n",
      "Non-trainable params: 0\n",
      "_________________________________________________________________\n"
     ]
    }
   ],
   "source": [
    "model.summary()"
   ]
  },
  {
   "cell_type": "code",
   "execution_count": 24,
   "id": "0ff65161",
   "metadata": {},
   "outputs": [],
   "source": [
    "model.compile(loss='binary_crossentropy', optimizer='adam', metrics=['accuracy'])"
   ]
  },
  {
   "cell_type": "code",
   "execution_count": 25,
   "id": "d0cfb7f9",
   "metadata": {},
   "outputs": [
    {
     "name": "stdout",
     "output_type": "stream",
     "text": [
      "Epoch 1/10\n",
      "25/25 [==============================] - 2s 11ms/step - loss: 0.6929 - accuracy: 0.5362\n",
      "Epoch 2/10\n",
      "25/25 [==============================] - 0s 11ms/step - loss: 0.6895 - accuracy: 0.7212\n",
      "Epoch 3/10\n",
      "25/25 [==============================] - 0s 11ms/step - loss: 0.6817 - accuracy: 0.7825\n",
      "Epoch 4/10\n",
      "25/25 [==============================] - 0s 10ms/step - loss: 0.6595 - accuracy: 0.8000\n",
      "Epoch 5/10\n",
      "25/25 [==============================] - 0s 10ms/step - loss: 0.5821 - accuracy: 0.8175\n",
      "Epoch 6/10\n",
      "25/25 [==============================] - 0s 10ms/step - loss: 0.4723 - accuracy: 0.8375\n",
      "Epoch 7/10\n",
      "25/25 [==============================] - 0s 10ms/step - loss: 0.3598 - accuracy: 0.9162\n",
      "Epoch 8/10\n",
      "25/25 [==============================] - 0s 10ms/step - loss: 0.2838 - accuracy: 0.9400\n",
      "Epoch 9/10\n",
      "25/25 [==============================] - 0s 10ms/step - loss: 0.2302 - accuracy: 0.9575\n",
      "Epoch 10/10\n",
      "25/25 [==============================] - 0s 10ms/step - loss: 0.2078 - accuracy: 0.9625\n"
     ]
    },
    {
     "data": {
      "text/plain": [
       "<tensorflow.python.keras.callbacks.History at 0x26750e57b20>"
      ]
     },
     "execution_count": 25,
     "metadata": {},
     "output_type": "execute_result"
    }
   ],
   "source": [
    "model.fit(pads, y_train.values, epochs=10)"
   ]
  },
  {
   "cell_type": "markdown",
   "id": "3b606cbc",
   "metadata": {},
   "source": [
    "# 3. 역방향 순환신경망"
   ]
  },
  {
   "cell_type": "code",
   "execution_count": 29,
   "id": "b0ab0393",
   "metadata": {},
   "outputs": [],
   "source": [
    "model = tf.keras.Sequential([\n",
    "    tf.keras.layers.Embedding(NUM_WORDS, 8, mask_zero=True),\n",
    "    tf.keras.layers.LSTM(8, go_backwards=True),    # go_backwords=True : 역방향 순환신경망\n",
    "    tf.keras.layers.Dense(1, activation='sigmoid')\n",
    "])"
   ]
  },
  {
   "cell_type": "code",
   "execution_count": 30,
   "id": "bfe8e0a2",
   "metadata": {},
   "outputs": [],
   "source": [
    "# 나머지는 순방향 순환신경망과 동일하다\n",
    "model.compile(loss='binary_crossentropy', optimizer='adam', metrics=['accuracy'])"
   ]
  },
  {
   "cell_type": "code",
   "execution_count": 31,
   "id": "6674151e",
   "metadata": {},
   "outputs": [
    {
     "name": "stdout",
     "output_type": "stream",
     "text": [
      "Epoch 1/10\n",
      "25/25 [==============================] - 2s 10ms/step - loss: 0.6931 - accuracy: 0.5025\n",
      "Epoch 2/10\n",
      "25/25 [==============================] - 0s 10ms/step - loss: 0.6897 - accuracy: 0.6275\n",
      "Epoch 3/10\n",
      "25/25 [==============================] - 0s 10ms/step - loss: 0.6832 - accuracy: 0.7200\n",
      "Epoch 4/10\n",
      "25/25 [==============================] - 0s 10ms/step - loss: 0.6672 - accuracy: 0.7663\n",
      "Epoch 5/10\n",
      "25/25 [==============================] - 0s 10ms/step - loss: 0.6138 - accuracy: 0.8475\n",
      "Epoch 6/10\n",
      "25/25 [==============================] - 0s 10ms/step - loss: 0.4894 - accuracy: 0.8587\n",
      "Epoch 7/10\n",
      "25/25 [==============================] - 0s 10ms/step - loss: 0.3849 - accuracy: 0.8950\n",
      "Epoch 8/10\n",
      "25/25 [==============================] - 0s 10ms/step - loss: 0.3130 - accuracy: 0.9275\n",
      "Epoch 9/10\n",
      "25/25 [==============================] - 0s 11ms/step - loss: 0.2602 - accuracy: 0.9413\n",
      "Epoch 10/10\n",
      "25/25 [==============================] - 0s 11ms/step - loss: 0.2207 - accuracy: 0.9575\n"
     ]
    },
    {
     "data": {
      "text/plain": [
       "<tensorflow.python.keras.callbacks.History at 0x267554a54f0>"
      ]
     },
     "execution_count": 31,
     "metadata": {},
     "output_type": "execute_result"
    }
   ],
   "source": [
    "model.fit(pads, y_train.values, epochs=10)"
   ]
  },
  {
   "cell_type": "code",
   "execution_count": 32,
   "id": "6583dff2",
   "metadata": {},
   "outputs": [],
   "source": [
    "# padding='post'로\n",
    "pads = tf.keras.preprocessing.sequence.pad_sequences(seqs, padding='post')"
   ]
  },
  {
   "cell_type": "code",
   "execution_count": 33,
   "id": "50af8865",
   "metadata": {},
   "outputs": [],
   "source": [
    "model = tf.keras.Sequential([\n",
    "    tf.keras.layers.Embedding(NUM_WORDS, 8, mask_zero=True),\n",
    "    tf.keras.layers.LSTM(8, go_backwards=True),\n",
    "    tf.keras.layers.Dense(1, activation='sigmoid')\n",
    "])"
   ]
  },
  {
   "cell_type": "code",
   "execution_count": 34,
   "id": "533fd54a",
   "metadata": {},
   "outputs": [],
   "source": [
    "model.compile(loss='binary_crossentropy', optimizer='adam', metrics=['accuracy'])"
   ]
  },
  {
   "cell_type": "code",
   "execution_count": 35,
   "id": "81451873",
   "metadata": {},
   "outputs": [
    {
     "name": "stdout",
     "output_type": "stream",
     "text": [
      "Epoch 1/10\n",
      "25/25 [==============================] - 2s 10ms/step - loss: 0.6926 - accuracy: 0.5487\n",
      "Epoch 2/10\n",
      "25/25 [==============================] - 0s 10ms/step - loss: 0.6854 - accuracy: 0.7400\n",
      "Epoch 3/10\n",
      "25/25 [==============================] - 0s 10ms/step - loss: 0.6630 - accuracy: 0.7600\n",
      "Epoch 4/10\n",
      "25/25 [==============================] - 0s 10ms/step - loss: 0.5924 - accuracy: 0.8438\n",
      "Epoch 5/10\n",
      "25/25 [==============================] - 0s 10ms/step - loss: 0.4764 - accuracy: 0.8863\n",
      "Epoch 6/10\n",
      "25/25 [==============================] - 0s 10ms/step - loss: 0.3712 - accuracy: 0.9262\n",
      "Epoch 7/10\n",
      "25/25 [==============================] - 0s 10ms/step - loss: 0.2918 - accuracy: 0.9413\n",
      "Epoch 8/10\n",
      "25/25 [==============================] - 0s 10ms/step - loss: 0.2673 - accuracy: 0.9400\n",
      "Epoch 9/10\n",
      "25/25 [==============================] - 0s 10ms/step - loss: 0.2309 - accuracy: 0.9563\n",
      "Epoch 10/10\n",
      "25/25 [==============================] - 0s 10ms/step - loss: 0.2021 - accuracy: 0.9625\n"
     ]
    },
    {
     "data": {
      "text/plain": [
       "<tensorflow.python.keras.callbacks.History at 0x267587557f0>"
      ]
     },
     "execution_count": 35,
     "metadata": {},
     "output_type": "execute_result"
    }
   ],
   "source": [
    "model.fit(pads, y_train.values, epochs=10)"
   ]
  },
  {
   "cell_type": "markdown",
   "id": "c6dc7aa6",
   "metadata": {},
   "source": [
    "# 4. 양방향 순환신경망"
   ]
  },
  {
   "cell_type": "code",
   "execution_count": 36,
   "id": "e0883110",
   "metadata": {},
   "outputs": [],
   "source": [
    "# Bidirectional(tf.keras.layers.LSTM(8)) : 양방향 순환신경망\n",
    "model = tf.keras.Sequential([\n",
    "    tf.keras.layers.Embedding(NUM_WORDS, 8, mask_zero=True),\n",
    "    tf.keras.layers.Bidirectional(tf.keras.layers.LSTM(8)),\n",
    "    tf.keras.layers.Dense(1, activation='sigmoid')\n",
    "])"
   ]
  },
  {
   "cell_type": "code",
   "execution_count": 37,
   "id": "aac09a8e",
   "metadata": {},
   "outputs": [
    {
     "name": "stdout",
     "output_type": "stream",
     "text": [
      "Model: \"sequential_5\"\n",
      "_________________________________________________________________\n",
      "Layer (type)                 Output Shape              Param #   \n",
      "=================================================================\n",
      "embedding_5 (Embedding)      (None, None, 8)           16008     \n",
      "_________________________________________________________________\n",
      "bidirectional (Bidirectional (None, 16)                1088      \n",
      "_________________________________________________________________\n",
      "dense_5 (Dense)              (None, 1)                 17        \n",
      "=================================================================\n",
      "Total params: 17,113\n",
      "Trainable params: 17,113\n",
      "Non-trainable params: 0\n",
      "_________________________________________________________________\n"
     ]
    }
   ],
   "source": [
    "model.summary()"
   ]
  },
  {
   "cell_type": "code",
   "execution_count": 38,
   "id": "dfe82962",
   "metadata": {},
   "outputs": [],
   "source": [
    "model.compile(loss='binary_crossentropy', optimizer='adam', metrics=['accuracy'])"
   ]
  },
  {
   "cell_type": "code",
   "execution_count": 39,
   "id": "7b9c6204",
   "metadata": {},
   "outputs": [
    {
     "name": "stdout",
     "output_type": "stream",
     "text": [
      "Epoch 1/10\n",
      "25/25 [==============================] - 3s 12ms/step - loss: 0.6920 - accuracy: 0.5387\n",
      "Epoch 2/10\n",
      "25/25 [==============================] - 0s 12ms/step - loss: 0.6854 - accuracy: 0.7375\n",
      "Epoch 3/10\n",
      "25/25 [==============================] - 0s 12ms/step - loss: 0.6698 - accuracy: 0.7912\n",
      "Epoch 4/10\n",
      "25/25 [==============================] - 0s 12ms/step - loss: 0.6212 - accuracy: 0.8175\n",
      "Epoch 5/10\n",
      "25/25 [==============================] - 0s 12ms/step - loss: 0.4815 - accuracy: 0.8625\n",
      "Epoch 6/10\n",
      "25/25 [==============================] - 0s 12ms/step - loss: 0.3264 - accuracy: 0.9062\n",
      "Epoch 7/10\n",
      "25/25 [==============================] - 0s 12ms/step - loss: 0.2268 - accuracy: 0.9513\n",
      "Epoch 8/10\n",
      "25/25 [==============================] - 0s 12ms/step - loss: 0.1681 - accuracy: 0.9650\n",
      "Epoch 9/10\n",
      "25/25 [==============================] - 0s 12ms/step - loss: 0.1355 - accuracy: 0.9700\n",
      "Epoch 10/10\n",
      "25/25 [==============================] - 0s 12ms/step - loss: 0.1157 - accuracy: 0.9750\n"
     ]
    },
    {
     "data": {
      "text/plain": [
       "<tensorflow.python.keras.callbacks.History at 0x2675ef62910>"
      ]
     },
     "execution_count": 39,
     "metadata": {},
     "output_type": "execute_result"
    }
   ],
   "source": [
    "model.fit(pads, y_train.values, epochs=10)"
   ]
  },
  {
   "cell_type": "markdown",
   "id": "d602132e",
   "metadata": {},
   "source": [
    "# 자연어 생성 소개\n",
    "자연어 처리의 두 분야 - 자연어 이해/생성\n",
    "  \n",
    "  \n",
    "## 자연어 이해\n",
    "일반 사람의 언어에서 듣기나 읽기에 해당  \n",
    "사람의 언어로 듣거나 텍스트로 입력 받음 ex) 감성 분석 - 텍스트를 긍/부정으로 분류하거나 점수 매김\n",
    "  \n",
    "  \n",
    "## 자연어 생성\n",
    "일반 사람의 언어에서 말하거나 쓰기에 해당  \n",
    "자연어 생성 방법 : 규칙기반 / 기계학습 / 혼합  \n",
    "### 규칙 기반\n",
    "- 자연어 생성을 여러 단계로 분할\n",
    "- 장점 : 일일히 프로그램을 짜기 때문에 각각의 과정을 세세하게 구성할 수 있다\n",
    "- 단점 : 일일히 프로그램을 짜기 때문에 많은 노력이 필요하고 자연스러운 문장 만들기 어렵다."
   ]
  },
  {
   "cell_type": "code",
   "execution_count": null,
   "id": "84a32667",
   "metadata": {},
   "outputs": [],
   "source": []
  }
 ],
 "metadata": {
  "kernelspec": {
   "display_name": "Python 3",
   "language": "python",
   "name": "python3"
  },
  "language_info": {
   "codemirror_mode": {
    "name": "ipython",
    "version": 3
   },
   "file_extension": ".py",
   "mimetype": "text/x-python",
   "name": "python",
   "nbconvert_exporter": "python",
   "pygments_lexer": "ipython3",
   "version": "3.8.8"
  }
 },
 "nbformat": 4,
 "nbformat_minor": 5
}
