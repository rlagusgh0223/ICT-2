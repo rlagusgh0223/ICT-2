{
 "cells": [
  {
   "cell_type": "code",
   "execution_count": 1,
   "id": "84034c80",
   "metadata": {},
   "outputs": [],
   "source": [
    "import pandas as pd\n",
    "\n",
    "data = pd.read_table('KETI_대화데이터_일상_오피스.txt', sep='\\t', header=None)"
   ]
  },
  {
   "cell_type": "code",
   "execution_count": 2,
   "id": "48ed3b61",
   "metadata": {},
   "outputs": [],
   "source": [
    "hello = data.loc[data[0]==1]\n",
    "res = data.loc[data[0]==2]"
   ]
  },
  {
   "cell_type": "code",
   "execution_count": 3,
   "id": "9e927e6b",
   "metadata": {},
   "outputs": [],
   "source": [
    "from konlpy.tag import Okt\n",
    "tokenizer = Okt()"
   ]
  },
  {
   "cell_type": "code",
   "execution_count": 4,
   "id": "e937825e",
   "metadata": {},
   "outputs": [],
   "source": [
    "data_list = []\n",
    "i = 0\n",
    "for word in hello[1]:\n",
    "    test = tokenizer.morphs(word)\n",
    "    t = test[0]\n",
    "    for i in range(1, len(test)):\n",
    "        if test[i] == '.' :\n",
    "            continue\n",
    "        t += ' ' + test[i]\n",
    "    data_list.append(t)"
   ]
  },
  {
   "cell_type": "code",
   "execution_count": 5,
   "id": "e1039d0c",
   "metadata": {},
   "outputs": [],
   "source": [
    "data_list = pd.DataFrame(data_list)"
   ]
  },
  {
   "cell_type": "code",
   "execution_count": 6,
   "id": "f1b12f23",
   "metadata": {},
   "outputs": [],
   "source": [
    "hello.reset_index(inplace=True)\n",
    "res.reset_index(inplace=True)\n",
    "data_list.reset_index(inplace=True)"
   ]
  },
  {
   "cell_type": "code",
   "execution_count": 7,
   "id": "478482d6",
   "metadata": {},
   "outputs": [],
   "source": [
    "data0417 = pd.concat([hello[1], data_list, res[1]], axis=1)\n",
    "data0417 = data0417.drop(['index'], axis=1)\n",
    "data0417.columns = ['request', 'rule', 'response']"
   ]
  },
  {
   "cell_type": "code",
   "execution_count": 8,
   "id": "26cf6d45",
   "metadata": {},
   "outputs": [],
   "source": [
    "data0417.to_csv('data0417.csv')"
   ]
  },
  {
   "cell_type": "code",
   "execution_count": 9,
   "id": "be985b52",
   "metadata": {},
   "outputs": [
    {
     "name": "stdout",
     "output_type": "stream",
     "text": [
      "대화를 입력해보세요 : 안녕\n",
      "jarvis :  안녕하세요.\n",
      "대화를 입력해보세요 : 미세먼지\n",
      "jarvis :  마스크를 착용하시는게 좋을 것 같아요.\n",
      "대화를 입력해보세요 : exit\n"
     ]
    }
   ],
   "source": [
    "import pandas as pd\n",
    "import random\n",
    "chatbot_data = pd.read_csv('data0417.csv')\n",
    "chat_dic = {}\n",
    "row = 0\n",
    "\n",
    "for rule in chatbot_data['rule']:\n",
    "    chat_dic[row] = rule.split(' ')\n",
    "    row += 1\n",
    "    \n",
    "def chat(request):\n",
    "    # 문장으로 찾기============================\n",
    "    for k, v in chat_dic.items():\n",
    "        index = -1\n",
    "        for word in v:\n",
    "            try:\n",
    "                if index == -1:\n",
    "                    index = request.index(word)\n",
    "                else:\n",
    "                    if index < request.index(word, index):\n",
    "                        index = request.index(word, index)\n",
    "                    else:\n",
    "                        index = -1\n",
    "                        break\n",
    "            except ValueError:\n",
    "                index = -1\n",
    "                break\n",
    "        if index > -1:\n",
    "            return chatbot_data['response'][k]\n",
    "        \n",
    "    # 단어로 찾기=============================\n",
    "    number = []\n",
    "    for k, v in chat_dic.items():\n",
    "        if request in v:\n",
    "            number.append(k)\n",
    "    \n",
    "    if len(number) != 0:\n",
    "        num = random.choice(number)\n",
    "        return chatbot_data['response'][num]\n",
    "    #==========================================\n",
    "    \n",
    "    return '무슨 말인지 모르겠어요'\n",
    "\n",
    "while True:\n",
    "    req = input('대화를 입력해보세요 : ')\n",
    "    if req == 'exit':\n",
    "        break\n",
    "    else:\n",
    "        print(\"jarvis : \", chat(req))"
   ]
  }
 ],
 "metadata": {
  "kernelspec": {
   "display_name": "Python 3 (ipykernel)",
   "language": "python",
   "name": "python3"
  },
  "language_info": {
   "codemirror_mode": {
    "name": "ipython",
    "version": 3
   },
   "file_extension": ".py",
   "mimetype": "text/x-python",
   "name": "python",
   "nbconvert_exporter": "python",
   "pygments_lexer": "ipython3",
   "version": "3.9.7"
  }
 },
 "nbformat": 4,
 "nbformat_minor": 5
}
